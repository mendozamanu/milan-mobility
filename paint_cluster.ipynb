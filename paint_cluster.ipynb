{
 "cells": [
  {
   "cell_type": "code",
   "execution_count": 1,
   "id": "d2755cd9",
   "metadata": {},
   "outputs": [],
   "source": [
    "import geojson\n",
    "import geopandas as gpd\n",
    "import random\n",
    "\n",
    "import pandas as pd\n",
    "import seaborn as sns\n",
    "import numpy as np\n",
    "import matplotlib.pyplot as plt\n",
    "import matplotlib as mpl\n",
    "import matplotlib.colors as colors"
   ]
  },
  {
   "cell_type": "code",
   "execution_count": 2,
   "id": "39137149",
   "metadata": {},
   "outputs": [],
   "source": [
    "data = pd.read_csv('./csv/predict_full_kmedclust.csv')\n",
    "\n",
    "with open(\"./geojsons/milano-grid.geojson\") as json_file:\n",
    "    json_data = geojson.load(json_file)"
   ]
  },
  {
   "cell_type": "code",
   "execution_count": 3,
   "id": "e9ae06cf",
   "metadata": {},
   "outputs": [
    {
     "name": "stdout",
     "output_type": "stream",
     "text": [
      "['#727B3C', '#9945D2', '#2F184D', '#85BECC', '#D47F21']\n"
     ]
    }
   ],
   "source": [
    "from random import randint\n",
    "colors = []\n",
    "\n",
    "for i in range(0, data.cluster.max()+1):\n",
    "    colors.append('#%06X' % randint(0, 0xFFFFFF))\n",
    "print(colors)"
   ]
  },
  {
   "cell_type": "code",
   "execution_count": 4,
   "id": "60086471",
   "metadata": {},
   "outputs": [],
   "source": [
    "for i in range(0, len(data)):\n",
    "    json_data.features[data.loc[i].cellid-1].properties = {\n",
    "        #\"stroke\": colors.to_hex([ 0.9,0.05, 0.0, 0.5 ], keep_alpha = True),\n",
    "        \"fill\": colors[data.loc[i].cluster],\n",
    "        \"fill-opacity\": 0.4,\n",
    "        \"stroke-width\": 1.5,\n",
    "        \"stroke-opacity\": 0.5,\n",
    "        \"cellId\": int(data.loc[i].cellid)\n",
    "    }"
   ]
  },
  {
   "cell_type": "code",
   "execution_count": 5,
   "id": "0c509bb8",
   "metadata": {},
   "outputs": [],
   "source": [
    "with open(\"./geojsons/clusterfullgrkmd5calloutwk.geojson\", \"w\") as json_file:\n",
    "    geojson.dump(json_data, json_file)"
   ]
  }
 ],
 "metadata": {
  "kernelspec": {
   "display_name": "Python 3",
   "language": "python",
   "name": "python3"
  },
  "language_info": {
   "codemirror_mode": {
    "name": "ipython",
    "version": 3
   },
   "file_extension": ".py",
   "mimetype": "text/x-python",
   "name": "python",
   "nbconvert_exporter": "python",
   "pygments_lexer": "ipython3",
   "version": "3.8.5"
  }
 },
 "nbformat": 4,
 "nbformat_minor": 5
}
