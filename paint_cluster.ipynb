{
 "cells": [
  {
   "cell_type": "code",
   "execution_count": 1,
   "id": "d2755cd9",
   "metadata": {},
   "outputs": [],
   "source": [
    "import geojson\n",
    "import geopandas as gpd\n",
    "import random\n",
    "\n",
    "import pandas as pd\n",
    "import seaborn as sns\n",
    "import numpy as np\n",
    "import matplotlib.pyplot as plt\n",
    "import matplotlib as mpl\n",
    "import matplotlib.colors as colors"
   ]
  },
  {
   "cell_type": "code",
   "execution_count": 2,
   "id": "39137149",
   "metadata": {},
   "outputs": [],
   "source": [
    "data = pd.read_csv('./csv/clust_fullgrid_tn.csv')\n",
    "\n",
    "with open(\"./geojsons/trentino-grid.geojson\") as json_file:\n",
    "    json_data = geojson.load(json_file)"
   ]
  },
  {
   "cell_type": "code",
   "execution_count": 3,
   "id": "e9ae06cf",
   "metadata": {},
   "outputs": [
    {
     "name": "stdout",
     "output_type": "stream",
     "text": [
      "['#CDB990', '#909F50', '#ECD6DA', '#B751A2', '#A3424D']\n"
     ]
    }
   ],
   "source": [
    "from random import randint\n",
    "colors = []\n",
    "\n",
    "for i in range(0, data.predicted.max()+1):\n",
    "    colors.append('#%06X' % randint(0, 0xFFFFFF))\n",
    "print(colors)"
   ]
  },
  {
   "cell_type": "code",
   "execution_count": 4,
   "id": "9d066437",
   "metadata": {},
   "outputs": [],
   "source": [
    "data.cellid = data['cellid'].values.astype(int)\n",
    "data=data.sort_values(by=['predicted', 'cellid'])"
   ]
  },
  {
   "cell_type": "code",
   "execution_count": 5,
   "id": "60086471",
   "metadata": {},
   "outputs": [],
   "source": [
    "for i in range(0, len(data)):\n",
    "    json_data.features[i].properties = {\n",
    "        #\"stroke\": colors.to_hex([ 0.9,0.05, 0.0, 0.5 ], keep_alpha = True),\n",
    "        \"fill\": colors[data.iloc[i].predicted],\n",
    "        \"fill-opacity\": 0.4,\n",
    "        \"stroke-width\": 1.5,\n",
    "        \"stroke-opacity\": 0.5,\n",
    "        \"cellId\": int(data.iloc[i].cellid)\n",
    "    }"
   ]
  },
  {
   "cell_type": "code",
   "execution_count": 6,
   "id": "0c509bb8",
   "metadata": {},
   "outputs": [],
   "source": [
    "with open(\"./geojsons/clust-trento.geojson\", \"w\") as json_file:\n",
    "    geojson.dump(json_data, json_file)"
   ]
  }
 ],
 "metadata": {
  "kernelspec": {
   "display_name": "Python 3",
   "language": "python",
   "name": "python3"
  },
  "language_info": {
   "codemirror_mode": {
    "name": "ipython",
    "version": 3
   },
   "file_extension": ".py",
   "mimetype": "text/x-python",
   "name": "python",
   "nbconvert_exporter": "python",
   "pygments_lexer": "ipython3",
   "version": "3.8.5"
  }
 },
 "nbformat": 4,
 "nbformat_minor": 5
}
