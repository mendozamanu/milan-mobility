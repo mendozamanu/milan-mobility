{
 "cells": [
  {
   "cell_type": "code",
   "execution_count": 1,
   "id": "opened-blood",
   "metadata": {},
   "outputs": [],
   "source": [
    "import pandas as pd\n",
    "import numpy as np\n",
    "from sklearn.preprocessing import MinMaxScaler"
   ]
  },
  {
   "cell_type": "code",
   "execution_count": 2,
   "id": "august-solution",
   "metadata": {},
   "outputs": [],
   "source": [
    "dfs = pd.DataFrame({})\n",
    "\n",
    "for i in range(4,10):\n",
    "    df = pd.read_csv('./csv/sms-call-internet-mi-2013-11-0{}.csv'.format(i), parse_dates=['time'])\n",
    "    dfs = dfs.append(df)\n",
    "df = pd.read_csv('./csv/sms-call-internet-mi-2013-11-10.csv', parse_dates=['time'])\n",
    "dfs = dfs.append(df)\n",
    "dfs = dfs.fillna(0)"
   ]
  },
  {
   "cell_type": "code",
   "execution_count": 3,
   "id": "opponent-central",
   "metadata": {},
   "outputs": [
    {
     "name": "stdout",
     "output_type": "stream",
     "text": [
      "           hour  cellid     smsin    smsout    callin   callout   internet\n",
      "0             0       1  0.134176  0.030875  0.026137  0.055225   9.260190\n",
      "1             0       2  0.136613  0.029144  0.027356  0.055578   9.282384\n",
      "2             0       3  0.139208  0.027300  0.028653  0.055954   9.306009\n",
      "3             0       4  0.127117  0.035890  0.022608  0.054203   9.195904\n",
      "4             0       5  0.114418  0.033496  0.021727  0.050303   8.312392\n",
      "...         ...     ...       ...       ...       ...       ...        ...\n",
      "10079846  10070    9996  0.292904  1.047605  0.178533  0.453114  38.491634\n",
      "10079847  10070    9997  0.257984  1.034799  0.171990  0.533672  38.994166\n",
      "10079848  10070    9998  0.257984  1.034919  0.171990  0.520073  38.959929\n",
      "10079849  10070    9999  0.346751  0.725508  0.171990  0.237047  27.247603\n",
      "10079850  10070   10000  0.466230  0.439523  0.171990  0.090769  19.402621\n",
      "\n",
      "[10079851 rows x 7 columns]\n"
     ]
    }
   ],
   "source": [
    "#Group by hours and aggregate values according to each cell/hour\n",
    "dfgr = dfs[['cellid', 'time', 'smsin','smsout', 'callin','callout', 'internet']].groupby(['time', 'cellid'], as_index=False).sum()\n",
    "#dfgr['hour'] = dfgr.time.dt.hour+24*(dfgr.time.dt.day-4)\n",
    "dfgr['hour'] = dfgr.time.dt.hour*60+24*60*(dfgr.time.dt.day-4)+dfgr.time.dt.minute\n",
    "dfgg = dfgr[['hour', 'cellid', 'time', 'smsin','smsout', 'callin','callout', 'internet']].groupby(['hour', 'cellid'], as_index=False).sum()\n",
    "#dfgg = dfgg.set_index(['hour']).sort_index()\n",
    "del df\n",
    "del dfs\n",
    "print(dfgg)\n",
    "\n",
    "#Group by hours and aggregate values according to the hour\n",
    "#dfgr = dfs[['cellid', 'time', 'smsin','smsout', 'callin','callout', 'internet']].groupby(['time', 'cellid'], as_index=False).sum()\n",
    "#dfgr['hour'] = dfgr.time.dt.hour+24*(dfgr.time.dt.day-1)\n",
    "#dfgg = dfgr[['hour', 'time', 'smsin','smsout', 'callin','callout', 'internet']].groupby(['hour'], as_index=False).sum()\n",
    "#dfgg = dfgg.set_index(['hour']).sort_index()\n",
    "#print(dfgg)"
   ]
  },
  {
   "cell_type": "code",
   "execution_count": 4,
   "id": "0a4dd691",
   "metadata": {},
   "outputs": [
    {
     "name": "stdout",
     "output_type": "stream",
     "text": [
      "[4263, 4264, 4265, 4266, 4267, 4268, 4269, 4270, 4271, 4272, 4273, 4274, 4275, 4276, 4277, 4278, 4279, 4280, 4281, 4282, 4363, 4364, 4365, 4366, 4367, 4368, 4369, 4370, 4371, 4372, 4373, 4374, 4375, 4376, 4377, 4378, 4379, 4380, 4381, 4382, 4463, 4464, 4465, 4466, 4467, 4468, 4469, 4470, 4471, 4472, 4473, 4474, 4475, 4476, 4477, 4478, 4479, 4480, 4481, 4482, 4563, 4564, 4565, 4566, 4567, 4568, 4569, 4570, 4571, 4572, 4573, 4574, 4575, 4576, 4577, 4578, 4579, 4580, 4581, 4582, 4663, 4664, 4665, 4666, 4667, 4668, 4669, 4670, 4671, 4672, 4673, 4674, 4675, 4676, 4677, 4678, 4679, 4680, 4681, 4682, 4763, 4764, 4765, 4766, 4767, 4768, 4769, 4770, 4771, 4772, 4773, 4774, 4775, 4776, 4777, 4778, 4779, 4780, 4781, 4782, 4863, 4864, 4865, 4866, 4867, 4868, 4869, 4870, 4871, 4872, 4873, 4874, 4875, 4876, 4877, 4878, 4879, 4880, 4881, 4882, 4963, 4964, 4965, 4966, 4967, 4968, 4969, 4970, 4971, 4972, 4973, 4974, 4975, 4976, 4977, 4978, 4979, 4980, 4981, 4982, 5063, 5064, 5065, 5066, 5067, 5068, 5069, 5070, 5071, 5072, 5073, 5074, 5075, 5076, 5077, 5078, 5079, 5080, 5081, 5082, 5163, 5164, 5165, 5166, 5167, 5168, 5169, 5170, 5171, 5172, 5173, 5174, 5175, 5176, 5177, 5178, 5179, 5180, 5181, 5182, 5263, 5264, 5265, 5266, 5267, 5268, 5269, 5270, 5271, 5272, 5273, 5274, 5275, 5276, 5277, 5278, 5279, 5280, 5281, 5282, 5363, 5364, 5365, 5366, 5367, 5368, 5369, 5370, 5371, 5372, 5373, 5374, 5375, 5376, 5377, 5378, 5379, 5380, 5381, 5382, 5463, 5464, 5465, 5466, 5467, 5468, 5469, 5470, 5471, 5472, 5473, 5474, 5475, 5476, 5477, 5478, 5479, 5480, 5481, 5482, 5563, 5564, 5565, 5566, 5567, 5568, 5569, 5570, 5571, 5572, 5573, 5574, 5575, 5576, 5577, 5578, 5579, 5580, 5581, 5582, 5663, 5664, 5665, 5666, 5667, 5668, 5669, 5670, 5671, 5672, 5673, 5674, 5675, 5676, 5677, 5678, 5679, 5680, 5681, 5682, 5763, 5764, 5765, 5766, 5767, 5768, 5769, 5770, 5771, 5772, 5773, 5774, 5775, 5776, 5777, 5778, 5779, 5780, 5781, 5782, 5863, 5864, 5865, 5866, 5867, 5868, 5869, 5870, 5871, 5872, 5873, 5874, 5875, 5876, 5877, 5878, 5879, 5880, 5881, 5882, 5963, 5964, 5965, 5966, 5967, 5968, 5969, 5970, 5971, 5972, 5973, 5974, 5975, 5976, 5977, 5978, 5979, 5980, 5981, 5982, 6063, 6064, 6065, 6066, 6067, 6068, 6069, 6070, 6071, 6072, 6073, 6074, 6075, 6076, 6077, 6078, 6079, 6080, 6081, 6082, 6163, 6164, 6165, 6166, 6167, 6168, 6169, 6170, 6171, 6172, 6173, 6174, 6175, 6176, 6177, 6178, 6179, 6180, 6181, 6182]\n"
     ]
    }
   ],
   "source": [
    "l=[] #choosen cells on 20x20 grid\n",
    "for i in range(4263,6173,100):\n",
    "    for j in range(i,i+20):\n",
    "        l.append(j)\n",
    "#print(l)"
   ]
  },
  {
   "cell_type": "code",
   "execution_count": null,
   "id": "quiet-circulation",
   "metadata": {
    "scrolled": true
   },
   "outputs": [],
   "source": [
    "df20 = pd.DataFrame({})\n",
    "for el in dfgg.iterrows():\n",
    "    if(l.count(int(el[1].cellid))==1):\n",
    "        tmp = pd.DataFrame([[(el[1].hour), int(el[1].cellid), el[1].smsin, el[1].smsout, el[1].callin, el[1].callout, el[1].internet]], columns=['hour', 'cellid', 'smsin','smsout', 'callin','callout', 'internet'])\n",
    "        df20=df20.append(tmp)"
   ]
  },
  {
   "cell_type": "code",
   "execution_count": null,
   "id": "251dfdbb",
   "metadata": {},
   "outputs": [],
   "source": [
    "df20 = df20.set_index(['hour']).sort_index()\n",
    "print(df20)"
   ]
  },
  {
   "cell_type": "code",
   "execution_count": null,
   "id": "644aeebd",
   "metadata": {},
   "outputs": [],
   "source": [
    "cells = df20.cellid\n",
    "scaler=MinMaxScaler()\n",
    "scaled = pd.DataFrame(scaler.fit_transform(df20), columns=df20.columns, index=df20.index)"
   ]
  },
  {
   "cell_type": "code",
   "execution_count": null,
   "id": "2ad2e6d8",
   "metadata": {},
   "outputs": [],
   "source": [
    "dfgg=scaled\n",
    "dfgg['cellid']=cells\n",
    "print(dfgg)"
   ]
  },
  {
   "cell_type": "code",
   "execution_count": null,
   "id": "af673691",
   "metadata": {},
   "outputs": [],
   "source": [
    "dfsi = [] #data from df without indexing\n",
    "dfsi2 = pd.DataFrame({}) #new df to save\n",
    "dfso = []\n",
    "dfso2 = pd.DataFrame({})\n",
    "dfci = []\n",
    "dfci2 = pd.DataFrame({})\n",
    "dfco = []\n",
    "dfco2 = pd.DataFrame({})\n",
    "dfin = []\n",
    "dfin2 = pd.DataFrame({})\n",
    "\n",
    "dfsi.append(dfgg.loc[0].cellid)\n",
    "dfso.append(dfgg.loc[0].cellid)\n",
    "dfci.append(dfgg.loc[0].cellid)\n",
    "dfco.append(dfgg.loc[0].cellid)\n",
    "dfin.append(dfgg.loc[0].cellid)\n",
    "\n",
    "dfsi2[\"cellid\"]=dfsi[0].values\n",
    "dfso2[\"cellid\"]=dfsi[0].values\n",
    "dfci2[\"cellid\"]=dfsi[0].values\n",
    "dfco2[\"cellid\"]=dfsi[0].values\n",
    "dfin2[\"cellid\"]=dfsi[0].values\n",
    "j=0\n",
    "for i in (np.unique(dfgr.hour)): #dfgr.hour.max()+1\n",
    "    #row[0] - hour, row[1]: df cols\n",
    "    dfsi.append(dfgg.loc[i].smsin)\n",
    "    dfsi2[\"smsin\"+str(i)]=dfsi[j+1].values\n",
    "    \n",
    "    dfso.append(dfgg.loc[i].smsout)\n",
    "    dfso2[\"smsout\"+str(i)]=dfso[j+1].values\n",
    "    \n",
    "    dfci.append(dfgg.loc[i].callin)\n",
    "    dfci2[\"callin\"+str(i)]=dfci[j+1].values\n",
    "    \n",
    "    dfco.append(dfgg.loc[i].callout)\n",
    "    dfco2[\"callout\"+str(i)]=dfco[j+1].values\n",
    "    \n",
    "    dfin.append(dfgg.loc[i].internet)\n",
    "    dfin2[\"internet\"+str(i)]=dfin[j+1].values\n",
    "    j+=1\n"
   ]
  },
  {
   "cell_type": "code",
   "execution_count": null,
   "id": "8a3a9c34",
   "metadata": {},
   "outputs": [],
   "source": [
    "dfsi2.to_csv(\"./classif/20x20/classif20x20weekminute_smsin.csv\")\n",
    "dfsi2.head()"
   ]
  },
  {
   "cell_type": "code",
   "execution_count": null,
   "id": "100a7dc8",
   "metadata": {},
   "outputs": [],
   "source": [
    "dfso2.to_csv(\"./classif/20x20/classif20x20weekminute_smsout.csv\")\n",
    "dfso2.head()"
   ]
  },
  {
   "cell_type": "code",
   "execution_count": null,
   "id": "2d01ac89",
   "metadata": {},
   "outputs": [],
   "source": [
    "dfci2.to_csv(\"./classif/20x20/classif20x20weekminute_callin.csv\")\n",
    "dfci2.head()"
   ]
  },
  {
   "cell_type": "code",
   "execution_count": null,
   "id": "1375e1ad",
   "metadata": {},
   "outputs": [],
   "source": [
    "dfco2.to_csv(\"./classif/20x20/classif20x20weekminute_callout.csv\")\n",
    "dfco2.head()"
   ]
  },
  {
   "cell_type": "code",
   "execution_count": null,
   "id": "d28483b9",
   "metadata": {},
   "outputs": [],
   "source": [
    "dfin2.to_csv(\"./classif/20x20/classif20x20weekminute_internet.csv\")\n",
    "dfin2.head()"
   ]
  }
 ],
 "metadata": {
  "kernelspec": {
   "display_name": "Python 3",
   "language": "python",
   "name": "python3"
  },
  "language_info": {
   "codemirror_mode": {
    "name": "ipython",
    "version": 3
   },
   "file_extension": ".py",
   "mimetype": "text/x-python",
   "name": "python",
   "nbconvert_exporter": "python",
   "pygments_lexer": "ipython3",
   "version": "3.8.5"
  }
 },
 "nbformat": 4,
 "nbformat_minor": 5
}
