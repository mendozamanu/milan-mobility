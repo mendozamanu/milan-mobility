{
 "cells": [
  {
   "cell_type": "code",
   "execution_count": 1,
   "id": "d2755cd9",
   "metadata": {},
   "outputs": [],
   "source": [
    "import geojson\n",
    "import geopandas as gpd\n",
    "import random\n",
    "\n",
    "import pandas as pd\n",
    "import seaborn as sns\n",
    "import numpy as np\n",
    "import matplotlib.pyplot as plt\n",
    "import matplotlib as mpl\n",
    "import matplotlib.colors as colors"
   ]
  },
  {
   "cell_type": "code",
   "execution_count": 2,
   "id": "39137149",
   "metadata": {},
   "outputs": [],
   "source": [
    "data = pd.read_csv('./classif/20x20/ml_v3/classif20x20week_callout/csv/transport_results.csv')\n",
    "#gdf = gpd.read_file('./geojsons/milano-grid.geojson')\n",
    "\n",
    "with open(\"./geojsons/milano-grid.geojson\") as json_file:\n",
    "    json_data = geojson.load(json_file)\n"
   ]
  },
  {
   "cell_type": "code",
   "execution_count": 3,
   "id": "60086471",
   "metadata": {},
   "outputs": [],
   "source": [
    "for i in range(0, len(data)):\n",
    "    if(data.loc[i].predict == 0): #negative label: yellow\n",
    "        if(data.loc[i].true == 0): #negative label, correctly classified\n",
    "            json_data.features[int(data.loc[i].cellid)-1].properties = {\n",
    "                \"stroke\": colors.to_hex([ 0.05, 0.95, 0.0, 0.5 ], keep_alpha = True),\n",
    "                \"fill\": colors.to_hex([ 0.95,0.95, 0.0, 0.95 ], keep_alpha = True),\n",
    "                \"fill-opacity\": 0.4,\n",
    "                \"stroke-width\": 2.5,\n",
    "                \"stroke-opacity\": 0.75,\n",
    "                \"cell-type\": \"no transport\",\n",
    "                \"cellId\": int(data.loc[i].cellid)\n",
    "            }\n",
    "        else: #true: positive - incorrect classification\n",
    "            json_data.features[int(data.loc[i].cellid)-1].properties = {\n",
    "                \"stroke\": colors.to_hex([ 0.9,0.05, 0.0, 0.5 ], keep_alpha = True),\n",
    "                \"fill\": colors.to_hex([ 0.9,0.9, 0.0, 0.45 ], keep_alpha = True),\n",
    "                \"fill-opacity\": 0.4,\n",
    "                \"stroke-width\": 2.5,\n",
    "                \"stroke-opacity\": 0.75,\n",
    "                \"cell-type\": \"transport\",\n",
    "                \"cellId\": int(data.loc[i].cellid)\n",
    "            }\n",
    "    else: #predicted positive: red\n",
    "        if(data.loc[i].true == 1): #correct\n",
    "            json_data.features[int(data.loc[i].cellid)-1].properties = {\n",
    "                \"stroke\": colors.to_hex([ 0.05, 0.95, 0.0, 0.5 ], keep_alpha = True),\n",
    "                \"fill\": colors.to_hex([ 0.95,0.05, 0.0, 0.95 ], keep_alpha = True),\n",
    "                \"fill-opacity\": 0.4,\n",
    "                \"stroke-width\": 2.5,\n",
    "                \"stroke-opacity\": 0.75,\n",
    "                \"cell-type\": \"transport\",\n",
    "                \"cellId\": int(data.loc[i].cellid)\n",
    "            }\n",
    "        else: #incorrect classification (true: negative)\n",
    "            json_data.features[int(data.loc[i].cellid)-1].properties = {\n",
    "                \"stroke\": colors.to_hex([ 0.9,0.05, 0.0, 0.5 ], keep_alpha = True),\n",
    "                \"fill\": colors.to_hex([ 0.95,0.05, 0.0, 0.45 ], keep_alpha = True),\n",
    "                \"fill-opacity\": 0.4,\n",
    "                \"stroke-width\": 2.5,\n",
    "                \"stroke-opacity\": 0.75,\n",
    "                \"cell-type\": \"no transport\",\n",
    "                \"cellId\": int(data.loc[i].cellid)\n",
    "            }"
   ]
  },
  {
   "cell_type": "code",
   "execution_count": 4,
   "id": "0c509bb8",
   "metadata": {},
   "outputs": [],
   "source": [
    "with open(\"./geojsons/predictions_20co_ml_transport.geojson\", \"w\") as json_file:\n",
    "    geojson.dump(json_data, json_file)"
   ]
  }
 ],
 "metadata": {
  "kernelspec": {
   "display_name": "Python 3 (ipykernel)",
   "language": "python",
   "name": "python3"
  },
  "language_info": {
   "codemirror_mode": {
    "name": "ipython",
    "version": 3
   },
   "file_extension": ".py",
   "mimetype": "text/x-python",
   "name": "python",
   "nbconvert_exporter": "python",
   "pygments_lexer": "ipython3",
   "version": "3.9.7"
  }
 },
 "nbformat": 4,
 "nbformat_minor": 5
}
