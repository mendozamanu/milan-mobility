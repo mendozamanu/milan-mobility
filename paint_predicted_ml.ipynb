{
 "cells": [
  {
   "cell_type": "code",
   "execution_count": 1,
   "id": "d2755cd9",
   "metadata": {},
   "outputs": [],
   "source": [
    "import geojson\n",
    "import geopandas as gpd\n",
    "import random\n",
    "\n",
    "import pandas as pd\n",
    "import seaborn as sns\n",
    "import numpy as np\n",
    "import matplotlib.pyplot as plt\n",
    "import matplotlib as mpl\n",
    "import matplotlib.colors as colors"
   ]
  },
  {
   "cell_type": "code",
   "execution_count": 2,
   "id": "39137149",
   "metadata": {},
   "outputs": [],
   "source": [
    "data = pd.read_csv('./classif/20x20/ml_v4/classif20x20week_callout/csv/lowdens_results.csv')\n",
    "#gdf = gpd.read_file('./geojsons/milano-grid.geojson')\n",
    "\n",
    "with open(\"./geojsons/milano-grid.geojson\") as json_file:\n",
    "    json_data = geojson.load(json_file)\n"
   ]
  },
  {
   "cell_type": "code",
   "execution_count": 3,
   "id": "44e925e9",
   "metadata": {},
   "outputs": [],
   "source": [
    "#Generate the geojson with the true data\n",
    "for i in range(0, len(data)):\n",
    "    if(data.loc[i].true == 0): #negative label\n",
    "        json_data.features[int(data.loc[i].cellid)-1].properties = {\n",
    "                \"fill\": colors.to_hex([ 0.95,0.95, 0.0, 0.95 ], keep_alpha = True),\n",
    "                \"fill-opacity\": 0.4,\n",
    "                \"stroke-width\": 2.5,\n",
    "                \"stroke-opacity\": 0.75,\n",
    "                \"cell-type\": \"no low dens\",\n",
    "                \"cellId\": int(data.loc[i].cellid)\n",
    "            }\n",
    "    else: #true: positive\n",
    "            json_data.features[int(data.loc[i].cellid)-1].properties = {\n",
    "                \"fill\": colors.to_hex([ 0.98,0.98, 0.98, 0.45 ], keep_alpha = True),\n",
    "                \"fill-opacity\": 0.75,\n",
    "                \"stroke-width\": 2.5,\n",
    "                \"stroke-opacity\": 0.75,\n",
    "                \"cell-type\": \"low dens\",\n",
    "                \"cellId\": int(data.loc[i].cellid)\n",
    "            }"
   ]
  },
  {
   "cell_type": "code",
   "execution_count": 4,
   "id": "c3980d03",
   "metadata": {},
   "outputs": [],
   "source": [
    "with open(\"./geojsons/5/truth_20co_ml5_lowdens.geojson\", \"w\") as json_file:\n",
    "    geojson.dump(json_data, json_file)"
   ]
  },
  {
   "cell_type": "code",
   "execution_count": 5,
   "id": "013db398",
   "metadata": {},
   "outputs": [],
   "source": [
    "with open(\"./geojsons/milano-grid.geojson\") as json_file:\n",
    "    json_data = geojson.load(json_file) #reset json_data for next dump"
   ]
  },
  {
   "cell_type": "code",
   "execution_count": 6,
   "id": "60086471",
   "metadata": {},
   "outputs": [],
   "source": [
    "#Generate the geojson with the predictions\n",
    "for i in range(0, len(data)):\n",
    "    cnt=10000+i\n",
    "    if(data.loc[i].predict == 0): #negative label: yellow\n",
    "        if(data.loc[i].true == 0): #negative label, correctly classified\n",
    "            json_data.features[int(data.loc[i].cellid)-1].properties = {\n",
    "                #\"stroke\": colors.to_hex([ 0.95, 0.95, 0.0, 0.95 ], keep_alpha = True),\n",
    "                \"fill\": colors.to_hex([ 0.95,0.95, 0.0, 0.95 ], keep_alpha = True),\n",
    "                \"fill-opacity\": 0.4,\n",
    "                \"stroke-width\": 2.5,\n",
    "                \"stroke-opacity\": 0.95,\n",
    "                \"cell-type\": \"no low dens\",\n",
    "                \"cellId\": int(data.loc[i].cellid)\n",
    "            }\n",
    "        else: #true: positive - incorrect classification\n",
    "            coords = json_data.features[int(data.loc[i].cellid)-1][\"geometry\"].coordinates\n",
    "            line = geojson.LineString([coords[0][0], coords[0][len(coords[0])-3]])\n",
    "            json_data['features'].append(geojson.Feature(geometry=line, id=cnt, properties={\"stroke\": colors.to_hex([ 0.95,0.95, 0.95, 0.99 ], keep_alpha = True)}))\n",
    "            json_data.features[int(data.loc[i].cellid)-1].properties = {\n",
    "                \"fill\": colors.to_hex([ 0.95,0.95, 0.0, 0.95 ], keep_alpha = True),\n",
    "                \"fill-opacity\": 0.4,\n",
    "                \"stroke-width\": 2.5,\n",
    "                \"stroke-opacity\": 0.99,\n",
    "                \"cell-type\": \"low dens\",\n",
    "                \"cellId\": int(data.loc[i].cellid)\n",
    "            }\n",
    "            cnt+=1\n",
    "    else: #predicted positive: white\n",
    "        if(data.loc[i].true == 1): #correct\n",
    "            json_data.features[int(data.loc[i].cellid)-1].properties = {\n",
    "                #\"stroke\": colors.to_hex([ 0.95,0.95, 0.95, 0.95 ], keep_alpha = True),\n",
    "                \"fill\": colors.to_hex([ 0.95,0.95, 0.95, 0.95 ], keep_alpha = True),\n",
    "                \"fill-opacity\": 0.4,\n",
    "                \"stroke-width\": 2.5,\n",
    "                \"stroke-opacity\": 0.95,\n",
    "                \"cell-type\": \"low dens\",\n",
    "                \"cellId\": int(data.loc[i].cellid)\n",
    "            }\n",
    "        else: #incorrect classification (true: negative)\n",
    "            #print(json_data.features[int(data.loc[i].cellid)-1][\"geometry\"].coordinates)\n",
    "            coords = json_data.features[int(data.loc[i].cellid)-1][\"geometry\"].coordinates\n",
    "            line = geojson.LineString([coords[0][0], coords[0][len(coords[0])-3]])\n",
    "            json_data['features'].append(geojson.Feature(geometry=line, id=cnt, properties={\"stroke\": colors.to_hex([ 0.95,0.95, 0.00, 0.99 ], keep_alpha = True)}))\n",
    "            json_data.features[int(data.loc[i].cellid)-1].properties = {\n",
    "                \"fill\": colors.to_hex([ 0.95,0.95, 0.95, 0.95 ], keep_alpha = True),\n",
    "                \"fill-opacity\": 0.4,\n",
    "                \"stroke-width\": 2.5,\n",
    "                \"stroke-opacity\": 0.99,\n",
    "                \"cell-type\": \"no low dens\",\n",
    "                \"cellId\": int(data.loc[i].cellid)\n",
    "            }\n",
    "            cnt+=1"
   ]
  },
  {
   "cell_type": "code",
   "execution_count": 7,
   "id": "0c509bb8",
   "metadata": {},
   "outputs": [],
   "source": [
    "with open(\"./geojsons/5/predictions_20co_ml5_lowdens.geojson\", \"w\") as json_file:\n",
    "    geojson.dump(json_data, json_file)"
   ]
  },
  {
   "cell_type": "code",
   "execution_count": null,
   "id": "6d727aa9",
   "metadata": {},
   "outputs": [],
   "source": []
  }
 ],
 "metadata": {
  "kernelspec": {
   "display_name": "Python 3 (ipykernel)",
   "language": "python",
   "name": "python3"
  },
  "language_info": {
   "codemirror_mode": {
    "name": "ipython",
    "version": 3
   },
   "file_extension": ".py",
   "mimetype": "text/x-python",
   "name": "python",
   "nbconvert_exporter": "python",
   "pygments_lexer": "ipython3",
   "version": "3.10.2"
  }
 },
 "nbformat": 4,
 "nbformat_minor": 5
}
