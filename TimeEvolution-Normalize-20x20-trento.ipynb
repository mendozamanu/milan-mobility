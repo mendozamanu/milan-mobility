{
 "cells": [
  {
   "cell_type": "code",
   "execution_count": null,
   "id": "opened-blood",
   "metadata": {},
   "outputs": [],
   "source": [
    "import pandas as pd\n",
    "import numpy as np\n",
    "from sklearn.preprocessing import MinMaxScaler"
   ]
  },
  {
   "cell_type": "code",
   "execution_count": null,
   "id": "august-solution",
   "metadata": {},
   "outputs": [],
   "source": [
    "dfs = pd.DataFrame({})\n",
    "\n",
    "for i in range(1,10):\n",
    "    df = pd.read_csv('./trento/sms-call-internet-tn-2013-11-0{}.csv'.format(i), parse_dates=['time'])\n",
    "    dfs = dfs.append(df)\n",
    "for i in range(10,31):\n",
    "    df = pd.read_csv('./trento/sms-call-internet-tn-2013-11-{}.csv'.format(i), parse_dates=['time'])\n",
    "    dfs = dfs.append(df)\n",
    "for i in range(1,10):\n",
    "    df = pd.read_csv('./trento/sms-call-internet-tn-2013-12-0{}.csv'.format(i), parse_dates=['time'])\n",
    "    dfs = dfs.append(df)\n",
    "for i in range(10,31):\n",
    "    df = pd.read_csv('./trento/sms-call-internet-tn-2013-12-{}.csv'.format(i), parse_dates=['time'])\n",
    "    dfs = dfs.append(df)\n",
    "df = pd.read_csv('./trento/sms-call-internet-tn-2014-01-01.csv', parse_dates=['time'])\n",
    "dfs = dfs.append(df)\n",
    "dfs = dfs.fillna(0)\n",
    "del df"
   ]
  },
  {
   "cell_type": "code",
   "execution_count": null,
   "id": "opponent-central",
   "metadata": {},
   "outputs": [],
   "source": [
    "#Group by hours and aggregate values according to each cell/hour\n",
    "dfgr = dfs[['cellid', 'time', 'smsin','smsout', 'callin','callout', 'internet']].groupby(['time', 'cellid'], as_index=False).sum()\n",
    "dfgr['hour'] = dfgr.time.dt.hour+24*(dfgr.time.dt.day-4)\n",
    "dfgg = dfgr[['hour', 'cellid', 'time', 'smsin','smsout', 'callin','callout', 'internet']].groupby(['hour', 'cellid'], as_index=False).sum()\n",
    "#dfgg = dfgg.set_index(['hour']).sort_index()\n",
    "del dfs\n",
    "print(dfgg)\n",
    "\n",
    "#Group by hours and aggregate values according to the hour\n",
    "#dfgr = dfs[['cellid', 'time', 'smsin','smsout', 'callin','callout', 'internet']].groupby(['time', 'cellid'], as_index=False).sum()\n",
    "#dfgr['hour'] = dfgr.time.dt.hour+24*(dfgr.time.dt.day-1)\n",
    "#dfgg = dfgr[['hour', 'time', 'smsin','smsout', 'callin','callout', 'internet']].groupby(['hour'], as_index=False).sum()\n",
    "#dfgg = dfgg.set_index(['hour']).sort_index()\n",
    "#print(dfgg)"
   ]
  },
  {
   "cell_type": "code",
   "execution_count": null,
   "id": "f27e6582",
   "metadata": {},
   "outputs": [],
   "source": [
    "l=[]\n",
    "#6134 - 3911\n",
    "for i in range(3911, 6135, 117):\n",
    "    for j in range(i, i+20):\n",
    "        l.append(j)\n",
    "#print(l)"
   ]
  },
  {
   "cell_type": "code",
   "execution_count": null,
   "id": "251dfdbb",
   "metadata": {},
   "outputs": [],
   "source": [
    "df20 = pd.DataFrame({})\n",
    "for el in dfgg.iterrows():\n",
    "    if(l.count(int(el[1].cellid))==1):\n",
    "        tmp = pd.DataFrame([[int(el[1].hour), int(el[1].cellid), el[1].smsin, el[1].smsout, el[1].callin, el[1].callout, el[1].internet]], columns=['hour', 'cellid', 'smsin','smsout', 'callin','callout', 'internet'])\n",
    "        df20=df20.append(tmp)"
   ]
  },
  {
   "cell_type": "code",
   "execution_count": null,
   "id": "eba268a9",
   "metadata": {},
   "outputs": [],
   "source": [
    "df20 = df20.set_index(['hour']).sort_index()\n",
    "print(df20)"
   ]
  },
  {
   "cell_type": "code",
   "execution_count": null,
   "id": "644aeebd",
   "metadata": {},
   "outputs": [],
   "source": [
    "cells = df20.cellid\n",
    "scaler=MinMaxScaler()\n",
    "scaled = pd.DataFrame(scaler.fit_transform(df20), columns=df20.columns, index=df20.index)"
   ]
  },
  {
   "cell_type": "code",
   "execution_count": null,
   "id": "2ad2e6d8",
   "metadata": {},
   "outputs": [],
   "source": [
    "dfgg=scaled\n",
    "dfgg['cellid']=cells\n",
    "print(dfgg)"
   ]
  },
  {
   "cell_type": "code",
   "execution_count": null,
   "id": "9df84dad",
   "metadata": {},
   "outputs": [],
   "source": [
    "dfgg.to_csv('./classif/20x20/tn/temp_2mon.csv')\n",
    "print (dfgr.hour.max())"
   ]
  },
  {
   "cell_type": "code",
   "execution_count": null,
   "id": "af673691",
   "metadata": {},
   "outputs": [],
   "source": [
    "dfsi = [] #data from df without indexing\n",
    "dfsi2 = pd.DataFrame({}) #new df to save\n",
    "dfso = []\n",
    "dfso2 = pd.DataFrame({})\n",
    "dfci = []\n",
    "dfci2 = pd.DataFrame({})\n",
    "dfco = []\n",
    "dfco2 = pd.DataFrame({})\n",
    "dfin = []\n",
    "dfin2 = pd.DataFrame({})\n",
    "\n",
    "dfsi.append(dfgg.loc[0].cellid)\n",
    "dfso.append(dfgg.loc[0].cellid)\n",
    "dfci.append(dfgg.loc[0].cellid)\n",
    "dfco.append(dfgg.loc[0].cellid)\n",
    "dfin.append(dfgg.loc[0].cellid)\n",
    "\n",
    "dfsi2[\"cellid\"]=dfsi[0].values\n",
    "dfso2[\"cellid\"]=dfsi[0].values\n",
    "dfci2[\"cellid\"]=dfsi[0].values\n",
    "dfco2[\"cellid\"]=dfsi[0].values\n",
    "dfin2[\"cellid\"]=dfsi[0].values\n",
    "for i in range(0, dfgr.hour.max()+1): #dfgr.hour.max()+1\n",
    "    #row[0] - hour, row[1]: df cols\n",
    "    dfsi.append(dfgg.loc[i].smsin)\n",
    "    dfsi2[\"smsin\"+str(i)]=dfsi[i+1].values\n",
    "    \n",
    "    dfso.append(dfgg.loc[i].smsout)\n",
    "    dfso2[\"smsout\"+str(i)]=dfso[i+1].values\n",
    "    \n",
    "    dfci.append(dfgg.loc[i].callin)\n",
    "    dfci2[\"callin\"+str(i)]=dfci[i+1].values\n",
    "    \n",
    "    dfco.append(dfgg.loc[i].callout)\n",
    "    dfco2[\"callout\"+str(i)]=dfco[i+1].values\n",
    "    \n",
    "    dfin.append(dfgg.loc[i].internet)\n",
    "    dfin2[\"internet\"+str(i)]=dfin[i+1].values\n"
   ]
  },
  {
   "cell_type": "code",
   "execution_count": null,
   "id": "8a3a9c34",
   "metadata": {},
   "outputs": [],
   "source": [
    "dfsi2.to_csv(\"./classif/20x20/tn/classif20x20week_smsin.csv\")\n",
    "dfsi2.head()"
   ]
  },
  {
   "cell_type": "code",
   "execution_count": null,
   "id": "100a7dc8",
   "metadata": {},
   "outputs": [],
   "source": [
    "dfso2.to_csv(\"./classif/20x20/tn/classif20x20week_smsout.csv\")\n",
    "dfso2.head()"
   ]
  },
  {
   "cell_type": "code",
   "execution_count": null,
   "id": "2d01ac89",
   "metadata": {},
   "outputs": [],
   "source": [
    "dfci2.to_csv(\"./classif/20x20/tn/classif20x20week_callin.csv\")\n",
    "dfci2.head()"
   ]
  },
  {
   "cell_type": "code",
   "execution_count": null,
   "id": "1375e1ad",
   "metadata": {},
   "outputs": [],
   "source": [
    "dfco2.to_csv(\"./classif/20x20/tn/classif20x20week_callout.csv\")\n",
    "dfco2.head()"
   ]
  },
  {
   "cell_type": "code",
   "execution_count": null,
   "id": "d28483b9",
   "metadata": {},
   "outputs": [],
   "source": [
    "dfin2.to_csv(\"./classif/20x20/tn/classif20x20week_internet.csv\")\n",
    "dfin2.head()"
   ]
  }
 ],
 "metadata": {
  "kernelspec": {
   "name": "python3",
   "display_name": "Python 3.8.5 64-bit"
  },
  "language_info": {
   "codemirror_mode": {
    "name": "ipython",
    "version": 3
   },
   "file_extension": ".py",
   "mimetype": "text/x-python",
   "name": "python",
   "nbconvert_exporter": "python",
   "pygments_lexer": "ipython3",
   "version": "3.8.5"
  },
  "interpreter": {
   "hash": "31f2aee4e71d21fbe5cf8b01ff0e069b9275f58929596ceb00d14d90e3e16cd6"
  }
 },
 "nbformat": 4,
 "nbformat_minor": 5
}