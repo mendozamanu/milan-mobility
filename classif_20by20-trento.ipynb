{
 "cells": [
  {
   "cell_type": "code",
   "execution_count": 1,
   "id": "deluxe-natural",
   "metadata": {},
   "outputs": [],
   "source": [
    "import geojson\n",
    "import geopandas as gpd\n",
    "import random\n",
    "\n",
    "import pandas as pd\n",
    "import seaborn as sns\n",
    "import numpy as np\n",
    "import matplotlib.pyplot as plt\n",
    "import matplotlib as mpl\n",
    "import matplotlib.colors as colors"
   ]
  },
  {
   "cell_type": "code",
   "execution_count": 2,
   "id": "defensive-collective",
   "metadata": {},
   "outputs": [],
   "source": [
    "#Not needed at the moment\n",
    "#dfs = pd.DataFrame({})\n",
    "\n",
    "#for i in range(1,10):\n",
    "#    df = pd.read_csv('./csv/sms-call-internet-mi-2013-11-0{}.csv'.format(i), parse_dates=['time'])\n",
    "#    dfs = dfs.append(df)\n",
    "#df = pd.read_csv('./csv/sms-call-internet-mi-2013-11-10.csv', parse_dates=['time'])\n",
    "#dfs = dfs.append(df)\n",
    "#dfs = dfs.fillna(0)\n"
   ]
  },
  {
   "cell_type": "code",
   "execution_count": 3,
   "id": "dedicated-worth",
   "metadata": {},
   "outputs": [],
   "source": [
    "#dfgr = dfs[['cellid', 'time', 'smsin','smsout', 'callin','callout', 'internet']].groupby(['cellid'], as_index=True).sum()\n",
    "#dfgr['hour'] = dfgr.time.dt.hour+dfgr.time.dt.minute/60+24*(dfgr.time.dt.day-1)\n",
    "#dfgr = dfgr.set_index(['cell']).sort_index()\n",
    "#dfgr.head()"
   ]
  },
  {
   "cell_type": "code",
   "execution_count": null,
   "id": "aging-mauritius",
   "metadata": {},
   "outputs": [],
   "source": []
  },
  {
   "cell_type": "code",
   "execution_count": 4,
   "id": "nutritional-vault",
   "metadata": {},
   "outputs": [],
   "source": [
    "cs_class = pd.DataFrame([], columns=[\"cellid\", \"lat\", \"lon\", \"smsin\", \"smsout\",\"callin\",\"callout\",\"internet\", \"home\", \"high_dens\",\"mid_dens\",\"low_dens\",\"work\", \"transport\", \"commercial\", \"commercial_low\", \"commercial_high\", \"offices\", \"touristic\", \"rural\"])\n",
    "#gdf = gpd.read_file('./geojsons/milano-grid.geojson')\n",
    "\n",
    "with open(\"./geojsons/trentino-grid.geojson\") as json_file:\n",
    "    json_data = geojson.load(json_file)\n",
    "#print(len(json_data.features))"
   ]
  },
  {
   "cell_type": "code",
   "execution_count": 5,
   "id": "computational-underwear",
   "metadata": {
    "scrolled": true
   },
   "outputs": [],
   "source": [
    "#Create a subset of the grids, and manually assign the labels according to the visual map"
   ]
  },
  {
   "cell_type": "code",
   "execution_count": 6,
   "id": "reflected-enough",
   "metadata": {
    "scrolled": true
   },
   "outputs": [
    {
     "name": "stdout",
     "output_type": "stream",
     "text": [
      "[3911, 3912, 3913, 3914, 3915, 3916, 3917, 3918, 3919, 3920, 3921, 3922, 3923, 3924, 3925, 3926, 3927, 3928, 3929, 3930, 4028, 4029, 4030, 4031, 4032, 4033, 4034, 4035, 4036, 4037, 4038, 4039, 4040, 4041, 4042, 4043, 4044, 4045, 4046, 4047, 4145, 4146, 4147, 4148, 4149, 4150, 4151, 4152, 4153, 4154, 4155, 4156, 4157, 4158, 4159, 4160, 4161, 4162, 4163, 4164, 4262, 4263, 4264, 4265, 4266, 4267, 4268, 4269, 4270, 4271, 4272, 4273, 4274, 4275, 4276, 4277, 4278, 4279, 4280, 4281, 4379, 4380, 4381, 4382, 4383, 4384, 4385, 4386, 4387, 4388, 4389, 4390, 4391, 4392, 4393, 4394, 4395, 4396, 4397, 4398, 4496, 4497, 4498, 4499, 4500, 4501, 4502, 4503, 4504, 4505, 4506, 4507, 4508, 4509, 4510, 4511, 4512, 4513, 4514, 4515, 4613, 4614, 4615, 4616, 4617, 4618, 4619, 4620, 4621, 4622, 4623, 4624, 4625, 4626, 4627, 4628, 4629, 4630, 4631, 4632, 4730, 4731, 4732, 4733, 4734, 4735, 4736, 4737, 4738, 4739, 4740, 4741, 4742, 4743, 4744, 4745, 4746, 4747, 4748, 4749, 4847, 4848, 4849, 4850, 4851, 4852, 4853, 4854, 4855, 4856, 4857, 4858, 4859, 4860, 4861, 4862, 4863, 4864, 4865, 4866, 4964, 4965, 4966, 4967, 4968, 4969, 4970, 4971, 4972, 4973, 4974, 4975, 4976, 4977, 4978, 4979, 4980, 4981, 4982, 4983, 5081, 5082, 5083, 5084, 5085, 5086, 5087, 5088, 5089, 5090, 5091, 5092, 5093, 5094, 5095, 5096, 5097, 5098, 5099, 5100, 5198, 5199, 5200, 5201, 5202, 5203, 5204, 5205, 5206, 5207, 5208, 5209, 5210, 5211, 5212, 5213, 5214, 5215, 5216, 5217, 5315, 5316, 5317, 5318, 5319, 5320, 5321, 5322, 5323, 5324, 5325, 5326, 5327, 5328, 5329, 5330, 5331, 5332, 5333, 5334, 5432, 5433, 5434, 5435, 5436, 5437, 5438, 5439, 5440, 5441, 5442, 5443, 5444, 5445, 5446, 5447, 5448, 5449, 5450, 5451, 5549, 5550, 5551, 5552, 5553, 5554, 5555, 5556, 5557, 5558, 5559, 5560, 5561, 5562, 5563, 5564, 5565, 5566, 5567, 5568, 5666, 5667, 5668, 5669, 5670, 5671, 5672, 5673, 5674, 5675, 5676, 5677, 5678, 5679, 5680, 5681, 5682, 5683, 5684, 5685, 5783, 5784, 5785, 5786, 5787, 5788, 5789, 5790, 5791, 5792, 5793, 5794, 5795, 5796, 5797, 5798, 5799, 5800, 5801, 5802, 5900, 5901, 5902, 5903, 5904, 5905, 5906, 5907, 5908, 5909, 5910, 5911, 5912, 5913, 5914, 5915, 5916, 5917, 5918, 5919, 6017, 6018, 6019, 6020, 6021, 6022, 6023, 6024, 6025, 6026, 6027, 6028, 6029, 6030, 6031, 6032, 6033, 6034, 6035, 6036, 6134, 6135, 6136, 6137, 6138, 6139, 6140, 6141, 6142, 6143, 6144, 6145, 6146, 6147, 6148, 6149, 6150, 6151, 6152, 6153]\n"
     ]
    }
   ],
   "source": [
    "l=[]\n",
    "#6134 - 3911\n",
    "for i in range(3911, 6135, 117):\n",
    "    for j in range(i, i+20):\n",
    "        l.append(j)\n",
    "print(l)"
   ]
  },
  {
   "cell_type": "code",
   "execution_count": 7,
   "id": "metallic-floating",
   "metadata": {
    "scrolled": true
   },
   "outputs": [],
   "source": [
    "for ft in range(0, len(json_data.features)):\n",
    "    if(json_data.features[ft].properties[\"cellId\"]) in l:\n",
    "        try:\n",
    "            tmp=pd.DataFrame([[json_data.features[ft].properties[\"cellId\"], np.mean(json_data.features[ft].geometry.coordinates[0], axis=0)[1], np.mean(json_data.features[ft].geometry.coordinates[0], axis=0)[0]]], columns=['cellid', 'lat', 'lon'])\n",
    "            cs_class=cs_class.append(tmp)\n",
    "            #print(np.mean(json_data.features[i].geometry.coordinates[0], axis=0))\n",
    "            #print(json_data.features[i].properties[\"cellId\"])\n",
    "            json_data.features[ft].properties = {\n",
    "                \"fill\": colors.to_hex([ 0.40, 0.80, 0.1, 0.5 ], keep_alpha = True),\n",
    "                \"fill-opacity\": 0.3,\n",
    "                \"stroke-width\": 1.75,\n",
    "                \"stroke-opacity\": 0.75,\n",
    "                \"cellId\": json_data.features[ft].properties[\"cellId\"]\n",
    "            }\n",
    "        except:\n",
    "            continue #skip the missing value and continue"
   ]
  },
  {
   "cell_type": "code",
   "execution_count": 8,
   "id": "large-principal",
   "metadata": {},
   "outputs": [],
   "source": [
    "with open(\"./geojsons/trento20by20.geojson\", \"w\") as json_file:\n",
    "    geojson.dump(json_data, json_file)"
   ]
  },
  {
   "cell_type": "code",
   "execution_count": 9,
   "id": "median-history",
   "metadata": {},
   "outputs": [
    {
     "data": {
      "text/html": [
       "<div>\n",
       "<style scoped>\n",
       "    .dataframe tbody tr th:only-of-type {\n",
       "        vertical-align: middle;\n",
       "    }\n",
       "\n",
       "    .dataframe tbody tr th {\n",
       "        vertical-align: top;\n",
       "    }\n",
       "\n",
       "    .dataframe thead th {\n",
       "        text-align: right;\n",
       "    }\n",
       "</style>\n",
       "<table border=\"1\" class=\"dataframe\">\n",
       "  <thead>\n",
       "    <tr style=\"text-align: right;\">\n",
       "      <th></th>\n",
       "      <th>lat</th>\n",
       "      <th>lon</th>\n",
       "      <th>smsin</th>\n",
       "      <th>smsout</th>\n",
       "      <th>callin</th>\n",
       "      <th>callout</th>\n",
       "      <th>internet</th>\n",
       "      <th>home</th>\n",
       "      <th>high_dens</th>\n",
       "      <th>mid_dens</th>\n",
       "      <th>low_dens</th>\n",
       "      <th>work</th>\n",
       "      <th>transport</th>\n",
       "      <th>commercial</th>\n",
       "      <th>commercial_low</th>\n",
       "      <th>commercial_high</th>\n",
       "      <th>offices</th>\n",
       "      <th>touristic</th>\n",
       "      <th>rural</th>\n",
       "    </tr>\n",
       "    <tr>\n",
       "      <th>cellid</th>\n",
       "      <th></th>\n",
       "      <th></th>\n",
       "      <th></th>\n",
       "      <th></th>\n",
       "      <th></th>\n",
       "      <th></th>\n",
       "      <th></th>\n",
       "      <th></th>\n",
       "      <th></th>\n",
       "      <th></th>\n",
       "      <th></th>\n",
       "      <th></th>\n",
       "      <th></th>\n",
       "      <th></th>\n",
       "      <th></th>\n",
       "      <th></th>\n",
       "      <th></th>\n",
       "      <th></th>\n",
       "      <th></th>\n",
       "    </tr>\n",
       "  </thead>\n",
       "  <tbody>\n",
       "    <tr>\n",
       "      <th>3911</th>\n",
       "      <td>45.972455</td>\n",
       "      <td>11.084673</td>\n",
       "      <td>0</td>\n",
       "      <td>0</td>\n",
       "      <td>0</td>\n",
       "      <td>0</td>\n",
       "      <td>0</td>\n",
       "      <td>0</td>\n",
       "      <td>0</td>\n",
       "      <td>0</td>\n",
       "      <td>0</td>\n",
       "      <td>0</td>\n",
       "      <td>0</td>\n",
       "      <td>0</td>\n",
       "      <td>0</td>\n",
       "      <td>0</td>\n",
       "      <td>0</td>\n",
       "      <td>0</td>\n",
       "      <td>0</td>\n",
       "    </tr>\n",
       "    <tr>\n",
       "      <th>3912</th>\n",
       "      <td>45.972219</td>\n",
       "      <td>11.097573</td>\n",
       "      <td>0</td>\n",
       "      <td>0</td>\n",
       "      <td>0</td>\n",
       "      <td>0</td>\n",
       "      <td>0</td>\n",
       "      <td>0</td>\n",
       "      <td>0</td>\n",
       "      <td>0</td>\n",
       "      <td>0</td>\n",
       "      <td>0</td>\n",
       "      <td>0</td>\n",
       "      <td>0</td>\n",
       "      <td>0</td>\n",
       "      <td>0</td>\n",
       "      <td>0</td>\n",
       "      <td>0</td>\n",
       "      <td>0</td>\n",
       "    </tr>\n",
       "    <tr>\n",
       "      <th>3913</th>\n",
       "      <td>45.971981</td>\n",
       "      <td>11.110472</td>\n",
       "      <td>0</td>\n",
       "      <td>0</td>\n",
       "      <td>0</td>\n",
       "      <td>0</td>\n",
       "      <td>0</td>\n",
       "      <td>0</td>\n",
       "      <td>0</td>\n",
       "      <td>0</td>\n",
       "      <td>0</td>\n",
       "      <td>0</td>\n",
       "      <td>0</td>\n",
       "      <td>0</td>\n",
       "      <td>0</td>\n",
       "      <td>0</td>\n",
       "      <td>0</td>\n",
       "      <td>0</td>\n",
       "      <td>0</td>\n",
       "    </tr>\n",
       "    <tr>\n",
       "      <th>3914</th>\n",
       "      <td>45.971742</td>\n",
       "      <td>11.123371</td>\n",
       "      <td>0</td>\n",
       "      <td>0</td>\n",
       "      <td>0</td>\n",
       "      <td>0</td>\n",
       "      <td>0</td>\n",
       "      <td>0</td>\n",
       "      <td>0</td>\n",
       "      <td>0</td>\n",
       "      <td>0</td>\n",
       "      <td>0</td>\n",
       "      <td>0</td>\n",
       "      <td>0</td>\n",
       "      <td>0</td>\n",
       "      <td>0</td>\n",
       "      <td>0</td>\n",
       "      <td>0</td>\n",
       "      <td>0</td>\n",
       "    </tr>\n",
       "    <tr>\n",
       "      <th>3915</th>\n",
       "      <td>45.971502</td>\n",
       "      <td>11.136270</td>\n",
       "      <td>0</td>\n",
       "      <td>0</td>\n",
       "      <td>0</td>\n",
       "      <td>0</td>\n",
       "      <td>0</td>\n",
       "      <td>0</td>\n",
       "      <td>0</td>\n",
       "      <td>0</td>\n",
       "      <td>0</td>\n",
       "      <td>0</td>\n",
       "      <td>0</td>\n",
       "      <td>0</td>\n",
       "      <td>0</td>\n",
       "      <td>0</td>\n",
       "      <td>0</td>\n",
       "      <td>0</td>\n",
       "      <td>0</td>\n",
       "    </tr>\n",
       "  </tbody>\n",
       "</table>\n",
       "</div>"
      ],
      "text/plain": [
       "              lat        lon  smsin  smsout  callin  callout  internet  home  \\\n",
       "cellid                                                                         \n",
       "3911    45.972455  11.084673      0       0       0        0         0     0   \n",
       "3912    45.972219  11.097573      0       0       0        0         0     0   \n",
       "3913    45.971981  11.110472      0       0       0        0         0     0   \n",
       "3914    45.971742  11.123371      0       0       0        0         0     0   \n",
       "3915    45.971502  11.136270      0       0       0        0         0     0   \n",
       "\n",
       "        high_dens  mid_dens  low_dens  work  transport  commercial  \\\n",
       "cellid                                                               \n",
       "3911            0         0         0     0          0           0   \n",
       "3912            0         0         0     0          0           0   \n",
       "3913            0         0         0     0          0           0   \n",
       "3914            0         0         0     0          0           0   \n",
       "3915            0         0         0     0          0           0   \n",
       "\n",
       "        commercial_low  commercial_high  offices  touristic  rural  \n",
       "cellid                                                              \n",
       "3911                 0                0        0          0      0  \n",
       "3912                 0                0        0          0      0  \n",
       "3913                 0                0        0          0      0  \n",
       "3914                 0                0        0          0      0  \n",
       "3915                 0                0        0          0      0  "
      ]
     },
     "execution_count": 9,
     "metadata": {},
     "output_type": "execute_result"
    }
   ],
   "source": [
    "cs_class=cs_class.fillna(0)\n",
    "cs_class = cs_class.set_index(['cellid']).sort_index()\n",
    "\n",
    "cs_class.head()"
   ]
  },
  {
   "cell_type": "code",
   "execution_count": 10,
   "id": "9d287c03",
   "metadata": {},
   "outputs": [
    {
     "data": {
      "text/plain": [
       "lat                400\n",
       "lon                400\n",
       "smsin              400\n",
       "smsout             400\n",
       "callin             400\n",
       "callout            400\n",
       "internet           400\n",
       "home               400\n",
       "high_dens          400\n",
       "mid_dens           400\n",
       "low_dens           400\n",
       "work               400\n",
       "transport          400\n",
       "commercial         400\n",
       "commercial_low     400\n",
       "commercial_high    400\n",
       "offices            400\n",
       "touristic          400\n",
       "rural              400\n",
       "dtype: int64"
      ]
     },
     "execution_count": 10,
     "metadata": {},
     "output_type": "execute_result"
    }
   ],
   "source": [
    "cs_class.count()"
   ]
  },
  {
   "cell_type": "code",
   "execution_count": 11,
   "id": "unlikely-globe",
   "metadata": {},
   "outputs": [],
   "source": [
    "#cs_class.to_csv(\"./csv/trento20x20.csv\")"
   ]
  },
  {
   "cell_type": "code",
   "execution_count": null,
   "id": "rental-cycling",
   "metadata": {},
   "outputs": [],
   "source": []
  }
 ],
 "metadata": {
  "kernelspec": {
   "display_name": "Python 3",
   "language": "python",
   "name": "python3"
  },
  "language_info": {
   "codemirror_mode": {
    "name": "ipython",
    "version": 3
   },
   "file_extension": ".py",
   "mimetype": "text/x-python",
   "name": "python",
   "nbconvert_exporter": "python",
   "pygments_lexer": "ipython3",
   "version": "3.8.5"
  }
 },
 "nbformat": 4,
 "nbformat_minor": 5
}
