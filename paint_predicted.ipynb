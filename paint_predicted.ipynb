{
 "cells": [
  {
   "cell_type": "code",
   "execution_count": 1,
   "id": "d2755cd9",
   "metadata": {},
   "outputs": [],
   "source": [
    "import geojson\n",
    "import geopandas as gpd\n",
    "import random\n",
    "\n",
    "import pandas as pd\n",
    "import seaborn as sns\n",
    "import numpy as np\n",
    "import matplotlib.pyplot as plt\n",
    "import matplotlib as mpl\n",
    "import matplotlib.colors as colors"
   ]
  },
  {
   "cell_type": "code",
   "execution_count": 2,
   "id": "39137149",
   "metadata": {},
   "outputs": [],
   "source": [
    "data = pd.read_csv('./csv/predicted_co_m20.csv')\n",
    "true = pd.read_csv('./classif/classif20by20_sl.csv')\n",
    "#gdf = gpd.read_file('./geojsons/milano-grid.geojson')\n",
    "\n",
    "with open(\"./geojsons/milano-grid.geojson\") as json_file:\n",
    "    json_data = geojson.load(json_file)\n"
   ]
  },
  {
   "cell_type": "code",
   "execution_count": 3,
   "id": "60086471",
   "metadata": {},
   "outputs": [],
   "source": [
    "for i in range(0, len(data)):\n",
    "    if(data.loc[i].predicted == 0): #work - rojo\n",
    "        if(true.loc[i].hw == 0):\n",
    "            json_data.features[int(data.loc[i].cellid)-1].properties = {\n",
    "                \"stroke\": colors.to_hex([ 0.05, 0.95, 0.0, 0.5 ], keep_alpha = True),\n",
    "                \"fill\": colors.to_hex([ 0.95,0.95, 0.0, 0.95 ], keep_alpha = True),\n",
    "                \"fill-opacity\": 0.4,\n",
    "                \"stroke-width\": 2.5,\n",
    "                \"stroke-opacity\": 0.75,\n",
    "                \"cell-type\": \"work\",\n",
    "                \"cellId\": int(data.loc[i].cellid)\n",
    "            }\n",
    "        else: #true: home\n",
    "            json_data.features[int(data.loc[i].cellid)-1].properties = {\n",
    "                \"stroke\": colors.to_hex([ 0.9,0.05, 0.0, 0.5 ], keep_alpha = True),\n",
    "                \"fill\": colors.to_hex([ 0.9,0.9, 0.0, 0.45 ], keep_alpha = True),\n",
    "                \"fill-opacity\": 0.4,\n",
    "                \"stroke-width\": 2.5,\n",
    "                \"stroke-opacity\": 0.75,\n",
    "                \"cell-type\": \"home\",\n",
    "                \"cellId\": int(data.loc[i].cellid)\n",
    "            }\n",
    "    else: #predicted 1 - home: azul\n",
    "        if(true.loc[i].hw == 1):\n",
    "            json_data.features[int(data.loc[i].cellid)-1].properties = {\n",
    "                \"stroke\": colors.to_hex([ 0.05, 0.95, 0.0, 0.5 ], keep_alpha = True),\n",
    "                \"fill\": colors.to_hex([ 0.95,0.05, 0.0, 0.95 ], keep_alpha = True),\n",
    "                \"fill-opacity\": 0.4,\n",
    "                \"stroke-width\": 2.5,\n",
    "                \"stroke-opacity\": 0.75,\n",
    "                \"cell-type\": \"home\",\n",
    "                \"cellId\": int(data.loc[i].cellid)\n",
    "            }\n",
    "        else: #true: work\n",
    "            json_data.features[int(data.loc[i].cellid)-1].properties = {\n",
    "                \"stroke\": colors.to_hex([ 0.9,0.05, 0.0, 0.5 ], keep_alpha = True),\n",
    "                \"fill\": colors.to_hex([ 0.95,0.05, 0.0, 0.45 ], keep_alpha = True),\n",
    "                \"fill-opacity\": 0.4,\n",
    "                \"stroke-width\": 2.5,\n",
    "                \"stroke-opacity\": 0.75,\n",
    "                \"cell-type\": \"work\",\n",
    "                \"cellId\": int(data.loc[i].cellid)\n",
    "            }"
   ]
  },
  {
   "cell_type": "code",
   "execution_count": 4,
   "id": "0c509bb8",
   "metadata": {},
   "outputs": [],
   "source": [
    "with open(\"./geojsons/predictions_20co.geojson\", \"w\") as json_file:\n",
    "    geojson.dump(json_data, json_file)"
   ]
  }
 ],
 "metadata": {
  "kernelspec": {
   "display_name": "Python 3",
   "language": "python",
   "name": "python3"
  },
  "language_info": {
   "codemirror_mode": {
    "name": "ipython",
    "version": 3
   },
   "file_extension": ".py",
   "mimetype": "text/x-python",
   "name": "python",
   "nbconvert_exporter": "python",
   "pygments_lexer": "ipython3",
   "version": "3.8.5"
  }
 },
 "nbformat": 4,
 "nbformat_minor": 5
}
