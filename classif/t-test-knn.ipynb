{
 "cells": [
  {
   "cell_type": "code",
   "execution_count": 1,
   "id": "f3d2a49f",
   "metadata": {},
   "outputs": [],
   "source": [
    "import pandas as pd\n",
    "import numpy as np\n",
    "import researchpy as rp\n",
    "import scipy.stats as stats"
   ]
  },
  {
   "cell_type": "code",
   "execution_count": 2,
   "id": "67525a1e",
   "metadata": {},
   "outputs": [],
   "source": [
    "#20x20 knn study\n",
    "df_k5_20_d = pd.read_csv(\"./knn/knn5-20x20-day.csv\", sep=\";\", decimal=\",\", index_col=0)\n",
    "df_k10_20_d = pd.read_csv(\"./knn/knn10-20x20-day.csv\", sep=\";\", decimal=\",\", index_col=0)\n",
    "df_k5_20_w = pd.read_csv(\"./knn/knn5-20x20-week.csv\", sep=\";\", decimal=\",\", index_col=0)\n",
    "df_k10_20_w = pd.read_csv(\"./knn/knn10-20x20-week.csv\", sep=\";\", decimal=\",\", index_col=0)\n",
    "\n",
    "#Random grid knn study\n",
    "df_k5_r_d = pd.read_csv(\"./knn/knn5-random-day.csv\", sep=\";\", decimal=\",\", index_col=0)\n",
    "df_k10_r_d = pd.read_csv(\"./knn/knn10-random-day.csv\", sep=\";\", decimal=\",\", index_col=0)\n",
    "df_k5_r_w = pd.read_csv(\"./knn/knn5-random-week.csv\", sep=\";\", decimal=\",\", index_col=0)\n",
    "df_k10_r_w = pd.read_csv(\"./knn/knn10-random-week.csv\", sep=\";\", decimal=\",\", index_col=0)\n"
   ]
  },
  {
   "cell_type": "code",
   "execution_count": 3,
   "id": "269b16d5",
   "metadata": {
    "scrolled": false
   },
   "outputs": [
    {
     "data": {
      "text/html": [
       "<div>\n",
       "<style scoped>\n",
       "    .dataframe tbody tr th:only-of-type {\n",
       "        vertical-align: middle;\n",
       "    }\n",
       "\n",
       "    .dataframe tbody tr th {\n",
       "        vertical-align: top;\n",
       "    }\n",
       "\n",
       "    .dataframe thead th {\n",
       "        text-align: right;\n",
       "    }\n",
       "</style>\n",
       "<table border=\"1\" class=\"dataframe\">\n",
       "  <thead>\n",
       "    <tr style=\"text-align: right;\">\n",
       "      <th></th>\n",
       "      <th>Acc1</th>\n",
       "      <th>Acc2</th>\n",
       "      <th>Acc3</th>\n",
       "      <th>Acc4</th>\n",
       "      <th>Acc5</th>\n",
       "      <th>Acc6</th>\n",
       "      <th>Acc7</th>\n",
       "      <th>Acc8</th>\n",
       "      <th>Acc9</th>\n",
       "      <th>Acc10</th>\n",
       "    </tr>\n",
       "    <tr>\n",
       "      <th>Dataset</th>\n",
       "      <th></th>\n",
       "      <th></th>\n",
       "      <th></th>\n",
       "      <th></th>\n",
       "      <th></th>\n",
       "      <th></th>\n",
       "      <th></th>\n",
       "      <th></th>\n",
       "      <th></th>\n",
       "      <th></th>\n",
       "    </tr>\n",
       "  </thead>\n",
       "  <tbody>\n",
       "    <tr>\n",
       "      <th>smsin</th>\n",
       "      <td>0.850</td>\n",
       "      <td>0.825</td>\n",
       "      <td>0.900</td>\n",
       "      <td>0.725</td>\n",
       "      <td>0.750</td>\n",
       "      <td>0.750</td>\n",
       "      <td>0.725</td>\n",
       "      <td>0.775</td>\n",
       "      <td>0.725</td>\n",
       "      <td>0.750</td>\n",
       "    </tr>\n",
       "    <tr>\n",
       "      <th>smsout</th>\n",
       "      <td>0.825</td>\n",
       "      <td>0.775</td>\n",
       "      <td>0.825</td>\n",
       "      <td>0.750</td>\n",
       "      <td>0.675</td>\n",
       "      <td>0.825</td>\n",
       "      <td>0.750</td>\n",
       "      <td>0.625</td>\n",
       "      <td>0.775</td>\n",
       "      <td>0.725</td>\n",
       "    </tr>\n",
       "    <tr>\n",
       "      <th>callin</th>\n",
       "      <td>0.875</td>\n",
       "      <td>0.775</td>\n",
       "      <td>0.850</td>\n",
       "      <td>0.675</td>\n",
       "      <td>0.800</td>\n",
       "      <td>0.800</td>\n",
       "      <td>0.725</td>\n",
       "      <td>0.725</td>\n",
       "      <td>0.775</td>\n",
       "      <td>0.750</td>\n",
       "    </tr>\n",
       "    <tr>\n",
       "      <th>callout</th>\n",
       "      <td>0.825</td>\n",
       "      <td>0.825</td>\n",
       "      <td>0.850</td>\n",
       "      <td>0.675</td>\n",
       "      <td>0.800</td>\n",
       "      <td>0.800</td>\n",
       "      <td>0.625</td>\n",
       "      <td>0.750</td>\n",
       "      <td>0.775</td>\n",
       "      <td>0.775</td>\n",
       "    </tr>\n",
       "    <tr>\n",
       "      <th>internet</th>\n",
       "      <td>0.750</td>\n",
       "      <td>0.675</td>\n",
       "      <td>0.675</td>\n",
       "      <td>0.525</td>\n",
       "      <td>0.700</td>\n",
       "      <td>0.700</td>\n",
       "      <td>0.700</td>\n",
       "      <td>0.650</td>\n",
       "      <td>0.800</td>\n",
       "      <td>0.750</td>\n",
       "    </tr>\n",
       "  </tbody>\n",
       "</table>\n",
       "</div>"
      ],
      "text/plain": [
       "           Acc1   Acc2   Acc3   Acc4   Acc5   Acc6   Acc7   Acc8   Acc9  Acc10\n",
       "Dataset                                                                       \n",
       "smsin     0.850  0.825  0.900  0.725  0.750  0.750  0.725  0.775  0.725  0.750\n",
       "smsout    0.825  0.775  0.825  0.750  0.675  0.825  0.750  0.625  0.775  0.725\n",
       "callin    0.875  0.775  0.850  0.675  0.800  0.800  0.725  0.725  0.775  0.750\n",
       "callout   0.825  0.825  0.850  0.675  0.800  0.800  0.625  0.750  0.775  0.775\n",
       "internet  0.750  0.675  0.675  0.525  0.700  0.700  0.700  0.650  0.800  0.750"
      ]
     },
     "execution_count": 3,
     "metadata": {},
     "output_type": "execute_result"
    }
   ],
   "source": [
    "df_k5_20_w"
   ]
  },
  {
   "cell_type": "code",
   "execution_count": 4,
   "id": "889d1099",
   "metadata": {
    "scrolled": true
   },
   "outputs": [
    {
     "name": "stdout",
     "output_type": "stream",
     "text": [
      "Acc1     0.800\n",
      "Acc2     0.875\n",
      "Acc3     0.875\n",
      "Acc4     0.750\n",
      "Acc5     0.725\n",
      "Acc6     0.825\n",
      "Acc7     0.725\n",
      "Acc8     0.750\n",
      "Acc9     0.750\n",
      "Acc10    0.750\n",
      "Name: smsin, dtype: float64\n"
     ]
    }
   ],
   "source": [
    "accsi=df_k5_20_w.iloc[0]\n",
    "accsi2=df_k10_20_w.iloc[0]\n",
    "print(accsi2) #Pandas Series of float64"
   ]
  },
  {
   "cell_type": "code",
   "execution_count": 5,
   "id": "5bcc6c8e",
   "metadata": {
    "scrolled": true
   },
   "outputs": [
    {
     "data": {
      "text/plain": [
       "(    Variable     N    Mean        SD        SE  95% Conf.  Interval\n",
       " 0   k5-20-si  10.0  0.7775  0.060610  0.019167   0.734142  0.820858\n",
       " 1  k10-20-si  10.0  0.7825  0.057795  0.018276   0.741156  0.823844\n",
       " 2   combined  20.0  0.7800  0.057697  0.012901   0.752997  0.807003,\n",
       "                      Independent t-test  results\n",
       " 0  Difference (k5-20-si - k10-20-si) =   -0.0050\n",
       " 1                 Degrees of freedom =   18.0000\n",
       " 2                                  t =   -0.1888\n",
       " 3              Two side test p value =    0.8524\n",
       " 4             Difference < 0 p value =    0.4262\n",
       " 5             Difference > 0 p value =    0.5738\n",
       " 6                          Cohen's d =   -0.0844\n",
       " 7                          Hedge's g =   -0.0809\n",
       " 8                      Glass's delta =   -0.0825\n",
       " 9                        Pearson's r =    0.0445)"
      ]
     },
     "execution_count": 5,
     "metadata": {},
     "output_type": "execute_result"
    }
   ],
   "source": [
    "#SMSIN\n",
    "rp.ttest(group1=accsi ,group1_name=\"k5-20-si\", group2=accsi2, group2_name=\"k10-20-si\")"
   ]
  },
  {
   "cell_type": "code",
   "execution_count": 6,
   "id": "8c198b18",
   "metadata": {},
   "outputs": [
    {
     "name": "stdout",
     "output_type": "stream",
     "text": [
      "Acc1     0.825\n",
      "Acc2     0.825\n",
      "Acc3     0.775\n",
      "Acc4     0.775\n",
      "Acc5     0.725\n",
      "Acc6     0.800\n",
      "Acc7     0.750\n",
      "Acc8     0.675\n",
      "Acc9     0.875\n",
      "Acc10    0.725\n",
      "Name: smsout, dtype: float64\n"
     ]
    }
   ],
   "source": [
    "accso=df_k5_20_w.iloc[1]\n",
    "accso2=df_k10_20_w.iloc[1]\n",
    "print(accso2) #Pandas Series of float64"
   ]
  },
  {
   "cell_type": "code",
   "execution_count": 7,
   "id": "1608709a",
   "metadata": {},
   "outputs": [
    {
     "data": {
      "text/plain": [
       "(    Variable     N   Mean        SD        SE  95% Conf.  Interval\n",
       " 0   k5-20-so  10.0  0.755  0.066458  0.021016   0.707459  0.802541\n",
       " 1  k10-20-so  10.0  0.775  0.058926  0.018634   0.732847  0.817153\n",
       " 2   combined  20.0  0.765  0.061985  0.013860   0.735990  0.794010,\n",
       "                      Independent t-test  results\n",
       " 0  Difference (k5-20-so - k10-20-so) =   -0.0200\n",
       " 1                 Degrees of freedom =   18.0000\n",
       " 2                                  t =   -0.7121\n",
       " 3              Two side test p value =    0.4855\n",
       " 4             Difference < 0 p value =    0.2428\n",
       " 5             Difference > 0 p value =    0.7572\n",
       " 6                          Cohen's d =   -0.3184\n",
       " 7                          Hedge's g =   -0.3050\n",
       " 8                      Glass's delta =   -0.3009\n",
       " 9                        Pearson's r =    0.1655)"
      ]
     },
     "execution_count": 7,
     "metadata": {},
     "output_type": "execute_result"
    }
   ],
   "source": [
    "#SMSOUT\n",
    "rp.ttest(group1=accso ,group1_name=\"k5-20-so\", group2=accso2, group2_name=\"k10-20-so\")\n",
    "#5% alpha, t-table (df 18): 2.101\n"
   ]
  },
  {
   "cell_type": "code",
   "execution_count": 8,
   "id": "9212a4ec",
   "metadata": {},
   "outputs": [
    {
     "name": "stdout",
     "output_type": "stream",
     "text": [
      "Acc1     0.825\n",
      "Acc2     0.825\n",
      "Acc3     0.775\n",
      "Acc4     0.775\n",
      "Acc5     0.725\n",
      "Acc6     0.800\n",
      "Acc7     0.750\n",
      "Acc8     0.675\n",
      "Acc9     0.875\n",
      "Acc10    0.725\n",
      "Name: smsout, dtype: float64\n"
     ]
    }
   ],
   "source": [
    "accci=df_k5_20_d.iloc[2]\n",
    "accci2=df_k5_20_w.iloc[2]\n",
    "print(accso2) #Pandas Series of float64"
   ]
  },
  {
   "cell_type": "code",
   "execution_count": 9,
   "id": "84127729",
   "metadata": {
    "scrolled": true
   },
   "outputs": [
    {
     "data": {
      "text/plain": [
       "(     Variable     N     Mean        SD        SE  95% Conf.  Interval\n",
       " 0  k5-20-ci-d  10.0  0.75250  0.072121  0.022807   0.700908  0.804092\n",
       " 1  k5-20-ci-w  10.0  0.77500  0.060093  0.019003   0.732012  0.817988\n",
       " 2    combined  20.0  0.76375  0.065632  0.014676   0.733033  0.794467,\n",
       "                         Independent t-test  results\n",
       " 0  Difference (k5-20-ci-d - k5-20-ci-w) =   -0.0225\n",
       " 1                    Degrees of freedom =   18.0000\n",
       " 2                                     t =   -0.7579\n",
       " 3                 Two side test p value =    0.4583\n",
       " 4                Difference < 0 p value =    0.2291\n",
       " 5                Difference > 0 p value =    0.7709\n",
       " 6                             Cohen's d =   -0.3390\n",
       " 7                             Hedge's g =   -0.3246\n",
       " 8                         Glass's delta =   -0.3120\n",
       " 9                           Pearson's r =    0.1759)"
      ]
     },
     "execution_count": 9,
     "metadata": {},
     "output_type": "execute_result"
    }
   ],
   "source": [
    "#CALLIN\n",
    "rp.ttest(group1=accci ,group1_name=\"k5-20-ci-d\", group2=accci2, group2_name=\"k5-20-ci-w\")"
   ]
  },
  {
   "cell_type": "code",
   "execution_count": 10,
   "id": "da3a606e",
   "metadata": {},
   "outputs": [
    {
     "name": "stdout",
     "output_type": "stream",
     "text": [
      "Acc1     0.775\n",
      "Acc2     0.875\n",
      "Acc3     0.825\n",
      "Acc4     0.725\n",
      "Acc5     0.825\n",
      "Acc6     0.775\n",
      "Acc7     0.600\n",
      "Acc8     0.825\n",
      "Acc9     0.825\n",
      "Acc10    0.800\n",
      "Name: callout, dtype: float64\n"
     ]
    }
   ],
   "source": [
    "accco=df_k5_20_d.iloc[3]\n",
    "accco2=df_k10_20_d.iloc[3]\n",
    "print(accco2) #Pandas Series of float64"
   ]
  },
  {
   "cell_type": "code",
   "execution_count": 11,
   "id": "f6af4961",
   "metadata": {
    "scrolled": true
   },
   "outputs": [
    {
     "data": {
      "text/plain": [
       "(      Variable     N    Mean        SD        SE  95% Conf.  Interval\n",
       " 0   k5-20-co-d  10.0  0.7800  0.083997  0.026562   0.719912  0.840088\n",
       " 1  k10-20-co-d  10.0  0.7850  0.076558  0.024210   0.730234  0.839766\n",
       " 2     combined  20.0  0.7825  0.078262  0.017500   0.745872  0.819128,\n",
       "                          Independent t-test  results\n",
       " 0  Difference (k5-20-co-d - k10-20-co-d) =   -0.0050\n",
       " 1                     Degrees of freedom =   18.0000\n",
       " 2                                      t =   -0.1391\n",
       " 3                  Two side test p value =    0.8909\n",
       " 4                 Difference < 0 p value =    0.4454\n",
       " 5                 Difference > 0 p value =    0.5546\n",
       " 6                              Cohen's d =   -0.0622\n",
       " 7                              Hedge's g =   -0.0596\n",
       " 8                          Glass's delta =   -0.0595\n",
       " 9                            Pearson's r =    0.0328)"
      ]
     },
     "execution_count": 11,
     "metadata": {},
     "output_type": "execute_result"
    }
   ],
   "source": [
    "#CALLOUT\n",
    "rp.ttest(group1=accco ,group1_name=\"k5-20-co-d\", group2=accco2, group2_name=\"k10-20-co-d\")"
   ]
  },
  {
   "cell_type": "code",
   "execution_count": 12,
   "id": "aeb03f18",
   "metadata": {},
   "outputs": [
    {
     "name": "stdout",
     "output_type": "stream",
     "text": [
      "Acc1     0.850\n",
      "Acc2     0.725\n",
      "Acc3     0.700\n",
      "Acc4     0.675\n",
      "Acc5     0.700\n",
      "Acc6     0.775\n",
      "Acc7     0.650\n",
      "Acc8     0.650\n",
      "Acc9     0.775\n",
      "Acc10    0.775\n",
      "Name: internet, dtype: float64\n"
     ]
    }
   ],
   "source": [
    "accin=df_k5_20_d.iloc[4]\n",
    "accin2=df_k10_20_d.iloc[4]0\n",
    "print(accin2) #Pandas Series of float64"
   ]
  },
  {
   "cell_type": "code",
   "execution_count": 13,
   "id": "7c978014",
   "metadata": {},
   "outputs": [
    {
     "data": {
      "text/plain": [
       "(      Variable     N    Mean        SD        SE  95% Conf.  Interval\n",
       " 0   k5-20-in-d  10.0  0.7275  0.059454  0.018801   0.684970  0.770030\n",
       " 1  k10-20-in-d  10.0  0.7275  0.065032  0.020565   0.680979  0.774021\n",
       " 2     combined  20.0  0.7275  0.060643  0.013560   0.699118  0.755882,\n",
       "                          Independent t-test  results\n",
       " 0  Difference (k5-20-in-d - k10-20-in-d) =      -0.0\n",
       " 1                     Degrees of freedom =      18.0\n",
       " 2                                      t =      -0.0\n",
       " 3                  Two side test p value =       1.0\n",
       " 4                 Difference < 0 p value =       0.5\n",
       " 5                 Difference > 0 p value =       0.5\n",
       " 6                              Cohen's d =      -0.0\n",
       " 7                              Hedge's g =      -0.0\n",
       " 8                          Glass's delta =      -0.0\n",
       " 9                            Pearson's r =       0.0)"
      ]
     },
     "execution_count": 13,
     "metadata": {},
     "output_type": "execute_result"
    }
   ],
   "source": [
    "rp.ttest(group1=accin ,group1_name=\"k5-20-in-d\", group2=accin2, group2_name=\"k10-20-in-d\")"
   ]
  }
 ],
 "metadata": {
  "kernelspec": {
   "display_name": "Python 3 (ipykernel)",
   "language": "python",
   "name": "python3"
  },
  "language_info": {
   "codemirror_mode": {
    "name": "ipython",
    "version": 3
   },
   "file_extension": ".py",
   "mimetype": "text/x-python",
   "name": "python",
   "nbconvert_exporter": "python",
   "pygments_lexer": "ipython3",
   "version": "3.10.2"
  }
 },
 "nbformat": 4,
 "nbformat_minor": 5
}
