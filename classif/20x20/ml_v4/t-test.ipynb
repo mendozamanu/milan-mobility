{
 "cells": [
  {
   "cell_type": "code",
   "execution_count": 1,
   "id": "f3d2a49f",
   "metadata": {},
   "outputs": [],
   "source": [
    "import pandas as pd\n",
    "import numpy as np\n",
    "import researchpy as rp\n",
    "import scipy.stats as stats"
   ]
  },
  {
   "cell_type": "code",
   "execution_count": 2,
   "id": "67525a1e",
   "metadata": {},
   "outputs": [],
   "source": [
    "df_br = pd.read_csv(\"./BR.csv\", sep=\",\", index_col=False)\n",
    "df_lp = pd.read_csv(\"./LP.csv\", sep=\"\\t\", index_col=False)\n",
    "df_cc = pd.read_csv(\"./CC.csv\", sep=\"\\t\", index_col=False)\n",
    "df_ml = pd.read_csv(\"./ML.csv\", sep=\"\\t\", index_col=False)\n"
   ]
  },
  {
   "cell_type": "code",
   "execution_count": 3,
   "id": "269b16d5",
   "metadata": {
    "scrolled": false
   },
   "outputs": [
    {
     "data": {
      "text/html": [
       "<div>\n",
       "<style scoped>\n",
       "    .dataframe tbody tr th:only-of-type {\n",
       "        vertical-align: middle;\n",
       "    }\n",
       "\n",
       "    .dataframe tbody tr th {\n",
       "        vertical-align: top;\n",
       "    }\n",
       "\n",
       "    .dataframe thead th {\n",
       "        text-align: right;\n",
       "    }\n",
       "</style>\n",
       "<table border=\"1\" class=\"dataframe\">\n",
       "  <thead>\n",
       "    <tr style=\"text-align: right;\">\n",
       "      <th></th>\n",
       "      <th>Dataset</th>\n",
       "      <th>Accuracy</th>\n",
       "      <th>HammingLoss</th>\n",
       "      <th>Coverage</th>\n",
       "      <th>RankingLoss</th>\n",
       "      <th>Avgprecisionmacro</th>\n",
       "      <th>Avgprecisionmicro</th>\n",
       "      <th>ROCAUC</th>\n",
       "      <th>f1scoremicro</th>\n",
       "      <th>Recallmicro</th>\n",
       "      <th>f1scoremacro</th>\n",
       "      <th>Recallmacro</th>\n",
       "    </tr>\n",
       "  </thead>\n",
       "  <tbody>\n",
       "    <tr>\n",
       "      <th>0</th>\n",
       "      <td>classif20x20week_callin</td>\n",
       "      <td>[0.525, 0.3902439024390244, 0.3846153846153846...</td>\n",
       "      <td>[0.205, 0.24878048780487805, 0.2, 0.195, 0.167...</td>\n",
       "      <td>[2.875, 3.097560975609756, 2.717948717948718, ...</td>\n",
       "      <td>[0.1375, 0.2113821138211382, 0.149572649572649...</td>\n",
       "      <td>[0.7927523243250129, 0.6969974603257598, 0.709...</td>\n",
       "      <td>[0.8546719402307466, 0.7731004981048208, 0.824...</td>\n",
       "      <td>[0.8861420962717315, 0.8308310732274312, 0.875...</td>\n",
       "      <td>0.710568</td>\n",
       "      <td>0.640962</td>\n",
       "      <td>0.786127</td>\n",
       "      <td>0.723404</td>\n",
       "    </tr>\n",
       "    <tr>\n",
       "      <th>1</th>\n",
       "      <td>classif20x20week_callin</td>\n",
       "      <td>[0.425, 0.36585365853658536, 0.358974358974359...</td>\n",
       "      <td>[0.215, 0.24390243902439024, 0.215384615384615...</td>\n",
       "      <td>[2.9, 3.073170731707317, 2.923076923076923, 2....</td>\n",
       "      <td>[0.14583333333333331, 0.2073170731707317, 0.18...</td>\n",
       "      <td>[0.7623821052690442, 0.6822896227269727, 0.709...</td>\n",
       "      <td>[0.8447296052842945, 0.7497187796131544, 0.791...</td>\n",
       "      <td>[0.8883026831474223, 0.8197404106935295, 0.856...</td>\n",
       "      <td>0.700631</td>\n",
       "      <td>0.690962</td>\n",
       "      <td>0.756757</td>\n",
       "      <td>0.744681</td>\n",
       "    </tr>\n",
       "    <tr>\n",
       "      <th>2</th>\n",
       "      <td>classif20x20week_callout</td>\n",
       "      <td>[0.375, 0.48717948717948717, 0.475, 0.48780487...</td>\n",
       "      <td>[0.2, 0.1641025641025641, 0.18, 0.175609756097...</td>\n",
       "      <td>[2.85, 2.769230769230769, 2.85, 2.804878048780...</td>\n",
       "      <td>[0.14583333333333331, 0.12393162393162392, 0.1...</td>\n",
       "      <td>[0.7685069672922973, 0.8276144705702408, 0.702...</td>\n",
       "      <td>[0.837058543579003, 0.866381204157366, 0.85720...</td>\n",
       "      <td>[0.8786868686868687, 0.9057499466609771, 0.893...</td>\n",
       "      <td>0.772308</td>\n",
       "      <td>0.741525</td>\n",
       "      <td>0.812121</td>\n",
       "      <td>0.770115</td>\n",
       "    </tr>\n",
       "    <tr>\n",
       "      <th>3</th>\n",
       "      <td>classif20x20week_callout</td>\n",
       "      <td>[0.35, 0.48717948717948717, 0.425, 0.439024390...</td>\n",
       "      <td>[0.2, 0.16923076923076924, 0.205, 0.1853658536...</td>\n",
       "      <td>[2.95, 2.769230769230769, 2.975, 2.85365853658...</td>\n",
       "      <td>[0.1708333333333333, 0.13888888888888887, 0.18...</td>\n",
       "      <td>[0.7840115760111983, 0.7856143710827898, 0.694...</td>\n",
       "      <td>[0.8048845747427029, 0.8155689709130023, 0.832...</td>\n",
       "      <td>[0.865909090909091, 0.877960315767015, 0.87807...</td>\n",
       "      <td>0.801235</td>\n",
       "      <td>0.785664</td>\n",
       "      <td>0.830409</td>\n",
       "      <td>0.816092</td>\n",
       "    </tr>\n",
       "    <tr>\n",
       "      <th>4</th>\n",
       "      <td>classif20x20week_internet</td>\n",
       "      <td>[0.325, 0.3333333333333333, 0.4634146341463415...</td>\n",
       "      <td>[0.225, 0.2205128205128205, 0.1902439024390244...</td>\n",
       "      <td>[3.05, 2.9743589743589745, 2.7804878048780486,...</td>\n",
       "      <td>[0.17916666666666664, 0.16666666666666666, 0.1...</td>\n",
       "      <td>[0.7503205369972067, 0.7290896550569774, 0.819...</td>\n",
       "      <td>[0.8200671832227613, 0.8522946389277474, 0.888...</td>\n",
       "      <td>[0.8647545115435024, 0.8779799914857386, 0.909...</td>\n",
       "      <td>0.660000</td>\n",
       "      <td>0.575592</td>\n",
       "      <td>0.761290</td>\n",
       "      <td>0.686047</td>\n",
       "    </tr>\n",
       "    <tr>\n",
       "      <th>5</th>\n",
       "      <td>classif20x20week_internet</td>\n",
       "      <td>[0.375, 0.5128205128205128, 0.4146341463414634...</td>\n",
       "      <td>[0.185, 0.2, 0.2048780487804878, 0.22857142857...</td>\n",
       "      <td>[3.1, 2.9743589743589745, 3.0, 2.9523809523809...</td>\n",
       "      <td>[0.17916666666666664, 0.17735042735042733, 0.1...</td>\n",
       "      <td>[0.795920702732411, 0.7245455355647007, 0.8026...</td>\n",
       "      <td>[0.8334034601969518, 0.8372985510679822, 0.857...</td>\n",
       "      <td>[0.8764996471418489, 0.8812260536398469, 0.895...</td>\n",
       "      <td>0.758858</td>\n",
       "      <td>0.778169</td>\n",
       "      <td>0.804598</td>\n",
       "      <td>0.813953</td>\n",
       "    </tr>\n",
       "    <tr>\n",
       "      <th>6</th>\n",
       "      <td>classif20x20week_smsin</td>\n",
       "      <td>[0.4634146341463415, 0.39473684210526316, 0.40...</td>\n",
       "      <td>[0.16585365853658537, 0.24736842105263157, 0.2...</td>\n",
       "      <td>[2.5609756097560976, 3.1842105263157894, 2.880...</td>\n",
       "      <td>[0.08943089430894309, 0.24122807017543862, 0.1...</td>\n",
       "      <td>[0.8455487275828096, 0.7201670721123318, 0.735...</td>\n",
       "      <td>[0.8950890016861003, 0.799334790253314, 0.8550...</td>\n",
       "      <td>[0.9273278183916891, 0.8470588235294118, 0.883...</td>\n",
       "      <td>0.737270</td>\n",
       "      <td>0.695079</td>\n",
       "      <td>0.788235</td>\n",
       "      <td>0.728261</td>\n",
       "    </tr>\n",
       "    <tr>\n",
       "      <th>7</th>\n",
       "      <td>classif20x20week_smsin</td>\n",
       "      <td>[0.6341463414634146, 0.47368421052631576, 0.40...</td>\n",
       "      <td>[0.12195121951219512, 0.21578947368421053, 0.2...</td>\n",
       "      <td>[2.682926829268293, 3.1578947368421053, 2.9761...</td>\n",
       "      <td>[0.10162601626016259, 0.21929824561403505, 0.1...</td>\n",
       "      <td>[0.8651181270814551, 0.7012743052095566, 0.749...</td>\n",
       "      <td>[0.9025551489836381, 0.789122097717402, 0.8573...</td>\n",
       "      <td>[0.9318968834166987, 0.8455462184873949, 0.887...</td>\n",
       "      <td>0.745748</td>\n",
       "      <td>0.716914</td>\n",
       "      <td>0.795455</td>\n",
       "      <td>0.760870</td>\n",
       "    </tr>\n",
       "    <tr>\n",
       "      <th>8</th>\n",
       "      <td>classif20x20week_smsout</td>\n",
       "      <td>[0.4186046511627907, 0.5365853658536586, 0.435...</td>\n",
       "      <td>[0.17674418604651163, 0.12195121951219512, 0.1...</td>\n",
       "      <td>[2.7906976744186047, 2.5609756097560976, 2.948...</td>\n",
       "      <td>[0.12403100775193796, 0.07926829268292682, 0.1...</td>\n",
       "      <td>[0.8375146548835604, 0.9060073510038041, 0.784...</td>\n",
       "      <td>[0.877061031380712, 0.9381330085652144, 0.8728...</td>\n",
       "      <td>[0.9064785788923719, 0.9538764909580607, 0.889...</td>\n",
       "      <td>0.700797</td>\n",
       "      <td>0.657784</td>\n",
       "      <td>0.760234</td>\n",
       "      <td>0.698925</td>\n",
       "    </tr>\n",
       "    <tr>\n",
       "      <th>9</th>\n",
       "      <td>classif20x20week_smsout</td>\n",
       "      <td>[0.5813953488372093, 0.6341463414634146, 0.435...</td>\n",
       "      <td>[0.14883720930232558, 0.1024390243902439, 0.2,...</td>\n",
       "      <td>[2.7906976744186047, 2.5365853658536586, 3.179...</td>\n",
       "      <td>[0.10852713178294575, 0.06300813008130081, 0.1...</td>\n",
       "      <td>[0.8587463159195863, 0.9176389946044035, 0.774...</td>\n",
       "      <td>[0.8970596529484548, 0.9342744460394192, 0.834...</td>\n",
       "      <td>[0.925417972831766, 0.954646017699115, 0.875, ...</td>\n",
       "      <td>0.725491</td>\n",
       "      <td>0.682692</td>\n",
       "      <td>0.774566</td>\n",
       "      <td>0.720430</td>\n",
       "    </tr>\n",
       "  </tbody>\n",
       "</table>\n",
       "</div>"
      ],
      "text/plain": [
       "                     Dataset  \\\n",
       "0    classif20x20week_callin   \n",
       "1    classif20x20week_callin   \n",
       "2   classif20x20week_callout   \n",
       "3   classif20x20week_callout   \n",
       "4  classif20x20week_internet   \n",
       "5  classif20x20week_internet   \n",
       "6     classif20x20week_smsin   \n",
       "7     classif20x20week_smsin   \n",
       "8    classif20x20week_smsout   \n",
       "9    classif20x20week_smsout   \n",
       "\n",
       "                                            Accuracy  \\\n",
       "0  [0.525, 0.3902439024390244, 0.3846153846153846...   \n",
       "1  [0.425, 0.36585365853658536, 0.358974358974359...   \n",
       "2  [0.375, 0.48717948717948717, 0.475, 0.48780487...   \n",
       "3  [0.35, 0.48717948717948717, 0.425, 0.439024390...   \n",
       "4  [0.325, 0.3333333333333333, 0.4634146341463415...   \n",
       "5  [0.375, 0.5128205128205128, 0.4146341463414634...   \n",
       "6  [0.4634146341463415, 0.39473684210526316, 0.40...   \n",
       "7  [0.6341463414634146, 0.47368421052631576, 0.40...   \n",
       "8  [0.4186046511627907, 0.5365853658536586, 0.435...   \n",
       "9  [0.5813953488372093, 0.6341463414634146, 0.435...   \n",
       "\n",
       "                                         HammingLoss  \\\n",
       "0  [0.205, 0.24878048780487805, 0.2, 0.195, 0.167...   \n",
       "1  [0.215, 0.24390243902439024, 0.215384615384615...   \n",
       "2  [0.2, 0.1641025641025641, 0.18, 0.175609756097...   \n",
       "3  [0.2, 0.16923076923076924, 0.205, 0.1853658536...   \n",
       "4  [0.225, 0.2205128205128205, 0.1902439024390244...   \n",
       "5  [0.185, 0.2, 0.2048780487804878, 0.22857142857...   \n",
       "6  [0.16585365853658537, 0.24736842105263157, 0.2...   \n",
       "7  [0.12195121951219512, 0.21578947368421053, 0.2...   \n",
       "8  [0.17674418604651163, 0.12195121951219512, 0.1...   \n",
       "9  [0.14883720930232558, 0.1024390243902439, 0.2,...   \n",
       "\n",
       "                                            Coverage  \\\n",
       "0  [2.875, 3.097560975609756, 2.717948717948718, ...   \n",
       "1  [2.9, 3.073170731707317, 2.923076923076923, 2....   \n",
       "2  [2.85, 2.769230769230769, 2.85, 2.804878048780...   \n",
       "3  [2.95, 2.769230769230769, 2.975, 2.85365853658...   \n",
       "4  [3.05, 2.9743589743589745, 2.7804878048780486,...   \n",
       "5  [3.1, 2.9743589743589745, 3.0, 2.9523809523809...   \n",
       "6  [2.5609756097560976, 3.1842105263157894, 2.880...   \n",
       "7  [2.682926829268293, 3.1578947368421053, 2.9761...   \n",
       "8  [2.7906976744186047, 2.5609756097560976, 2.948...   \n",
       "9  [2.7906976744186047, 2.5365853658536586, 3.179...   \n",
       "\n",
       "                                         RankingLoss  \\\n",
       "0  [0.1375, 0.2113821138211382, 0.149572649572649...   \n",
       "1  [0.14583333333333331, 0.2073170731707317, 0.18...   \n",
       "2  [0.14583333333333331, 0.12393162393162392, 0.1...   \n",
       "3  [0.1708333333333333, 0.13888888888888887, 0.18...   \n",
       "4  [0.17916666666666664, 0.16666666666666666, 0.1...   \n",
       "5  [0.17916666666666664, 0.17735042735042733, 0.1...   \n",
       "6  [0.08943089430894309, 0.24122807017543862, 0.1...   \n",
       "7  [0.10162601626016259, 0.21929824561403505, 0.1...   \n",
       "8  [0.12403100775193796, 0.07926829268292682, 0.1...   \n",
       "9  [0.10852713178294575, 0.06300813008130081, 0.1...   \n",
       "\n",
       "                                   Avgprecisionmacro  \\\n",
       "0  [0.7927523243250129, 0.6969974603257598, 0.709...   \n",
       "1  [0.7623821052690442, 0.6822896227269727, 0.709...   \n",
       "2  [0.7685069672922973, 0.8276144705702408, 0.702...   \n",
       "3  [0.7840115760111983, 0.7856143710827898, 0.694...   \n",
       "4  [0.7503205369972067, 0.7290896550569774, 0.819...   \n",
       "5  [0.795920702732411, 0.7245455355647007, 0.8026...   \n",
       "6  [0.8455487275828096, 0.7201670721123318, 0.735...   \n",
       "7  [0.8651181270814551, 0.7012743052095566, 0.749...   \n",
       "8  [0.8375146548835604, 0.9060073510038041, 0.784...   \n",
       "9  [0.8587463159195863, 0.9176389946044035, 0.774...   \n",
       "\n",
       "                                   Avgprecisionmicro  \\\n",
       "0  [0.8546719402307466, 0.7731004981048208, 0.824...   \n",
       "1  [0.8447296052842945, 0.7497187796131544, 0.791...   \n",
       "2  [0.837058543579003, 0.866381204157366, 0.85720...   \n",
       "3  [0.8048845747427029, 0.8155689709130023, 0.832...   \n",
       "4  [0.8200671832227613, 0.8522946389277474, 0.888...   \n",
       "5  [0.8334034601969518, 0.8372985510679822, 0.857...   \n",
       "6  [0.8950890016861003, 0.799334790253314, 0.8550...   \n",
       "7  [0.9025551489836381, 0.789122097717402, 0.8573...   \n",
       "8  [0.877061031380712, 0.9381330085652144, 0.8728...   \n",
       "9  [0.8970596529484548, 0.9342744460394192, 0.834...   \n",
       "\n",
       "                                              ROCAUC  f1scoremicro  \\\n",
       "0  [0.8861420962717315, 0.8308310732274312, 0.875...      0.710568   \n",
       "1  [0.8883026831474223, 0.8197404106935295, 0.856...      0.700631   \n",
       "2  [0.8786868686868687, 0.9057499466609771, 0.893...      0.772308   \n",
       "3  [0.865909090909091, 0.877960315767015, 0.87807...      0.801235   \n",
       "4  [0.8647545115435024, 0.8779799914857386, 0.909...      0.660000   \n",
       "5  [0.8764996471418489, 0.8812260536398469, 0.895...      0.758858   \n",
       "6  [0.9273278183916891, 0.8470588235294118, 0.883...      0.737270   \n",
       "7  [0.9318968834166987, 0.8455462184873949, 0.887...      0.745748   \n",
       "8  [0.9064785788923719, 0.9538764909580607, 0.889...      0.700797   \n",
       "9  [0.925417972831766, 0.954646017699115, 0.875, ...      0.725491   \n",
       "\n",
       "   Recallmicro  f1scoremacro  Recallmacro  \n",
       "0     0.640962      0.786127     0.723404  \n",
       "1     0.690962      0.756757     0.744681  \n",
       "2     0.741525      0.812121     0.770115  \n",
       "3     0.785664      0.830409     0.816092  \n",
       "4     0.575592      0.761290     0.686047  \n",
       "5     0.778169      0.804598     0.813953  \n",
       "6     0.695079      0.788235     0.728261  \n",
       "7     0.716914      0.795455     0.760870  \n",
       "8     0.657784      0.760234     0.698925  \n",
       "9     0.682692      0.774566     0.720430  "
      ]
     },
     "execution_count": 3,
     "metadata": {},
     "output_type": "execute_result"
    }
   ],
   "source": [
    "df_br"
   ]
  },
  {
   "cell_type": "code",
   "execution_count": 4,
   "id": "889d1099",
   "metadata": {},
   "outputs": [],
   "source": [
    "#df_lp"
   ]
  },
  {
   "cell_type": "code",
   "execution_count": 5,
   "id": "b46a4c3c",
   "metadata": {
    "scrolled": true
   },
   "outputs": [
    {
     "name": "stdout",
     "output_type": "stream",
     "text": [
      "[0.5813953  0.63414633 0.43589744 0.51282054 0.4        0.5641026\n",
      " 0.35897437 0.475      0.575      0.45      ]\n",
      "[0.63414633 0.47368422 0.4047619  0.41463414 0.43243244 0.5365854\n",
      " 0.4878049  0.4878049  0.39473686 0.45      ]\n"
     ]
    }
   ],
   "source": [
    "#1: ACC - BR-5 smsout & smsin - MlKNN-5 smsout\n",
    "accso = df_br.Accuracy[9].replace(\"[\", \"\").replace(\" \",\"\").replace(\"]\", \"\").split(\",\")\n",
    "accsi = df_br.Accuracy[7].replace(\"[\", \"\").replace(\" \",\"\").replace(\"]\", \"\").split(\",\")\n",
    "print(np.asarray(accso, dtype=np.float32))\n",
    "print(np.asarray(accsi, dtype=np.float32))\n",
    "accso=pd.Series(data=np.asarray(accso, dtype=np.float64))\n",
    "accsi=pd.Series(data=np.asarray(accsi, dtype=np.float64))"
   ]
  },
  {
   "cell_type": "code",
   "execution_count": 6,
   "id": "5bcc6c8e",
   "metadata": {
    "scrolled": true
   },
   "outputs": [
    {
     "data": {
      "text/plain": [
       "(   Variable     N      Mean        SD        SE  95% Conf.  Interval\n",
       " 0    BR5-so  10.0  0.498734  0.089210  0.028211   0.434917  0.562550\n",
       " 1    BR5-si  10.0  0.471659  0.072107  0.022802   0.420077  0.523241\n",
       " 2  combined  20.0  0.485196  0.080160  0.017924   0.447681  0.522712,\n",
       "                 Independent t-test  results\n",
       " 0  Difference (BR5-so - BR5-si) =    0.0271\n",
       " 1            Degrees of freedom =   18.0000\n",
       " 2                             t =    0.7464\n",
       " 3         Two side test p value =    0.4651\n",
       " 4        Difference < 0 p value =    0.7675\n",
       " 5        Difference > 0 p value =    0.2325\n",
       " 6                     Cohen's d =    0.3338\n",
       " 7                     Hedge's g =    0.3197\n",
       " 8                 Glass's delta =    0.3035\n",
       " 9                   Pearson's r =    0.1733)"
      ]
     },
     "execution_count": 6,
     "metadata": {},
     "output_type": "execute_result"
    }
   ],
   "source": [
    "#Acc Pt 1\n",
    "rp.ttest(group1=accso ,group1_name=\"BR5-so\", group2=accsi, group2_name=\"BR5-si\")"
   ]
  },
  {
   "cell_type": "code",
   "execution_count": 7,
   "id": "8c198b18",
   "metadata": {},
   "outputs": [],
   "source": [
    "accml = df_ml.Accuracy[9].replace(\"[\", \"\").replace(\" \",\"\").replace(\"]\", \"\").split(\",\")"
   ]
  },
  {
   "cell_type": "code",
   "execution_count": 8,
   "id": "1608709a",
   "metadata": {},
   "outputs": [
    {
     "data": {
      "text/plain": [
       "(    Variable     N      Mean        SD        SE  95% Conf.  Interval\n",
       " 0     BR5-so  10.0  0.498734  0.089210  0.028211   0.434917  0.562550\n",
       " 1  BR5-so-ml  10.0  0.476341  0.086878  0.027473   0.414192  0.538489\n",
       " 2   combined  20.0  0.487537  0.086469  0.019335   0.447068  0.528006,\n",
       "                    Independent t-test  results\n",
       " 0  Difference (BR5-so - BR5-so-ml) =    0.0224\n",
       " 1               Degrees of freedom =   18.0000\n",
       " 2                                t =    0.5687\n",
       " 3            Two side test p value =    0.5766\n",
       " 4           Difference < 0 p value =    0.7117\n",
       " 5           Difference > 0 p value =    0.2883\n",
       " 6                        Cohen's d =    0.2543\n",
       " 7                        Hedge's g =    0.2436\n",
       " 8                    Glass's delta =    0.2510\n",
       " 9                      Pearson's r =    0.1328)"
      ]
     },
     "execution_count": 8,
     "metadata": {},
     "output_type": "execute_result"
    }
   ],
   "source": [
    "accml=pd.Series(data=np.asarray(accml, dtype=np.float64))\n",
    "rp.ttest(group1=accso ,group1_name=\"BR5-so\", group2=accml, group2_name=\"so-ml\")\n",
    "#5% alpha, t-table (df 18): 2.101"
   ]
  },
  {
   "cell_type": "code",
   "execution_count": 9,
   "id": "9212a4ec",
   "metadata": {},
   "outputs": [
    {
     "name": "stdout",
     "output_type": "stream",
     "text": [
      "[0.525      0.3902439  0.3846154  0.3        0.4883721  0.36842105\n",
      " 0.51282054 0.475      0.42105263 0.35714287]\n",
      "[0.375      0.4871795  0.475      0.4878049  0.37209302 0.35897437\n",
      " 0.34210527 0.46341464 0.45       0.46153846]\n"
     ]
    }
   ],
   "source": [
    "#2 - Accuracy Pt2\n",
    "acc10 = df_br.Accuracy[0].replace(\"[\", \"\").replace(\" \",\"\").replace(\"]\", \"\").split(\",\") #callin10\n",
    "acc5 = df_br.Accuracy[2].replace(\"[\", \"\").replace(\" \",\"\").replace(\"]\", \"\").split(\",\") #callout10\n",
    "print(np.asarray(acc10, dtype=np.float32))\n",
    "print(np.asarray(acc5, dtype=np.float32))\n",
    "acc10=pd.Series(data=np.asarray(acc10, dtype=np.float64))\n",
    "acc5=pd.Series(data=np.asarray(acc5, dtype=np.float64))"
   ]
  },
  {
   "cell_type": "code",
   "execution_count": 10,
   "id": "84127729",
   "metadata": {
    "scrolled": true
   },
   "outputs": [
    {
     "data": {
      "text/plain": [
       "(   Variable     N      Mean        SD        SE  95% Conf.  Interval\n",
       " 0    BR10Ci  10.0  0.422267  0.074862  0.023673   0.368714  0.475820\n",
       " 1    BR10Co  10.0  0.427311  0.057949  0.018325   0.385857  0.468765\n",
       " 2  combined  20.0  0.424789  0.065208  0.014581   0.394271  0.455307,\n",
       "                 Independent t-test  results\n",
       " 0  Difference (BR10Ci - BR10Co) =   -0.0050\n",
       " 1            Degrees of freedom =   18.0000\n",
       " 2                             t =   -0.1685\n",
       " 3         Two side test p value =    0.8681\n",
       " 4        Difference < 0 p value =    0.4340\n",
       " 5        Difference > 0 p value =    0.5660\n",
       " 6                     Cohen's d =   -0.0754\n",
       " 7                     Hedge's g =   -0.0722\n",
       " 8                 Glass's delta =   -0.0674\n",
       " 9                   Pearson's r =    0.0397)"
      ]
     },
     "execution_count": 10,
     "metadata": {},
     "output_type": "execute_result"
    }
   ],
   "source": [
    "rp.ttest(group1=acc10 ,group1_name=\"BR10Ci\", group2=acc5, group2_name=\"BR10Co\")"
   ]
  },
  {
   "cell_type": "code",
   "execution_count": 11,
   "id": "da3a606e",
   "metadata": {},
   "outputs": [
    {
     "name": "stdout",
     "output_type": "stream",
     "text": [
      "[0.2        0.16923077 0.205      0.18536586 0.2        0.17435898\n",
      " 0.20526315 0.13658537 0.165      0.14871795]\n",
      "[0.195      0.16923077 0.205      0.18536586 0.2        0.17435898\n",
      " 0.20526315 0.13658537 0.165      0.13846155]\n"
     ]
    }
   ],
   "source": [
    "#3 - Hamming loss\n",
    "hlbr = df_br.HammingLoss[3].replace(\"[\", \"\").replace(\" \",\"\").replace(\"]\", \"\").split(\",\") #callout5\n",
    "hlml = df_ml.HammingLoss[3].replace(\"[\", \"\").replace(\" \",\"\").replace(\"]\", \"\").split(\",\") #callout5\n",
    "print(np.asarray(hlbr, dtype=np.float32))\n",
    "print(np.asarray(hlml, dtype=np.float32))\n",
    "hlbr=pd.Series(data=np.asarray(hlbr, dtype=np.float64))\n",
    "hlml=pd.Series(data=np.asarray(hlml, dtype=np.float64))"
   ]
  },
  {
   "cell_type": "code",
   "execution_count": 12,
   "id": "f6af4961",
   "metadata": {
    "scrolled": true
   },
   "outputs": [
    {
     "data": {
      "text/plain": [
       "(   Variable     N      Mean        SD        SE  95% Conf.  Interval\n",
       " 0      hlBR  10.0  0.178952  0.024306  0.007686   0.161564  0.196340\n",
       " 1      hlML  10.0  0.177427  0.025460  0.008051   0.159214  0.195639\n",
       " 2  combined  20.0  0.178189  0.024239  0.005420   0.166845  0.189533,\n",
       "             Independent t-test  results\n",
       " 0  Difference (hlBR - hlML) =    0.0015\n",
       " 1        Degrees of freedom =   18.0000\n",
       " 2                         t =    0.1371\n",
       " 3     Two side test p value =    0.8925\n",
       " 4    Difference < 0 p value =    0.5537\n",
       " 5    Difference > 0 p value =    0.4463\n",
       " 6                 Cohen's d =    0.0613\n",
       " 7                 Hedge's g =    0.0587\n",
       " 8             Glass's delta =    0.0628\n",
       " 9               Pearson's r =    0.0323)"
      ]
     },
     "execution_count": 12,
     "metadata": {},
     "output_type": "execute_result"
    }
   ],
   "source": [
    "rp.ttest(group1=hlbr ,group1_name=\"hlBR\", group2=hlml, group2_name=\"hlML\")"
   ]
  },
  {
   "cell_type": "code",
   "execution_count": 13,
   "id": "aeb03f18",
   "metadata": {},
   "outputs": [
    {
     "name": "stdout",
     "output_type": "stream",
     "text": [
      "[0.14883721 0.10243902 0.2        0.1948718  0.245      0.15897436\n",
      " 0.25128207 0.135      0.13       0.195     ]\n",
      "[0.12195122 0.21578947 0.1952381  0.2        0.18378378 0.16585366\n",
      " 0.1609756  0.15609756 0.2        0.17      ]\n"
     ]
    }
   ],
   "source": [
    "# 4 - Hamming loss pt 2\n",
    "hlbr = df_br.HammingLoss[9].replace(\"[\", \"\").replace(\" \",\"\").replace(\"]\", \"\").split(\",\") #smsout5\n",
    "hlml = df_ml.HammingLoss[7].replace(\"[\", \"\").replace(\" \",\"\").replace(\"]\", \"\").split(\",\") #smsin5\n",
    "print(np.asarray(hlbr, dtype=np.float32))\n",
    "print(np.asarray(hlml, dtype=np.float32))\n",
    "hlbr=pd.Series(data=np.asarray(hlbr, dtype=np.float64))\n",
    "hlml=pd.Series(data=np.asarray(hlml, dtype=np.float64))"
   ]
  },
  {
   "cell_type": "code",
   "execution_count": 14,
   "id": "7c978014",
   "metadata": {},
   "outputs": [
    {
     "data": {
      "text/plain": [
       "(   Variable     N      Mean        SD        SE  95% Conf.  Interval\n",
       " 0      hlBR  10.0  0.176140  0.049393  0.015620   0.140807  0.211474\n",
       " 1      hlML  10.0  0.176969  0.027565  0.008717   0.157250  0.196688\n",
       " 2  combined  20.0  0.176555  0.038933  0.008706   0.158334  0.194776,\n",
       "             Independent t-test  results\n",
       " 0  Difference (hlBR - hlML) =   -0.0008\n",
       " 1        Degrees of freedom =   18.0000\n",
       " 2                         t =   -0.0463\n",
       " 3     Two side test p value =    0.9636\n",
       " 4    Difference < 0 p value =    0.4818\n",
       " 5    Difference > 0 p value =    0.5182\n",
       " 6                 Cohen's d =   -0.0207\n",
       " 7                 Hedge's g =   -0.0198\n",
       " 8             Glass's delta =   -0.0168\n",
       " 9               Pearson's r =    0.0109)"
      ]
     },
     "execution_count": 14,
     "metadata": {},
     "output_type": "execute_result"
    }
   ],
   "source": [
    "rp.ttest(group1=hlbr ,group1_name=\"hlBR\", group2=hlml, group2_name=\"hlML\")"
   ]
  },
  {
   "cell_type": "code",
   "execution_count": 15,
   "id": "f8c22017",
   "metadata": {},
   "outputs": [
    {
     "name": "stdout",
     "output_type": "stream",
     "text": [
      "[2.625     2.7692308 2.8       2.7560976 2.8837209 2.7179487 2.7894738\n",
      " 2.7317073 2.55      2.6923077]\n",
      "[2.7441862 2.5609756 2.897436  2.7948718 2.9       2.6923077 3.128205\n",
      " 2.675     2.575     3.025    ]\n"
     ]
    }
   ],
   "source": [
    "#5 - Coverage\n",
    "covlp = df_lp.Coverage[1].replace(\"[\", \"\").replace(\" \",\"\").replace(\"]\", \"\").split(\",\") #callout\n",
    "covml = df_ml.Coverage[9].replace(\"[\", \"\").replace(\" \",\"\").replace(\"]\", \"\").split(\",\") #smsout5\n",
    "print(np.asarray(covlp, dtype=np.float32))\n",
    "print(np.asarray(covml, dtype=np.float32))\n",
    "covlp=pd.Series(data=np.asarray(covlp, dtype=np.float64))\n",
    "covml=pd.Series(data=np.asarray(covml, dtype=np.float64))"
   ]
  },
  {
   "cell_type": "code",
   "execution_count": 16,
   "id": "2964dadd",
   "metadata": {},
   "outputs": [
    {
     "data": {
      "text/plain": [
       "(   Variable     N      Mean        SD        SE  95% Conf.  Interval\n",
       " 0     covLP  10.0  2.731549  0.093842  0.029676   2.664418  2.798679\n",
       " 1     covML  10.0  2.799298  0.187366  0.059250   2.665265  2.933332\n",
       " 2  combined  20.0  2.765423  0.148353  0.033173   2.695992  2.834855,\n",
       "               Independent t-test  results\n",
       " 0  Difference (covLP - covML) =   -0.0677\n",
       " 1          Degrees of freedom =   18.0000\n",
       " 2                           t =   -1.0224\n",
       " 3       Two side test p value =    0.3201\n",
       " 4      Difference < 0 p value =    0.1601\n",
       " 5      Difference > 0 p value =    0.8399\n",
       " 6                   Cohen's d =   -0.4572\n",
       " 7                   Hedge's g =   -0.4379\n",
       " 8               Glass's delta =   -0.7220\n",
       " 9                 Pearson's r =    0.2343)"
      ]
     },
     "execution_count": 16,
     "metadata": {},
     "output_type": "execute_result"
    }
   ],
   "source": [
    "rp.ttest(group1=covlp ,group1_name=\"covLP\", group2=covml, group2_name=\"covML\")"
   ]
  },
  {
   "cell_type": "code",
   "execution_count": 17,
   "id": "b3ce5c3d",
   "metadata": {},
   "outputs": [
    {
     "name": "stdout",
     "output_type": "stream",
     "text": [
      "[0.09583333 0.11752137 0.1375     0.12195122 0.15116279 0.10683761\n",
      " 0.15570176 0.09146342 0.06666667 0.10897436]\n",
      "[0.09883721 0.07113821 0.13247864 0.1431624  0.15416667 0.12606838\n",
      " 0.22008547 0.1        0.075      0.13958333]\n"
     ]
    }
   ],
   "source": [
    "#6 - RankingLoss\n",
    "rllp = df_lp.RankingLoss[1].replace(\"[\", \"\").replace(\" \",\"\").replace(\"]\", \"\").split(\",\") #callout\n",
    "rlml = df_ml.RankingLoss[9].replace(\"[\", \"\").replace(\" \",\"\").replace(\"]\", \"\").split(\",\") #smsout5\n",
    "print(np.asarray(rllp, dtype=np.float32))\n",
    "print(np.asarray(rlml, dtype=np.float32))\n",
    "rllp=pd.Series(data=np.asarray(rllp, dtype=np.float64))\n",
    "rlml=pd.Series(data=np.asarray(rlml, dtype=np.float64))"
   ]
  },
  {
   "cell_type": "code",
   "execution_count": 18,
   "id": "53649f21",
   "metadata": {},
   "outputs": [
    {
     "data": {
      "text/plain": [
       "(   Variable     N      Mean        SD        SE  95% Conf.  Interval\n",
       " 0      rlLP  10.0  0.115361  0.027657  0.008746   0.095576  0.135146\n",
       " 1      rlML  10.0  0.126052  0.043705  0.013821   0.094787  0.157317\n",
       " 2  combined  20.0  0.120707  0.036017  0.008054   0.103850  0.137563,\n",
       "             Independent t-test  results\n",
       " 0  Difference (rlLP - rlML) =   -0.0107\n",
       " 1        Degrees of freedom =   18.0000\n",
       " 2                         t =   -0.6536\n",
       " 3     Two side test p value =    0.5216\n",
       " 4    Difference < 0 p value =    0.2608\n",
       " 5    Difference > 0 p value =    0.7392\n",
       " 6                 Cohen's d =   -0.2923\n",
       " 7                 Hedge's g =   -0.2800\n",
       " 8             Glass's delta =   -0.3865\n",
       " 9               Pearson's r =    0.1523)"
      ]
     },
     "execution_count": 18,
     "metadata": {},
     "output_type": "execute_result"
    }
   ],
   "source": [
    "rp.ttest(group1=rllp ,group1_name=\"rlLP\", group2=rlml, group2_name=\"rlML\")"
   ]
  },
  {
   "cell_type": "code",
   "execution_count": 19,
   "id": "654a17a2",
   "metadata": {},
   "outputs": [
    {
     "name": "stdout",
     "output_type": "stream",
     "text": [
      "[0.83751464 0.90600735 0.78401273 0.7995001  0.7258016  0.85842514\n",
      " 0.66798145 0.7820753  0.85008407 0.81268173]\n",
      "[0.7840116  0.7856144  0.69472486 0.84059244 0.72919685 0.82979685\n",
      " 0.7646607  0.8503747  0.82857454 0.86165124]\n"
     ]
    }
   ],
   "source": [
    "#7 - Avg prec macro\n",
    "pmso = df_br.Avgprecisionmacro[8].replace(\"[\", \"\").replace(\" \",\"\").replace(\"]\", \"\").split(\",\") #smsout10\n",
    "pmco = df_br.Avgprecisionmacro[3].replace(\"[\", \"\").replace(\" \",\"\").replace(\"]\", \"\").split(\",\") #callout5\n",
    "print(np.asarray(pmso, dtype=np.float32))\n",
    "print(np.asarray(pmco, dtype=np.float32))\n",
    "pmso=pd.Series(data=np.asarray(pmso, dtype=np.float64))\n",
    "pmco=pd.Series(data=np.asarray(pmco, dtype=np.float64))"
   ]
  },
  {
   "cell_type": "code",
   "execution_count": 20,
   "id": "28685c45",
   "metadata": {
    "scrolled": true
   },
   "outputs": [
    {
     "data": {
      "text/plain": [
       "(   Variable     N      Mean        SD        SE  95% Conf.  Interval\n",
       " 0    pmSO10  10.0  0.802408  0.068460  0.021649   0.753435  0.851382\n",
       " 1     pmCO5  10.0  0.796920  0.055180  0.017449   0.757447  0.836393\n",
       " 2  combined  20.0  0.799664  0.060583  0.013547   0.771311  0.828018,\n",
       "                Independent t-test  results\n",
       " 0  Difference (pmSO10 - pmCO5) =    0.0055\n",
       " 1           Degrees of freedom =   18.0000\n",
       " 2                            t =    0.1974\n",
       " 3        Two side test p value =    0.8457\n",
       " 4       Difference < 0 p value =    0.5771\n",
       " 5       Difference > 0 p value =    0.4229\n",
       " 6                    Cohen's d =    0.0883\n",
       " 7                    Hedge's g =    0.0845\n",
       " 8                Glass's delta =    0.0802\n",
       " 9                  Pearson's r =    0.0465)"
      ]
     },
     "execution_count": 20,
     "metadata": {},
     "output_type": "execute_result"
    }
   ],
   "source": [
    "rp.ttest(group1=pmso ,group1_name=\"pmSO10\", group2=pmco, group2_name=\"pmCO5\")"
   ]
  },
  {
   "cell_type": "code",
   "execution_count": 21,
   "id": "1f779cfd",
   "metadata": {},
   "outputs": [
    {
     "name": "stdout",
     "output_type": "stream",
     "text": [
      "[0.89508903 0.79933476 0.8550482  0.8121289  0.9014375  0.8973905\n",
      " 0.8869092  0.90054876 0.8418077  0.9035334 ]\n",
      "[0.89852524 0.86980695 0.87314355 0.8775428  0.85669667 0.89555156\n",
      " 0.8043294  0.9120808  0.9214258  0.9199353 ]\n"
     ]
    }
   ],
   "source": [
    "#7 - Avg prec micro\n",
    "pmiso = df_br.Avgprecisionmicro[6].replace(\"[\", \"\").replace(\" \",\"\").replace(\"]\", \"\").split(\",\") #smsin10\n",
    "pmico = df_lp.Avgprecisionmicro[1].replace(\"[\", \"\").replace(\" \",\"\").replace(\"]\", \"\").split(\",\") #calloutLP\n",
    "print(np.asarray(pmiso, dtype=np.float32))\n",
    "print(np.asarray(pmico, dtype=np.float32))\n",
    "pmiso=pd.Series(data=np.asarray(pmiso, dtype=np.float64))\n",
    "pmico=pd.Series(data=np.asarray(pmico, dtype=np.float64))"
   ]
  },
  {
   "cell_type": "code",
   "execution_count": 22,
   "id": "ac1b0544",
   "metadata": {},
   "outputs": [
    {
     "data": {
      "text/plain": [
       "(   Variable     N      Mean        SD        SE  95% Conf.  Interval\n",
       " 0   pmiSI10  10.0  0.869323  0.039536  0.012502   0.841040  0.897605\n",
       " 1  pmiCO_LP  10.0  0.882904  0.035382  0.011189   0.857593  0.908214\n",
       " 2  combined  20.0  0.876113  0.037175  0.008313   0.858715  0.893512,\n",
       "                    Independent t-test  results\n",
       " 0  Difference (pmiSI10 - pmiCO_LP) =   -0.0136\n",
       " 1               Degrees of freedom =   18.0000\n",
       " 2                                t =   -0.8095\n",
       " 3            Two side test p value =    0.4288\n",
       " 4           Difference < 0 p value =    0.2144\n",
       " 5           Difference > 0 p value =    0.7856\n",
       " 6                        Cohen's d =   -0.3620\n",
       " 7                        Hedge's g =   -0.3467\n",
       " 8                    Glass's delta =   -0.3435\n",
       " 9                      Pearson's r =    0.1874)"
      ]
     },
     "execution_count": 22,
     "metadata": {},
     "output_type": "execute_result"
    }
   ],
   "source": [
    "rp.ttest(group1=pmiso ,group1_name=\"pmiSI10\", group2=pmico, group2_name=\"pmiCO_LP\")"
   ]
  },
  {
   "cell_type": "code",
   "execution_count": 23,
   "id": "a2c975df",
   "metadata": {},
   "outputs": [],
   "source": [
    "#8 - ROC AUC (br10-co & LP-co)\n",
    "rcso = df_br.ROCAUC[2].replace(\"[\", \"\").replace(\" \",\"\").replace(\"]\", \"\").split(\",\") #callout10BR\n",
    "rcco = df_lp.ROCAUC[1].replace(\"[\", \"\").replace(\" \",\"\").replace(\"]\", \"\").split(\",\") #calloutLP\n",
    "#print(np.asarray(pmiso, dtype=np.float32))\n",
    "#print(np.asarray(pmico, dtype=np.float32))\n",
    "rcso=pd.Series(data=np.asarray(rcso, dtype=np.float64))\n",
    "rcco=pd.Series(data=np.asarray(rcco, dtype=np.float64))"
   ]
  },
  {
   "cell_type": "code",
   "execution_count": 24,
   "id": "097b3026",
   "metadata": {},
   "outputs": [
    {
     "data": {
      "text/plain": [
       "(   Variable     N      Mean        SD        SE  95% Conf.  Interval\n",
       " 0    rcCO10  10.0  0.899177  0.024463  0.007736   0.881677  0.916676\n",
       " 1   rcCO_LP  10.0  0.900518  0.024475  0.007740   0.883010  0.918026\n",
       " 2  combined  20.0  0.899847  0.023826  0.005328   0.888696  0.910998,\n",
       "                  Independent t-test  results\n",
       " 0  Difference (rcCO10 - rcCO_LP) =   -0.0013\n",
       " 1             Degrees of freedom =   18.0000\n",
       " 2                              t =   -0.1226\n",
       " 3          Two side test p value =    0.9038\n",
       " 4         Difference < 0 p value =    0.4519\n",
       " 5         Difference > 0 p value =    0.5481\n",
       " 6                      Cohen's d =   -0.0548\n",
       " 7                      Hedge's g =   -0.0525\n",
       " 8                  Glass's delta =   -0.0548\n",
       " 9                    Pearson's r =    0.0289)"
      ]
     },
     "execution_count": 24,
     "metadata": {},
     "output_type": "execute_result"
    }
   ],
   "source": [
    "rp.ttest(group1=rcso ,group1_name=\"rcCO10\", group2=rcco, group2_name=\"rcCO_LP\")"
   ]
  },
  {
   "cell_type": "code",
   "execution_count": 25,
   "id": "3608af90",
   "metadata": {},
   "outputs": [],
   "source": [
    "#8 - ROC AUC (br5-si & LP-co)\n",
    "rcso = df_br.ROCAUC[7].replace(\"[\", \"\").replace(\" \",\"\").replace(\"]\", \"\").split(\",\") #smsin5BR\n",
    "rcco = df_lp.ROCAUC[1].replace(\"[\", \"\").replace(\" \",\"\").replace(\"]\", \"\").split(\",\") #calloutLP\n",
    "#print(np.asarray(pmiso, dtype=np.float32))\n",
    "#print(np.asarray(pmico, dtype=np.float32))\n",
    "rcso=pd.Series(data=np.asarray(rcso, dtype=np.float64))\n",
    "rcco=pd.Series(data=np.asarray(rcco, dtype=np.float64))"
   ]
  },
  {
   "cell_type": "code",
   "execution_count": 26,
   "id": "d8a1b8d5",
   "metadata": {},
   "outputs": [
    {
     "data": {
      "text/plain": [
       "(   Variable     N      Mean        SD        SE  95% Conf.  Interval\n",
       " 0     rcSI5  10.0  0.900416  0.029490  0.009326   0.879321  0.921512\n",
       " 1   rcCO_LP  10.0  0.900518  0.024475  0.007740   0.883010  0.918026\n",
       " 2  combined  20.0  0.900467  0.026376  0.005898   0.888123  0.912812,\n",
       "                 Independent t-test  results\n",
       " 0  Difference (rcSI5 - rcCO_LP) =   -0.0001\n",
       " 1            Degrees of freedom =   18.0000\n",
       " 2                             t =   -0.0084\n",
       " 3         Two side test p value =    0.9934\n",
       " 4        Difference < 0 p value =    0.4967\n",
       " 5        Difference > 0 p value =    0.5033\n",
       " 6                     Cohen's d =   -0.0037\n",
       " 7                     Hedge's g =   -0.0036\n",
       " 8                 Glass's delta =   -0.0034\n",
       " 9                   Pearson's r =    0.0020)"
      ]
     },
     "execution_count": 26,
     "metadata": {},
     "output_type": "execute_result"
    }
   ],
   "source": [
    "rp.ttest(group1=rcso ,group1_name=\"rcSI5\", group2=rcco, group2_name=\"rcCO_LP\")"
   ]
  },
  {
   "cell_type": "code",
   "execution_count": 27,
   "id": "35918a60",
   "metadata": {},
   "outputs": [],
   "source": [
    "#Para mcnemar - tabla de contingencia"
   ]
  }
 ],
 "metadata": {
  "kernelspec": {
   "display_name": "Python 3 (ipykernel)",
   "language": "python",
   "name": "python3"
  },
  "language_info": {
   "codemirror_mode": {
    "name": "ipython",
    "version": 3
   },
   "file_extension": ".py",
   "mimetype": "text/x-python",
   "name": "python",
   "nbconvert_exporter": "python",
   "pygments_lexer": "ipython3",
   "version": "3.10.2"
  }
 },
 "nbformat": 4,
 "nbformat_minor": 5
}
