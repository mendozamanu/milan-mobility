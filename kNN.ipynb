{
 "cells": [
  {
   "cell_type": "code",
   "execution_count": 1,
   "id": "93236572",
   "metadata": {},
   "outputs": [],
   "source": [
    "import pandas as pd\n",
    "from sklearn.neighbors import KNeighborsClassifier\n",
    "from sklearn.model_selection import train_test_split\n",
    "from sklearn import metrics\n",
    "from sklearn.model_selection import cross_val_score"
   ]
  },
  {
   "cell_type": "code",
   "execution_count": 2,
   "id": "82b3e50a",
   "metadata": {},
   "outputs": [
    {
     "data": {
      "text/html": [
       "<div>\n",
       "<style scoped>\n",
       "    .dataframe tbody tr th:only-of-type {\n",
       "        vertical-align: middle;\n",
       "    }\n",
       "\n",
       "    .dataframe tbody tr th {\n",
       "        vertical-align: top;\n",
       "    }\n",
       "\n",
       "    .dataframe thead th {\n",
       "        text-align: right;\n",
       "    }\n",
       "</style>\n",
       "<table border=\"1\" class=\"dataframe\">\n",
       "  <thead>\n",
       "    <tr style=\"text-align: right;\">\n",
       "      <th></th>\n",
       "      <th>cellid</th>\n",
       "      <th>smsin</th>\n",
       "      <th>smsout</th>\n",
       "      <th>callin</th>\n",
       "      <th>callout</th>\n",
       "      <th>internet</th>\n",
       "      <th>h/w</th>\n",
       "      <th>work</th>\n",
       "    </tr>\n",
       "  </thead>\n",
       "  <tbody>\n",
       "    <tr>\n",
       "      <th>0</th>\n",
       "      <td>4273</td>\n",
       "      <td>0.021306</td>\n",
       "      <td>0.010909</td>\n",
       "      <td>0.050081</td>\n",
       "      <td>0.039395</td>\n",
       "      <td>0.047753</td>\n",
       "      <td>1</td>\n",
       "      <td>1</td>\n",
       "    </tr>\n",
       "    <tr>\n",
       "      <th>1</th>\n",
       "      <td>4274</td>\n",
       "      <td>0.023500</td>\n",
       "      <td>0.005772</td>\n",
       "      <td>0.078023</td>\n",
       "      <td>0.056628</td>\n",
       "      <td>0.069148</td>\n",
       "      <td>0</td>\n",
       "      <td>1</td>\n",
       "    </tr>\n",
       "    <tr>\n",
       "      <th>2</th>\n",
       "      <td>4275</td>\n",
       "      <td>0.023940</td>\n",
       "      <td>0.008040</td>\n",
       "      <td>0.072594</td>\n",
       "      <td>0.054941</td>\n",
       "      <td>0.074591</td>\n",
       "      <td>0</td>\n",
       "      <td>1</td>\n",
       "    </tr>\n",
       "    <tr>\n",
       "      <th>3</th>\n",
       "      <td>4276</td>\n",
       "      <td>0.022667</td>\n",
       "      <td>0.012025</td>\n",
       "      <td>0.044343</td>\n",
       "      <td>0.040470</td>\n",
       "      <td>0.035731</td>\n",
       "      <td>1</td>\n",
       "      <td>0</td>\n",
       "    </tr>\n",
       "    <tr>\n",
       "      <th>4</th>\n",
       "      <td>4277</td>\n",
       "      <td>0.025680</td>\n",
       "      <td>0.012673</td>\n",
       "      <td>0.049571</td>\n",
       "      <td>0.044635</td>\n",
       "      <td>0.036365</td>\n",
       "      <td>1</td>\n",
       "      <td>0</td>\n",
       "    </tr>\n",
       "  </tbody>\n",
       "</table>\n",
       "</div>"
      ],
      "text/plain": [
       "   cellid     smsin    smsout    callin   callout  internet  h/w  work\n",
       "0    4273  0.021306  0.010909  0.050081  0.039395  0.047753    1     1\n",
       "1    4274  0.023500  0.005772  0.078023  0.056628  0.069148    0     1\n",
       "2    4275  0.023940  0.008040  0.072594  0.054941  0.074591    0     1\n",
       "3    4276  0.022667  0.012025  0.044343  0.040470  0.035731    1     0\n",
       "4    4277  0.025680  0.012673  0.049571  0.044635  0.036365    1     0"
      ]
     },
     "execution_count": 2,
     "metadata": {},
     "output_type": "execute_result"
    }
   ],
   "source": [
    "data = pd.read_csv(\"./classif/classif10by10_sl.csv\")\n",
    "data.head()\n",
    "#10x10 grid, monday(4/11) at 9AM"
   ]
  },
  {
   "cell_type": "code",
   "execution_count": 3,
   "id": "40079371",
   "metadata": {},
   "outputs": [],
   "source": [
    "y = data.iloc[:,6] #h/w\n",
    "x = data.iloc[:,1:6] #sms, calls, internet"
   ]
  },
  {
   "cell_type": "code",
   "execution_count": 4,
   "id": "687f2f87",
   "metadata": {},
   "outputs": [],
   "source": [
    "#y\n",
    "#x"
   ]
  },
  {
   "cell_type": "code",
   "execution_count": 5,
   "id": "1393c2d8",
   "metadata": {},
   "outputs": [
    {
     "data": {
      "text/plain": [
       "KNeighborsClassifier(n_neighbors=3)"
      ]
     },
     "execution_count": 5,
     "metadata": {},
     "output_type": "execute_result"
    }
   ],
   "source": [
    "neigh = KNeighborsClassifier(n_neighbors=3)\n",
    "neigh.fit(x,y)"
   ]
  },
  {
   "cell_type": "code",
   "execution_count": 6,
   "id": "78277018",
   "metadata": {
    "scrolled": true
   },
   "outputs": [
    {
     "data": {
      "text/plain": [
       "array([1, 0, 0, 1, 1, 1, 1, 1, 1, 0, 0, 0, 0, 0, 0, 0, 0, 0, 0, 0, 0, 0,\n",
       "       0, 0, 0, 0, 0, 1, 0, 0, 1, 1, 0, 1, 0, 0, 0, 0, 0, 0, 0, 0, 0, 0,\n",
       "       1, 1, 0, 0, 0, 0, 0, 0, 0, 0, 1, 1, 1, 0, 1, 1, 0, 1, 1, 1, 1, 1,\n",
       "       1, 1, 1, 0, 1, 1, 1, 1, 1, 1, 1, 1, 1, 1, 1, 0, 1, 1, 1, 0, 0, 1,\n",
       "       1, 1, 1, 0, 1, 1, 0, 0, 1, 1, 1, 1])"
      ]
     },
     "execution_count": 6,
     "metadata": {},
     "output_type": "execute_result"
    }
   ],
   "source": [
    "neigh.predict(x)\n",
    "#y"
   ]
  },
  {
   "cell_type": "code",
   "execution_count": 7,
   "id": "204a3ab7",
   "metadata": {},
   "outputs": [
    {
     "data": {
      "text/plain": [
       "0.81"
      ]
     },
     "execution_count": 7,
     "metadata": {},
     "output_type": "execute_result"
    }
   ],
   "source": [
    "neigh.score(x,y)"
   ]
  },
  {
   "cell_type": "code",
   "execution_count": 8,
   "id": "9ebcbf8f",
   "metadata": {},
   "outputs": [],
   "source": [
    "X_train, X_test, y_train, y_test = train_test_split(x, y, test_size=0.3, random_state=39) #30% test\n",
    "#Results are very dependant on the split (acc varies greatly - 30-66%)"
   ]
  },
  {
   "cell_type": "code",
   "execution_count": 9,
   "id": "8e3d5dd8",
   "metadata": {},
   "outputs": [],
   "source": [
    "knn = KNeighborsClassifier(n_neighbors=5)\n",
    "\n",
    "#Train the model using the training sets\n",
    "knn.fit(X_train, y_train)\n",
    "#Predict the response for test dataset\n",
    "y_pred = knn.predict(X_test)"
   ]
  },
  {
   "cell_type": "code",
   "execution_count": 10,
   "id": "2c76e681",
   "metadata": {},
   "outputs": [
    {
     "name": "stdout",
     "output_type": "stream",
     "text": [
      "Accuracy: 0.6333333333333333\n"
     ]
    }
   ],
   "source": [
    "# Model Accuracy, how often is the classifier correct?\n",
    "print(\"Accuracy:\",metrics.accuracy_score(y_test, y_pred))"
   ]
  },
  {
   "cell_type": "code",
   "execution_count": 11,
   "id": "98e67bae",
   "metadata": {},
   "outputs": [],
   "source": [
    "scores = cross_val_score(knn, x, y, cv=10) #cv=5"
   ]
  },
  {
   "cell_type": "code",
   "execution_count": 12,
   "id": "a8a412d6",
   "metadata": {},
   "outputs": [
    {
     "name": "stdout",
     "output_type": "stream",
     "text": [
      "0.44 accuracy with a standard deviation of 0.20\n"
     ]
    }
   ],
   "source": [
    "print(\"%0.2f accuracy with a standard deviation of %0.2f\" % (scores.mean(), scores.std()))"
   ]
  },
  {
   "cell_type": "code",
   "execution_count": 13,
   "id": "64bd67d0",
   "metadata": {},
   "outputs": [],
   "source": [
    "###########################################################################################"
   ]
  },
  {
   "cell_type": "code",
   "execution_count": 14,
   "id": "f3961f8a",
   "metadata": {},
   "outputs": [
    {
     "data": {
      "text/html": [
       "<div>\n",
       "<style scoped>\n",
       "    .dataframe tbody tr th:only-of-type {\n",
       "        vertical-align: middle;\n",
       "    }\n",
       "\n",
       "    .dataframe tbody tr th {\n",
       "        vertical-align: top;\n",
       "    }\n",
       "\n",
       "    .dataframe thead th {\n",
       "        text-align: right;\n",
       "    }\n",
       "</style>\n",
       "<table border=\"1\" class=\"dataframe\">\n",
       "  <thead>\n",
       "    <tr style=\"text-align: right;\">\n",
       "      <th></th>\n",
       "      <th>hour</th>\n",
       "      <th>cellid</th>\n",
       "      <th>smsin</th>\n",
       "      <th>smsout</th>\n",
       "      <th>callin</th>\n",
       "      <th>callout</th>\n",
       "      <th>internet</th>\n",
       "      <th>h/w</th>\n",
       "    </tr>\n",
       "  </thead>\n",
       "  <tbody>\n",
       "    <tr>\n",
       "      <th>0</th>\n",
       "      <td>99.0</td>\n",
       "      <td>4273</td>\n",
       "      <td>0.001097</td>\n",
       "      <td>0.000075</td>\n",
       "      <td>0.001799</td>\n",
       "      <td>0.002201</td>\n",
       "      <td>0.024973</td>\n",
       "      <td>1</td>\n",
       "    </tr>\n",
       "    <tr>\n",
       "      <th>1</th>\n",
       "      <td>NaN</td>\n",
       "      <td>4274</td>\n",
       "      <td>0.001975</td>\n",
       "      <td>0.000379</td>\n",
       "      <td>0.003693</td>\n",
       "      <td>0.004581</td>\n",
       "      <td>0.016408</td>\n",
       "      <td>0</td>\n",
       "    </tr>\n",
       "    <tr>\n",
       "      <th>2</th>\n",
       "      <td>NaN</td>\n",
       "      <td>4275</td>\n",
       "      <td>0.001750</td>\n",
       "      <td>0.000426</td>\n",
       "      <td>0.002908</td>\n",
       "      <td>0.004213</td>\n",
       "      <td>0.019425</td>\n",
       "      <td>0</td>\n",
       "    </tr>\n",
       "    <tr>\n",
       "      <th>3</th>\n",
       "      <td>NaN</td>\n",
       "      <td>4276</td>\n",
       "      <td>0.000282</td>\n",
       "      <td>0.000130</td>\n",
       "      <td>0.001059</td>\n",
       "      <td>0.001926</td>\n",
       "      <td>0.026580</td>\n",
       "      <td>1</td>\n",
       "    </tr>\n",
       "    <tr>\n",
       "      <th>4</th>\n",
       "      <td>NaN</td>\n",
       "      <td>4277</td>\n",
       "      <td>0.000217</td>\n",
       "      <td>0.000126</td>\n",
       "      <td>0.001037</td>\n",
       "      <td>0.001861</td>\n",
       "      <td>0.029235</td>\n",
       "      <td>1</td>\n",
       "    </tr>\n",
       "  </tbody>\n",
       "</table>\n",
       "</div>"
      ],
      "text/plain": [
       "   hour  cellid     smsin    smsout    callin   callout  internet  h/w\n",
       "0  99.0    4273  0.001097  0.000075  0.001799  0.002201  0.024973    1\n",
       "1   NaN    4274  0.001975  0.000379  0.003693  0.004581  0.016408    0\n",
       "2   NaN    4275  0.001750  0.000426  0.002908  0.004213  0.019425    0\n",
       "3   NaN    4276  0.000282  0.000130  0.001059  0.001926  0.026580    1\n",
       "4   NaN    4277  0.000217  0.000126  0.001037  0.001861  0.029235    1"
      ]
     },
     "execution_count": 14,
     "metadata": {},
     "output_type": "execute_result"
    }
   ],
   "source": [
    "data = pd.read_csv(\"./classif/classif10by10wd3_sl.csv\")\n",
    "data.head()"
   ]
  },
  {
   "cell_type": "code",
   "execution_count": 15,
   "id": "d5aa1347",
   "metadata": {},
   "outputs": [],
   "source": [
    "y = data.iloc[:,7] #h/w\n",
    "x = data.iloc[:,2:7] #sms, calls, internet"
   ]
  },
  {
   "cell_type": "code",
   "execution_count": 16,
   "id": "57f1835e",
   "metadata": {},
   "outputs": [],
   "source": [
    "knn = KNeighborsClassifier(n_neighbors=7)\n",
    "scores1 = cross_val_score(knn, x, y, cv=5)\n",
    "scores2 = cross_val_score(knn, x, y, cv=10)"
   ]
  },
  {
   "cell_type": "code",
   "execution_count": 17,
   "id": "3cb25134",
   "metadata": {},
   "outputs": [
    {
     "name": "stdout",
     "output_type": "stream",
     "text": [
      "5 fold: 0.57 accuracy with a standard deviation of 0.04\n",
      "10 fold: 0.54 accuracy with a standard deviation of 0.12\n"
     ]
    }
   ],
   "source": [
    "print(\"5 fold: %0.2f accuracy with a standard deviation of %0.2f\" % (scores1.mean(), scores1.std()))\n",
    "print(\"10 fold: %0.2f accuracy with a standard deviation of %0.2f\" % (scores2.mean(), scores2.std()))"
   ]
  },
  {
   "cell_type": "code",
   "execution_count": 18,
   "id": "cc67dd7b",
   "metadata": {},
   "outputs": [
    {
     "data": {
      "text/html": [
       "<div>\n",
       "<style scoped>\n",
       "    .dataframe tbody tr th:only-of-type {\n",
       "        vertical-align: middle;\n",
       "    }\n",
       "\n",
       "    .dataframe tbody tr th {\n",
       "        vertical-align: top;\n",
       "    }\n",
       "\n",
       "    .dataframe thead th {\n",
       "        text-align: right;\n",
       "    }\n",
       "</style>\n",
       "<table border=\"1\" class=\"dataframe\">\n",
       "  <thead>\n",
       "    <tr style=\"text-align: right;\">\n",
       "      <th></th>\n",
       "      <th>hour</th>\n",
       "      <th>cellid</th>\n",
       "      <th>smsin</th>\n",
       "      <th>smsout</th>\n",
       "      <th>callin</th>\n",
       "      <th>callout</th>\n",
       "      <th>internet</th>\n",
       "      <th>h/w</th>\n",
       "    </tr>\n",
       "  </thead>\n",
       "  <tbody>\n",
       "    <tr>\n",
       "      <th>0</th>\n",
       "      <td>104.0</td>\n",
       "      <td>4273</td>\n",
       "      <td>0.023348</td>\n",
       "      <td>0.007134</td>\n",
       "      <td>0.048505</td>\n",
       "      <td>0.040366</td>\n",
       "      <td>0.057732</td>\n",
       "      <td>1</td>\n",
       "    </tr>\n",
       "    <tr>\n",
       "      <th>1</th>\n",
       "      <td>NaN</td>\n",
       "      <td>4274</td>\n",
       "      <td>0.030953</td>\n",
       "      <td>0.009883</td>\n",
       "      <td>0.076936</td>\n",
       "      <td>0.062231</td>\n",
       "      <td>0.077498</td>\n",
       "      <td>0</td>\n",
       "    </tr>\n",
       "    <tr>\n",
       "      <th>2</th>\n",
       "      <td>NaN</td>\n",
       "      <td>4275</td>\n",
       "      <td>0.028660</td>\n",
       "      <td>0.011953</td>\n",
       "      <td>0.067027</td>\n",
       "      <td>0.056390</td>\n",
       "      <td>0.084101</td>\n",
       "      <td>0</td>\n",
       "    </tr>\n",
       "    <tr>\n",
       "      <th>3</th>\n",
       "      <td>NaN</td>\n",
       "      <td>4276</td>\n",
       "      <td>0.020865</td>\n",
       "      <td>0.009737</td>\n",
       "      <td>0.031675</td>\n",
       "      <td>0.027202</td>\n",
       "      <td>0.039838</td>\n",
       "      <td>1</td>\n",
       "    </tr>\n",
       "    <tr>\n",
       "      <th>4</th>\n",
       "      <td>NaN</td>\n",
       "      <td>4277</td>\n",
       "      <td>0.022881</td>\n",
       "      <td>0.009774</td>\n",
       "      <td>0.034624</td>\n",
       "      <td>0.029422</td>\n",
       "      <td>0.039504</td>\n",
       "      <td>1</td>\n",
       "    </tr>\n",
       "  </tbody>\n",
       "</table>\n",
       "</div>"
      ],
      "text/plain": [
       "    hour  cellid     smsin    smsout    callin   callout  internet  h/w\n",
       "0  104.0    4273  0.023348  0.007134  0.048505  0.040366  0.057732    1\n",
       "1    NaN    4274  0.030953  0.009883  0.076936  0.062231  0.077498    0\n",
       "2    NaN    4275  0.028660  0.011953  0.067027  0.056390  0.084101    0\n",
       "3    NaN    4276  0.020865  0.009737  0.031675  0.027202  0.039838    1\n",
       "4    NaN    4277  0.022881  0.009774  0.034624  0.029422  0.039504    1"
      ]
     },
     "execution_count": 18,
     "metadata": {},
     "output_type": "execute_result"
    }
   ],
   "source": [
    "data = pd.read_csv(\"./classif/classif10by10wd8_sl.csv\")\n",
    "data.head()"
   ]
  },
  {
   "cell_type": "code",
   "execution_count": 19,
   "id": "cb9c3c39",
   "metadata": {},
   "outputs": [],
   "source": [
    "y = data.iloc[:,7] #h/w\n",
    "x = data.iloc[:,2:7] #sms, calls, internet"
   ]
  },
  {
   "cell_type": "code",
   "execution_count": 20,
   "id": "45b7d5fb",
   "metadata": {},
   "outputs": [],
   "source": [
    "knn = KNeighborsClassifier(n_neighbors=5)\n",
    "scores1 = cross_val_score(knn, x, y, cv=5)\n",
    "scores2 = cross_val_score(knn, x, y, cv=10)"
   ]
  },
  {
   "cell_type": "code",
   "execution_count": 21,
   "id": "1ae142e7",
   "metadata": {},
   "outputs": [
    {
     "name": "stdout",
     "output_type": "stream",
     "text": [
      "5 fold: 0.57 accuracy with a standard deviation of 0.14\n",
      "10 fold: 0.65 accuracy with a standard deviation of 0.17\n"
     ]
    }
   ],
   "source": [
    "print(\"5 fold: %0.2f accuracy with a standard deviation of %0.2f\" % (scores1.mean(), scores1.std()))\n",
    "print(\"10 fold: %0.2f accuracy with a standard deviation of %0.2f\" % (scores2.mean(), scores2.std()))"
   ]
  },
  {
   "cell_type": "code",
   "execution_count": 22,
   "id": "06656504",
   "metadata": {},
   "outputs": [
    {
     "data": {
      "text/html": [
       "<div>\n",
       "<style scoped>\n",
       "    .dataframe tbody tr th:only-of-type {\n",
       "        vertical-align: middle;\n",
       "    }\n",
       "\n",
       "    .dataframe tbody tr th {\n",
       "        vertical-align: top;\n",
       "    }\n",
       "\n",
       "    .dataframe thead th {\n",
       "        text-align: right;\n",
       "    }\n",
       "</style>\n",
       "<table border=\"1\" class=\"dataframe\">\n",
       "  <thead>\n",
       "    <tr style=\"text-align: right;\">\n",
       "      <th></th>\n",
       "      <th>hour</th>\n",
       "      <th>cellid</th>\n",
       "      <th>smsin</th>\n",
       "      <th>smsout</th>\n",
       "      <th>callin</th>\n",
       "      <th>callout</th>\n",
       "      <th>internet</th>\n",
       "      <th>h/w</th>\n",
       "    </tr>\n",
       "  </thead>\n",
       "  <tbody>\n",
       "    <tr>\n",
       "      <th>0</th>\n",
       "      <td>107.0</td>\n",
       "      <td>4273</td>\n",
       "      <td>0.019734</td>\n",
       "      <td>0.004527</td>\n",
       "      <td>0.038086</td>\n",
       "      <td>0.038559</td>\n",
       "      <td>0.043250</td>\n",
       "      <td>1</td>\n",
       "    </tr>\n",
       "    <tr>\n",
       "      <th>1</th>\n",
       "      <td>NaN</td>\n",
       "      <td>4274</td>\n",
       "      <td>0.024168</td>\n",
       "      <td>0.005658</td>\n",
       "      <td>0.057570</td>\n",
       "      <td>0.041039</td>\n",
       "      <td>0.054033</td>\n",
       "      <td>0</td>\n",
       "    </tr>\n",
       "    <tr>\n",
       "      <th>2</th>\n",
       "      <td>NaN</td>\n",
       "      <td>4275</td>\n",
       "      <td>0.026514</td>\n",
       "      <td>0.007270</td>\n",
       "      <td>0.062774</td>\n",
       "      <td>0.046896</td>\n",
       "      <td>0.057460</td>\n",
       "      <td>0</td>\n",
       "    </tr>\n",
       "    <tr>\n",
       "      <th>3</th>\n",
       "      <td>NaN</td>\n",
       "      <td>4276</td>\n",
       "      <td>0.022873</td>\n",
       "      <td>0.014045</td>\n",
       "      <td>0.051424</td>\n",
       "      <td>0.046067</td>\n",
       "      <td>0.043499</td>\n",
       "      <td>1</td>\n",
       "    </tr>\n",
       "    <tr>\n",
       "      <th>4</th>\n",
       "      <td>NaN</td>\n",
       "      <td>4277</td>\n",
       "      <td>0.026572</td>\n",
       "      <td>0.016338</td>\n",
       "      <td>0.055370</td>\n",
       "      <td>0.050819</td>\n",
       "      <td>0.047849</td>\n",
       "      <td>1</td>\n",
       "    </tr>\n",
       "  </tbody>\n",
       "</table>\n",
       "</div>"
      ],
      "text/plain": [
       "    hour  cellid     smsin    smsout    callin   callout  internet  h/w\n",
       "0  107.0    4273  0.019734  0.004527  0.038086  0.038559  0.043250    1\n",
       "1    NaN    4274  0.024168  0.005658  0.057570  0.041039  0.054033    0\n",
       "2    NaN    4275  0.026514  0.007270  0.062774  0.046896  0.057460    0\n",
       "3    NaN    4276  0.022873  0.014045  0.051424  0.046067  0.043499    1\n",
       "4    NaN    4277  0.026572  0.016338  0.055370  0.050819  0.047849    1"
      ]
     },
     "execution_count": 22,
     "metadata": {},
     "output_type": "execute_result"
    }
   ],
   "source": [
    "data = pd.read_csv(\"./classif/classif10by10wd11_sl.csv\")\n",
    "data.head()"
   ]
  },
  {
   "cell_type": "code",
   "execution_count": 23,
   "id": "c87dee91",
   "metadata": {},
   "outputs": [],
   "source": [
    "y = data.iloc[:,7] #h/w\n",
    "x = data.iloc[:,2:7] #sms, calls, internet"
   ]
  },
  {
   "cell_type": "code",
   "execution_count": 24,
   "id": "1e0752d3",
   "metadata": {},
   "outputs": [],
   "source": [
    "knn = KNeighborsClassifier(n_neighbors=5)\n",
    "scores1 = cross_val_score(knn, x, y, cv=5)\n",
    "scores2 = cross_val_score(knn, x, y, cv=10)"
   ]
  },
  {
   "cell_type": "code",
   "execution_count": 25,
   "id": "49ec3130",
   "metadata": {},
   "outputs": [
    {
     "name": "stdout",
     "output_type": "stream",
     "text": [
      "5 fold: 0.56 accuracy with a standard deviation of 0.12\n",
      "10 fold: 0.57 accuracy with a standard deviation of 0.16\n"
     ]
    }
   ],
   "source": [
    "print(\"5 fold: %0.2f accuracy with a standard deviation of %0.2f\" % (scores1.mean(), scores1.std()))\n",
    "print(\"10 fold: %0.2f accuracy with a standard deviation of %0.2f\" % (scores2.mean(), scores2.std()))"
   ]
  },
  {
   "cell_type": "code",
   "execution_count": 26,
   "id": "af03ae86",
   "metadata": {},
   "outputs": [
    {
     "data": {
      "text/html": [
       "<div>\n",
       "<style scoped>\n",
       "    .dataframe tbody tr th:only-of-type {\n",
       "        vertical-align: middle;\n",
       "    }\n",
       "\n",
       "    .dataframe tbody tr th {\n",
       "        vertical-align: top;\n",
       "    }\n",
       "\n",
       "    .dataframe thead th {\n",
       "        text-align: right;\n",
       "    }\n",
       "</style>\n",
       "<table border=\"1\" class=\"dataframe\">\n",
       "  <thead>\n",
       "    <tr style=\"text-align: right;\">\n",
       "      <th></th>\n",
       "      <th>hour</th>\n",
       "      <th>cellid</th>\n",
       "      <th>smsin</th>\n",
       "      <th>smsout</th>\n",
       "      <th>callin</th>\n",
       "      <th>callout</th>\n",
       "      <th>internet</th>\n",
       "      <th>h/w</th>\n",
       "    </tr>\n",
       "  </thead>\n",
       "  <tbody>\n",
       "    <tr>\n",
       "      <th>0</th>\n",
       "      <td>109.0</td>\n",
       "      <td>4273</td>\n",
       "      <td>0.012804</td>\n",
       "      <td>0.006517</td>\n",
       "      <td>0.030278</td>\n",
       "      <td>0.023821</td>\n",
       "      <td>0.045077</td>\n",
       "      <td>1</td>\n",
       "    </tr>\n",
       "    <tr>\n",
       "      <th>1</th>\n",
       "      <td>NaN</td>\n",
       "      <td>4274</td>\n",
       "      <td>0.009308</td>\n",
       "      <td>0.006606</td>\n",
       "      <td>0.022448</td>\n",
       "      <td>0.019115</td>\n",
       "      <td>0.051300</td>\n",
       "      <td>0</td>\n",
       "    </tr>\n",
       "    <tr>\n",
       "      <th>2</th>\n",
       "      <td>NaN</td>\n",
       "      <td>4275</td>\n",
       "      <td>0.013255</td>\n",
       "      <td>0.008986</td>\n",
       "      <td>0.028493</td>\n",
       "      <td>0.027712</td>\n",
       "      <td>0.057081</td>\n",
       "      <td>0</td>\n",
       "    </tr>\n",
       "    <tr>\n",
       "      <th>3</th>\n",
       "      <td>NaN</td>\n",
       "      <td>4276</td>\n",
       "      <td>0.017730</td>\n",
       "      <td>0.015658</td>\n",
       "      <td>0.033130</td>\n",
       "      <td>0.033885</td>\n",
       "      <td>0.041708</td>\n",
       "      <td>1</td>\n",
       "    </tr>\n",
       "    <tr>\n",
       "      <th>4</th>\n",
       "      <td>NaN</td>\n",
       "      <td>4277</td>\n",
       "      <td>0.019829</td>\n",
       "      <td>0.017185</td>\n",
       "      <td>0.035578</td>\n",
       "      <td>0.035913</td>\n",
       "      <td>0.044208</td>\n",
       "      <td>1</td>\n",
       "    </tr>\n",
       "  </tbody>\n",
       "</table>\n",
       "</div>"
      ],
      "text/plain": [
       "    hour  cellid     smsin    smsout    callin   callout  internet  h/w\n",
       "0  109.0    4273  0.012804  0.006517  0.030278  0.023821  0.045077    1\n",
       "1    NaN    4274  0.009308  0.006606  0.022448  0.019115  0.051300    0\n",
       "2    NaN    4275  0.013255  0.008986  0.028493  0.027712  0.057081    0\n",
       "3    NaN    4276  0.017730  0.015658  0.033130  0.033885  0.041708    1\n",
       "4    NaN    4277  0.019829  0.017185  0.035578  0.035913  0.044208    1"
      ]
     },
     "execution_count": 26,
     "metadata": {},
     "output_type": "execute_result"
    }
   ],
   "source": [
    "data = pd.read_csv(\"./classif/classif10by10wd13_sl.csv\")\n",
    "data.head()"
   ]
  },
  {
   "cell_type": "code",
   "execution_count": 27,
   "id": "93b2c2b3",
   "metadata": {},
   "outputs": [],
   "source": [
    "y = data.iloc[:,7] #h/w\n",
    "x = data.iloc[:,2:7] #sms, calls, internet"
   ]
  },
  {
   "cell_type": "code",
   "execution_count": 28,
   "id": "ec6ba330",
   "metadata": {},
   "outputs": [],
   "source": [
    "knn = KNeighborsClassifier(n_neighbors=5)\n",
    "scores1 = cross_val_score(knn, x, y, cv=5)\n",
    "scores2 = cross_val_score(knn, x, y, cv=10)"
   ]
  },
  {
   "cell_type": "code",
   "execution_count": 29,
   "id": "9e4c3d9c",
   "metadata": {},
   "outputs": [
    {
     "name": "stdout",
     "output_type": "stream",
     "text": [
      "5 fold: 0.58 accuracy with a standard deviation of 0.10\n",
      "10 fold: 0.57 accuracy with a standard deviation of 0.14\n"
     ]
    }
   ],
   "source": [
    "print(\"5 fold: %0.2f accuracy with a standard deviation of %0.2f\" % (scores1.mean(), scores1.std()))\n",
    "print(\"10 fold: %0.2f accuracy with a standard deviation of %0.2f\" % (scores2.mean(), scores2.std()))"
   ]
  },
  {
   "cell_type": "code",
   "execution_count": 30,
   "id": "026aaf93",
   "metadata": {},
   "outputs": [
    {
     "data": {
      "text/html": [
       "<div>\n",
       "<style scoped>\n",
       "    .dataframe tbody tr th:only-of-type {\n",
       "        vertical-align: middle;\n",
       "    }\n",
       "\n",
       "    .dataframe tbody tr th {\n",
       "        vertical-align: top;\n",
       "    }\n",
       "\n",
       "    .dataframe thead th {\n",
       "        text-align: right;\n",
       "    }\n",
       "</style>\n",
       "<table border=\"1\" class=\"dataframe\">\n",
       "  <thead>\n",
       "    <tr style=\"text-align: right;\">\n",
       "      <th></th>\n",
       "      <th>hour</th>\n",
       "      <th>cellid</th>\n",
       "      <th>smsin</th>\n",
       "      <th>smsout</th>\n",
       "      <th>callin</th>\n",
       "      <th>callout</th>\n",
       "      <th>internet</th>\n",
       "      <th>h/w</th>\n",
       "    </tr>\n",
       "  </thead>\n",
       "  <tbody>\n",
       "    <tr>\n",
       "      <th>0</th>\n",
       "      <td>114.0</td>\n",
       "      <td>4273</td>\n",
       "      <td>0.026746</td>\n",
       "      <td>0.014838</td>\n",
       "      <td>0.070452</td>\n",
       "      <td>0.062332</td>\n",
       "      <td>0.133728</td>\n",
       "      <td>1</td>\n",
       "    </tr>\n",
       "    <tr>\n",
       "      <th>1</th>\n",
       "      <td>NaN</td>\n",
       "      <td>4274</td>\n",
       "      <td>0.013661</td>\n",
       "      <td>0.010342</td>\n",
       "      <td>0.034611</td>\n",
       "      <td>0.032011</td>\n",
       "      <td>0.094160</td>\n",
       "      <td>0</td>\n",
       "    </tr>\n",
       "    <tr>\n",
       "      <th>2</th>\n",
       "      <td>NaN</td>\n",
       "      <td>4275</td>\n",
       "      <td>0.017088</td>\n",
       "      <td>0.012102</td>\n",
       "      <td>0.043159</td>\n",
       "      <td>0.039928</td>\n",
       "      <td>0.095789</td>\n",
       "      <td>0</td>\n",
       "    </tr>\n",
       "    <tr>\n",
       "      <th>3</th>\n",
       "      <td>NaN</td>\n",
       "      <td>4276</td>\n",
       "      <td>0.014155</td>\n",
       "      <td>0.007703</td>\n",
       "      <td>0.031872</td>\n",
       "      <td>0.042086</td>\n",
       "      <td>0.044859</td>\n",
       "      <td>1</td>\n",
       "    </tr>\n",
       "    <tr>\n",
       "      <th>4</th>\n",
       "      <td>NaN</td>\n",
       "      <td>4277</td>\n",
       "      <td>0.014528</td>\n",
       "      <td>0.007506</td>\n",
       "      <td>0.030409</td>\n",
       "      <td>0.045355</td>\n",
       "      <td>0.046130</td>\n",
       "      <td>1</td>\n",
       "    </tr>\n",
       "  </tbody>\n",
       "</table>\n",
       "</div>"
      ],
      "text/plain": [
       "    hour  cellid     smsin    smsout    callin   callout  internet  h/w\n",
       "0  114.0    4273  0.026746  0.014838  0.070452  0.062332  0.133728    1\n",
       "1    NaN    4274  0.013661  0.010342  0.034611  0.032011  0.094160    0\n",
       "2    NaN    4275  0.017088  0.012102  0.043159  0.039928  0.095789    0\n",
       "3    NaN    4276  0.014155  0.007703  0.031872  0.042086  0.044859    1\n",
       "4    NaN    4277  0.014528  0.007506  0.030409  0.045355  0.046130    1"
      ]
     },
     "execution_count": 30,
     "metadata": {},
     "output_type": "execute_result"
    }
   ],
   "source": [
    "data = pd.read_csv(\"./classif/classif10by10wd18_sl.csv\")\n",
    "data.head()"
   ]
  },
  {
   "cell_type": "code",
   "execution_count": 31,
   "id": "0ef711bc",
   "metadata": {},
   "outputs": [],
   "source": [
    "y = data.iloc[:,7] #h/w\n",
    "x = data.iloc[:,2:7] #sms, calls, internet"
   ]
  },
  {
   "cell_type": "code",
   "execution_count": 32,
   "id": "5c5c84e0",
   "metadata": {},
   "outputs": [],
   "source": [
    "knn = KNeighborsClassifier(n_neighbors=5)\n",
    "scores1 = cross_val_score(knn, x, y, cv=5)\n",
    "scores2 = cross_val_score(knn, x, y, cv=10)"
   ]
  },
  {
   "cell_type": "code",
   "execution_count": 33,
   "id": "fb9bd036",
   "metadata": {},
   "outputs": [
    {
     "name": "stdout",
     "output_type": "stream",
     "text": [
      "5 fold: 0.58 accuracy with a standard deviation of 0.09\n",
      "10 fold: 0.55 accuracy with a standard deviation of 0.16\n"
     ]
    }
   ],
   "source": [
    "print(\"5 fold: %0.2f accuracy with a standard deviation of %0.2f\" % (scores1.mean(), scores1.std()))\n",
    "print(\"10 fold: %0.2f accuracy with a standard deviation of %0.2f\" % (scores2.mean(), scores2.std()))"
   ]
  },
  {
   "cell_type": "code",
   "execution_count": 34,
   "id": "8f4d0743",
   "metadata": {},
   "outputs": [
    {
     "data": {
      "text/html": [
       "<div>\n",
       "<style scoped>\n",
       "    .dataframe tbody tr th:only-of-type {\n",
       "        vertical-align: middle;\n",
       "    }\n",
       "\n",
       "    .dataframe tbody tr th {\n",
       "        vertical-align: top;\n",
       "    }\n",
       "\n",
       "    .dataframe thead th {\n",
       "        text-align: right;\n",
       "    }\n",
       "</style>\n",
       "<table border=\"1\" class=\"dataframe\">\n",
       "  <thead>\n",
       "    <tr style=\"text-align: right;\">\n",
       "      <th></th>\n",
       "      <th>hour</th>\n",
       "      <th>cellid</th>\n",
       "      <th>smsin</th>\n",
       "      <th>smsout</th>\n",
       "      <th>callin</th>\n",
       "      <th>callout</th>\n",
       "      <th>internet</th>\n",
       "      <th>h/w</th>\n",
       "    </tr>\n",
       "  </thead>\n",
       "  <tbody>\n",
       "    <tr>\n",
       "      <th>0</th>\n",
       "      <td>117.0</td>\n",
       "      <td>4273</td>\n",
       "      <td>0.012890</td>\n",
       "      <td>0.013550</td>\n",
       "      <td>0.010927</td>\n",
       "      <td>0.012298</td>\n",
       "      <td>0.074496</td>\n",
       "      <td>1</td>\n",
       "    </tr>\n",
       "    <tr>\n",
       "      <th>1</th>\n",
       "      <td>NaN</td>\n",
       "      <td>4274</td>\n",
       "      <td>0.006636</td>\n",
       "      <td>0.003445</td>\n",
       "      <td>0.007272</td>\n",
       "      <td>0.007182</td>\n",
       "      <td>0.032385</td>\n",
       "      <td>0</td>\n",
       "    </tr>\n",
       "    <tr>\n",
       "      <th>2</th>\n",
       "      <td>NaN</td>\n",
       "      <td>4275</td>\n",
       "      <td>0.008711</td>\n",
       "      <td>0.004266</td>\n",
       "      <td>0.009969</td>\n",
       "      <td>0.010625</td>\n",
       "      <td>0.034506</td>\n",
       "      <td>0</td>\n",
       "    </tr>\n",
       "    <tr>\n",
       "      <th>3</th>\n",
       "      <td>NaN</td>\n",
       "      <td>4276</td>\n",
       "      <td>0.012027</td>\n",
       "      <td>0.013002</td>\n",
       "      <td>0.011131</td>\n",
       "      <td>0.020600</td>\n",
       "      <td>0.039394</td>\n",
       "      <td>1</td>\n",
       "    </tr>\n",
       "    <tr>\n",
       "      <th>4</th>\n",
       "      <td>NaN</td>\n",
       "      <td>4277</td>\n",
       "      <td>0.014773</td>\n",
       "      <td>0.014935</td>\n",
       "      <td>0.012213</td>\n",
       "      <td>0.023845</td>\n",
       "      <td>0.043467</td>\n",
       "      <td>1</td>\n",
       "    </tr>\n",
       "  </tbody>\n",
       "</table>\n",
       "</div>"
      ],
      "text/plain": [
       "    hour  cellid     smsin    smsout    callin   callout  internet  h/w\n",
       "0  117.0    4273  0.012890  0.013550  0.010927  0.012298  0.074496    1\n",
       "1    NaN    4274  0.006636  0.003445  0.007272  0.007182  0.032385    0\n",
       "2    NaN    4275  0.008711  0.004266  0.009969  0.010625  0.034506    0\n",
       "3    NaN    4276  0.012027  0.013002  0.011131  0.020600  0.039394    1\n",
       "4    NaN    4277  0.014773  0.014935  0.012213  0.023845  0.043467    1"
      ]
     },
     "execution_count": 34,
     "metadata": {},
     "output_type": "execute_result"
    }
   ],
   "source": [
    "data = pd.read_csv(\"./classif/classif10by10wd21_sl.csv\")\n",
    "data.head()"
   ]
  },
  {
   "cell_type": "code",
   "execution_count": 35,
   "id": "e780e075",
   "metadata": {},
   "outputs": [],
   "source": [
    "y = data.iloc[:,7] #h/w\n",
    "x = data.iloc[:,2:7] #sms, calls, internet"
   ]
  },
  {
   "cell_type": "code",
   "execution_count": 36,
   "id": "7ac032e2",
   "metadata": {},
   "outputs": [],
   "source": [
    "knn = KNeighborsClassifier(n_neighbors=5)\n",
    "scores1 = cross_val_score(knn, x, y, cv=5)\n",
    "scores2 = cross_val_score(knn, x, y, cv=10)"
   ]
  },
  {
   "cell_type": "code",
   "execution_count": 37,
   "id": "ffcbc0a2",
   "metadata": {},
   "outputs": [
    {
     "name": "stdout",
     "output_type": "stream",
     "text": [
      "5 fold: 0.55 accuracy with a standard deviation of 0.17\n",
      "10 fold: 0.60 accuracy with a standard deviation of 0.17\n"
     ]
    }
   ],
   "source": [
    "print(\"5 fold: %0.2f accuracy with a standard deviation of %0.2f\" % (scores1.mean(), scores1.std()))\n",
    "print(\"10 fold: %0.2f accuracy with a standard deviation of %0.2f\" % (scores2.mean(), scores2.std()))"
   ]
  },
  {
   "cell_type": "code",
   "execution_count": null,
   "id": "d460fde4",
   "metadata": {},
   "outputs": [],
   "source": []
  }
 ],
 "metadata": {
  "kernelspec": {
   "display_name": "Python 3",
   "language": "python",
   "name": "python3"
  },
  "language_info": {
   "codemirror_mode": {
    "name": "ipython",
    "version": 3
   },
   "file_extension": ".py",
   "mimetype": "text/x-python",
   "name": "python",
   "nbconvert_exporter": "python",
   "pygments_lexer": "ipython3",
   "version": "3.8.5"
  }
 },
 "nbformat": 4,
 "nbformat_minor": 5
}
