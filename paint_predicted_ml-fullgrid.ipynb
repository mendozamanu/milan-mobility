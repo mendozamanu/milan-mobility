{
 "cells": [
  {
   "cell_type": "code",
   "execution_count": 1,
   "id": "d2755cd9",
   "metadata": {},
   "outputs": [],
   "source": [
    "import geojson\n",
    "import geopandas as gpd\n",
    "import random\n",
    "\n",
    "import pandas as pd\n",
    "import seaborn as sns\n",
    "import numpy as np\n",
    "import matplotlib.pyplot as plt\n",
    "import matplotlib as mpl\n",
    "import matplotlib.colors as colors"
   ]
  },
  {
   "cell_type": "code",
   "execution_count": 2,
   "id": "39137149",
   "metadata": {},
   "outputs": [],
   "source": [
    "data = pd.read_csv('./5_6_labels_geojsons/pred_fullgrid_ml5_milan.csv')\n",
    "#gdf = gpd.read_file('./geojsons/milano-grid.geojson')\n",
    "\n",
    "with open(\"./geojsons/milano-grid.geojson\") as json_file:\n",
    "    json_data = geojson.load(json_file)\n"
   ]
  },
  {
   "cell_type": "code",
   "execution_count": 3,
   "id": "44e925e9",
   "metadata": {},
   "outputs": [],
   "source": [
    "for i in range(0, len(data)):\n",
    "    if(data.loc[i].low_dens == 0): #negative label\n",
    "        json_data.features[int(data.loc[i].cellid)-1].properties = {\n",
    "                \"fill\": colors.to_hex([ 0.95,0.95, 0.0, 0.95 ], keep_alpha = True),\n",
    "                \"fill-opacity\": 0.4,\n",
    "                \"stroke-width\": 2.5,\n",
    "                \"stroke-opacity\": 0.75,\n",
    "                \"cell-type\": \"no low density\",\n",
    "                \"cellId\": int(data.loc[i].cellid)\n",
    "            }\n",
    "    else: #true: positive\n",
    "            json_data.features[int(data.loc[i].cellid)-1].properties = {\n",
    "                \"fill\": colors.to_hex([ 0.98,0.98, 0.98, 0.45 ], keep_alpha = True),\n",
    "                \"fill-opacity\": 0.75,\n",
    "                \"stroke-width\": 2.5,\n",
    "                \"stroke-opacity\": 0.75,\n",
    "                \"cell-type\": \"low density\",\n",
    "                \"cellId\": int(data.loc[i].cellid)\n",
    "            }"
   ]
  },
  {
   "cell_type": "code",
   "execution_count": 4,
   "id": "c3980d03",
   "metadata": {},
   "outputs": [],
   "source": [
    "with open(\"./geojsons/fg/predictionsfg_co_ml5_lowdens.geojson\", \"w\") as json_file:\n",
    "    geojson.dump(json_data, json_file)"
   ]
  }
 ],
 "metadata": {
  "kernelspec": {
   "display_name": "Python 3 (ipykernel)",
   "language": "python",
   "name": "python3"
  },
  "language_info": {
   "codemirror_mode": {
    "name": "ipython",
    "version": 3
   },
   "file_extension": ".py",
   "mimetype": "text/x-python",
   "name": "python",
   "nbconvert_exporter": "python",
   "pygments_lexer": "ipython3",
   "version": "3.9.7"
  }
 },
 "nbformat": 4,
 "nbformat_minor": 5
}
