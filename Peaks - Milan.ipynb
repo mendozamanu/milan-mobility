{
 "cells": [
  {
   "cell_type": "code",
   "execution_count": 1,
   "id": "better-hudson",
   "metadata": {},
   "outputs": [],
   "source": [
    "import geojson\n",
    "import pandas as pd\n",
    "import seaborn as sns\n",
    "import numpy as np\n",
    "import matplotlib.pyplot as plt"
   ]
  },
  {
   "cell_type": "code",
   "execution_count": 2,
   "id": "unlikely-rebate",
   "metadata": {},
   "outputs": [],
   "source": [
    "dfs = pd.DataFrame({})\n",
    "dfsn =pd.DataFrame({})\n",
    "\n",
    "for i in range(4,9):\n",
    "    #Weekdays\n",
    "    df = pd.read_csv('./csv/sms-call-internet-mi-2013-11-0{}.csv'.format(i), encoding='utf-8', parse_dates=['time'])\n",
    "    dfs = dfs.append(df)\n",
    "\n",
    "#Weekends\n",
    "#1 nov - festivo\n",
    "for j in range(1,4):\n",
    "    #Weekdays\n",
    "    df = pd.read_csv('./csv/sms-call-internet-mi-2013-11-0{}.csv'.format(j), encoding='utf-8', parse_dates=['time'])\n",
    "    dfsn = dfsn.append(df)\n",
    "\n",
    "df = pd.read_csv('./csv/sms-call-internet-mi-2013-11-09.csv', encoding='utf-8', parse_dates=['time'])\n",
    "dfsn = dfsn.append(df)\n",
    "df = pd.read_csv('./csv/sms-call-internet-mi-2013-11-10.csv', parse_dates=['time'])\n",
    "dfsn = dfsn.append(df)\n",
    "\n",
    "## AGGREGATE SMS & CALLS ##\n",
    "#dfs['sms'] = dfs['smsin'] + dfs['smsout']\n",
    "#dfs['calls'] = dfs['callin'] + dfs['callout']\n",
    "#dfsn['sms'] = dfsn['smsin'] + dfsn['smsout']\n",
    "#dfsn['calls'] = dfsn['callin'] + dfsn['callout']\n",
    "\n",
    "dfs = dfs.fillna(0)\n",
    "dfsn = dfsn.fillna(0)"
   ]
  },
  {
   "cell_type": "code",
   "execution_count": 47,
   "id": "standing-kruger",
   "metadata": {},
   "outputs": [
    {
     "name": "stdout",
     "output_type": "stream",
     "text": [
      "25% completed\n",
      "50% completed\n",
      "75% completed\n"
     ]
    }
   ],
   "source": [
    "cells = 10000+1\n",
    "smsipeak_wd = [] #weekday data (incoming sms)\n",
    "smsopeak_wd = []\n",
    "callipeak_wd = []\n",
    "callopeak_wd = []\n",
    "intpeak_wd = []\n",
    "\n",
    "smsipeak_wn = [] #weekend data (incoming sms)\n",
    "smsopeak_wn = []\n",
    "callipeak_wn = []\n",
    "callopeak_wn = []\n",
    "intpeak_wn = []\n",
    "\n",
    "for i in range(1,cells):\n",
    "    #Weekdays\n",
    "    sindata = dfs[dfs.cellid==i]['smsin']\n",
    "    soutdata = dfs[dfs.cellid==i]['smsout']\n",
    "    cindata = dfs[dfs.cellid==i]['callin']\n",
    "    coutdata = dfs[dfs.cellid==i]['callout']\n",
    "    intdata = dfs[dfs.cellid==i]['internet']\n",
    "    \n",
    "    smsipeak_wd.append(dfs['time'].iloc[(dfs.smsin.values == np.max(sindata)).argmax()])\n",
    "    smsopeak_wd.append(dfs['time'].iloc[(dfs.smsout.values == np.max(soutdata)).argmax()])\n",
    "    callipeak_wd.append(dfs['time'].iloc[(dfs.callin.values == np.max(cindata)).argmax()])\n",
    "    callopeak_wd.append(dfs['time'].iloc[(dfs.callout.values == np.max(coutdata)).argmax()])\n",
    "    \n",
    "    intpeak_wd.append(dfs['time'].iloc[(dfs.internet.values == np.max(intdata)).argmax()])\n",
    "    \n",
    "    #Weekends\n",
    "    sindataw = dfsn[dfsn.cellid==i]['smsin']\n",
    "    soutdataw = dfsn[dfsn.cellid==i]['smsout']\n",
    "    cindataw = dfsn[dfsn.cellid==i]['callin']\n",
    "    coutdataw = dfsn[dfsn.cellid==i]['callout']\n",
    "    intdataw = dfsn[dfsn.cellid==i]['internet']\n",
    "    \n",
    "    smsipeak_wn.append(dfsn['time'].iloc[(dfsn.smsin.values == np.max(sindataw)).argmax()])\n",
    "    smsopeak_wn.append(dfsn['time'].iloc[(dfsn.smsout.values == np.max(soutdataw)).argmax()])\n",
    "    callipeak_wn.append(dfsn['time'].iloc[(dfsn.callin.values == np.max(cindataw)).argmax()])\n",
    "    callopeak_wn.append(dfsn['time'].iloc[(dfsn.callout.values == np.max(coutdataw)).argmax()])\n",
    "    \n",
    "    intpeak_wn.append(dfsn['time'].iloc[(dfsn.internet.values == np.max(intdataw)).argmax()])\n",
    "    \n",
    "    if i==round(cells*0.25):\n",
    "        print('25% completed')\n",
    "    if i==round(cells/2):\n",
    "        print('50% completed')\n",
    "    if i==round(cells*0.75):\n",
    "        print('75% completed')\n",
    "    "
   ]
  },
  {
   "cell_type": "code",
   "execution_count": 56,
   "id": "relevant-adventure",
   "metadata": {},
   "outputs": [],
   "source": [
    "pks_d = pd.DataFrame({}) #Weekday\n",
    "pks_d=pks_d.append([smsipeak_wd, smsopeak_wd, callipeak_wd, callopeak_wd, intpeak_wd])\n",
    "\n",
    "pks_n = pd.DataFrame({}) #Weekend\n",
    "pks_n=pks_n.append([smsipeak_wn, smsopeak_wn, callipeak_wn, callopeak_wn, intpeak_wn])\n",
    "\n",
    "pks_d.to_csv(\"peaks_it_wd.csv\")\n",
    "\n",
    "pks_n.to_csv(\"peaks_it_wn.csv\")\n"
   ]
  },
  {
   "cell_type": "code",
   "execution_count": null,
   "id": "smaller-shepherd",
   "metadata": {},
   "outputs": [],
   "source": [
    "#https://www.kaggle.com/andrewfager/analysis-and-modeling-of-internet-usage/notebook"
   ]
  },
  {
   "cell_type": "code",
   "execution_count": null,
   "id": "introductory-level",
   "metadata": {},
   "outputs": [],
   "source": [
    "#To-Do: plot heatmap peak times"
   ]
  }
 ],
 "metadata": {
  "kernelspec": {
   "display_name": "Python 3",
   "language": "python",
   "name": "python3"
  },
  "language_info": {
   "codemirror_mode": {
    "name": "ipython",
    "version": 3
   },
   "file_extension": ".py",
   "mimetype": "text/x-python",
   "name": "python",
   "nbconvert_exporter": "python",
   "pygments_lexer": "ipython3",
   "version": "3.9.4"
  }
 },
 "nbformat": 4,
 "nbformat_minor": 5
}
