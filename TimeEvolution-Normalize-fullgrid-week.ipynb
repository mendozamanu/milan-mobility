{
 "cells": [
  {
   "cell_type": "code",
   "execution_count": 1,
   "id": "opened-blood",
   "metadata": {},
   "outputs": [],
   "source": [
    "import pandas as pd\n",
    "import numpy as np\n",
    "from sklearn.preprocessing import MinMaxScaler"
   ]
  },
  {
   "cell_type": "code",
   "execution_count": 2,
   "id": "august-solution",
   "metadata": {},
   "outputs": [],
   "source": [
    "dfs = pd.DataFrame({})\n",
    "\n",
    "for i in range(4,10):\n",
    "    df = pd.read_csv('./csv/sms-call-internet-mi-2013-11-0{}.csv'.format(i), parse_dates=['time'])\n",
    "    dfs = dfs.append(df)\n",
    "df = pd.read_csv('./csv/sms-call-internet-mi-2013-11-10.csv', parse_dates=['time'])\n",
    "dfs = dfs.append(df)\n",
    "dfs = dfs.fillna(0)\n",
    "del df"
   ]
  },
  {
   "cell_type": "code",
   "execution_count": 3,
   "id": "opponent-central",
   "metadata": {},
   "outputs": [
    {
     "name": "stdout",
     "output_type": "stream",
     "text": [
      "        hour  cellid      smsin    smsout    callin   callout    internet\n",
      "0          0      38   0.994946  1.038735  0.467851  0.105982   71.180305\n",
      "1          0      39   1.258125  0.369114  0.141578  0.114836   64.393556\n",
      "2          0      40   3.173657  1.505841  0.349958  0.060084   72.071691\n",
      "3          0     154   1.544525  0.565670  0.000000  0.282835   63.078948\n",
      "4          0     155   2.072674  0.380103  0.124315  0.176232   92.607967\n",
      "...      ...     ...        ...       ...       ...       ...         ...\n",
      "149922    23   11336   0.582625  0.065942  0.007932  0.254980    8.107042\n",
      "149923    23   11337   1.338197  0.843510  0.048163  0.327895   31.863876\n",
      "149924    23   11452  10.491873  9.638020  0.161229  0.945824  142.677752\n",
      "149925    23   11453   2.887983  1.792666  0.163817  0.415590   55.075557\n",
      "149926    23   11454   0.914625  0.709959  0.117429  0.248985   68.410963\n",
      "\n",
      "[149927 rows x 7 columns]\n"
     ]
    }
   ],
   "source": [
    "#Group by hours and aggregate values according to each cell/hour\n",
    "dfgr = dfs[['cellid', 'time', 'smsin','smsout', 'callin','callout', 'internet']].groupby(['time', 'cellid'], as_index=False).sum()\n",
    "dfgr['hour'] = dfgr.time.dt.hour+24*(dfgr.time.dt.day-4)\n",
    "dfgg = dfgr[['hour', 'cellid', 'time', 'smsin','smsout', 'callin','callout', 'internet']].groupby(['hour', 'cellid'], as_index=False).sum()\n",
    "#dfgg = dfgg.set_index(['hour']).sort_index()\n",
    "del dfs\n",
    "print(dfgg)\n",
    "\n",
    "#Group by hours and aggregate values according to the hour\n",
    "#dfgr = dfs[['cellid', 'time', 'smsin','smsout', 'callin','callout', 'internet']].groupby(['time', 'cellid'], as_index=False).sum()\n",
    "#dfgr['hour'] = dfgr.time.dt.hour+24*(dfgr.time.dt.day-1)\n",
    "#dfgg = dfgr[['hour', 'time', 'smsin','smsout', 'callin','callout', 'internet']].groupby(['hour'], as_index=False).sum()\n",
    "#dfgg = dfgg.set_index(['hour']).sort_index()\n",
    "#print(dfgg)"
   ]
  },
  {
   "cell_type": "code",
   "execution_count": 4,
   "id": "251dfdbb",
   "metadata": {},
   "outputs": [
    {
     "name": "stdout",
     "output_type": "stream",
     "text": [
      "      cellid      smsin    smsout    callin   callout    internet\n",
      "hour                                                             \n",
      "0         38   0.994946  1.038735  0.467851  0.105982   71.180305\n",
      "0         39   1.258125  0.369114  0.141578  0.114836   64.393556\n",
      "0         40   3.173657  1.505841  0.349958  0.060084   72.071691\n",
      "0        154   1.544525  0.565670  0.000000  0.282835   63.078948\n",
      "0        155   2.072674  0.380103  0.124315  0.176232   92.607967\n",
      "...      ...        ...       ...       ...       ...         ...\n",
      "23     11336   0.582625  0.065942  0.007932  0.254980    8.107042\n",
      "23     11337   1.338197  0.843510  0.048163  0.327895   31.863876\n",
      "23     11452  10.491873  9.638020  0.161229  0.945824  142.677752\n",
      "23     11453   2.887983  1.792666  0.163817  0.415590   55.075557\n",
      "23     11454   0.914625  0.709959  0.117429  0.248985   68.410963\n",
      "\n",
      "[149927 rows x 6 columns]\n"
     ]
    }
   ],
   "source": [
    "dfgg = dfgg.set_index(['hour']).sort_index()\n",
    "print(dfgg)"
   ]
  },
  {
   "cell_type": "code",
   "execution_count": 5,
   "id": "644aeebd",
   "metadata": {},
   "outputs": [],
   "source": [
    "cells = dfgg.cellid\n",
    "scaler=MinMaxScaler()\n",
    "scaled = pd.DataFrame(scaler.fit_transform(dfgg), columns=dfgg.columns, index=dfgg.index)"
   ]
  },
  {
   "cell_type": "code",
   "execution_count": 6,
   "id": "2ad2e6d8",
   "metadata": {
    "scrolled": true
   },
   "outputs": [
    {
     "name": "stdout",
     "output_type": "stream",
     "text": [
      "      cellid     smsin    smsout    callin   callout  internet\n",
      "hour                                                          \n",
      "0         38  0.000308  0.000342  0.000397  0.000074  0.003807\n",
      "0         39  0.000390  0.000121  0.000120  0.000081  0.003444\n",
      "0         40  0.000983  0.000495  0.000297  0.000042  0.003855\n",
      "0        154  0.000478  0.000186  0.000000  0.000198  0.003374\n",
      "0        155  0.000642  0.000125  0.000106  0.000124  0.004953\n",
      "...      ...       ...       ...       ...       ...       ...\n",
      "23     11336  0.000180  0.000022  0.000007  0.000179  0.000434\n",
      "23     11337  0.000415  0.000278  0.000041  0.000230  0.001704\n",
      "23     11452  0.003250  0.003171  0.000137  0.000663  0.007631\n",
      "23     11453  0.000895  0.000590  0.000139  0.000291  0.002946\n",
      "23     11454  0.000283  0.000234  0.000100  0.000175  0.003659\n",
      "\n",
      "[149927 rows x 6 columns]\n"
     ]
    }
   ],
   "source": [
    "dfgg=scaled\n",
    "dfgg['cellid']=cells\n",
    "print(dfgg)"
   ]
  },
  {
   "cell_type": "code",
   "execution_count": 34,
   "id": "61c27e49",
   "metadata": {},
   "outputs": [],
   "source": [
    "#dfgg.to_csv('./csv/tntemp.csv')\n",
    "dfgg = pd.read_csv('./csv/tntemp.csv')\n",
    "dfgg = dfgg.set_index(['hour']).sort_index()\n",
    "dfgg = dfgg.fillna(0)\n",
    "#df_1 = dfgg.iloc[:800000,:] - used to fix missing data from cell 5239 in some hours (0 data so didn't appear on csv)\n",
    "#df_2 = dfgg.iloc[800000:,:]\n",
    "#df_1 = pd.read_csv('./csv/temp1.csv')\n",
    "#dfgg = df_1\n",
    "#dfgg = dfgg.set_index(['hour']).sort_index()\n",
    "#dfgg=dfgg.append(df_2)\n",
    "#dfgg.head()"
   ]
  },
  {
   "cell_type": "code",
   "execution_count": 35,
   "id": "8161b4d9",
   "metadata": {},
   "outputs": [],
   "source": [
    "#print(dfgg)"
   ]
  },
  {
   "cell_type": "code",
   "execution_count": 36,
   "id": "af673691",
   "metadata": {},
   "outputs": [
    {
     "name": "stdout",
     "output_type": "stream",
     "text": [
      "6259\n",
      "6259\n",
      "6259\n",
      "6259\n",
      "6259\n",
      "6259\n",
      "6259\n",
      "6259\n",
      "6259\n",
      "6241\n",
      "6240\n",
      "6240\n",
      "6240\n",
      "6239\n",
      "0\n",
      "1\n",
      "2\n",
      "3\n",
      "4\n",
      "5\n",
      "6\n",
      "7\n",
      "8\n",
      "9\n",
      "10\n",
      "11\n",
      "12\n",
      "13\n",
      "14\n",
      "15\n",
      "16\n",
      "17\n",
      "18\n",
      "19\n"
     ]
    },
    {
     "ename": "ValueError",
     "evalue": "Length of values (6241) does not match length of index (6259)",
     "output_type": "error",
     "traceback": [
      "\u001b[0;31m---------------------------------------------------------------------------\u001b[0m",
      "\u001b[0;31mValueError\u001b[0m                                Traceback (most recent call last)",
      "\u001b[0;32m<ipython-input-36-370b401ecc33>\u001b[0m in \u001b[0;36m<module>\u001b[0;34m\u001b[0m\n\u001b[1;32m     30\u001b[0m \u001b[0;34m\u001b[0m\u001b[0m\n\u001b[1;32m     31\u001b[0m     \u001b[0mdfsi\u001b[0m\u001b[0;34m.\u001b[0m\u001b[0mappend\u001b[0m\u001b[0;34m(\u001b[0m\u001b[0mdfgg\u001b[0m\u001b[0;34m.\u001b[0m\u001b[0mloc\u001b[0m\u001b[0;34m[\u001b[0m\u001b[0mi\u001b[0m\u001b[0;34m]\u001b[0m\u001b[0;34m.\u001b[0m\u001b[0msmsin\u001b[0m\u001b[0;34m)\u001b[0m\u001b[0;34m\u001b[0m\u001b[0;34m\u001b[0m\u001b[0m\n\u001b[0;32m---> 32\u001b[0;31m     \u001b[0mdfsi2\u001b[0m\u001b[0;34m[\u001b[0m\u001b[0;34m\"smsin\"\u001b[0m\u001b[0;34m+\u001b[0m\u001b[0mstr\u001b[0m\u001b[0;34m(\u001b[0m\u001b[0mi\u001b[0m\u001b[0;34m)\u001b[0m\u001b[0;34m]\u001b[0m\u001b[0;34m=\u001b[0m\u001b[0mdfsi\u001b[0m\u001b[0;34m[\u001b[0m\u001b[0mi\u001b[0m\u001b[0;34m+\u001b[0m\u001b[0;36m1\u001b[0m\u001b[0;34m]\u001b[0m\u001b[0;34m.\u001b[0m\u001b[0mvalues\u001b[0m\u001b[0;34m\u001b[0m\u001b[0;34m\u001b[0m\u001b[0m\n\u001b[0m\u001b[1;32m     33\u001b[0m \u001b[0;34m\u001b[0m\u001b[0m\n\u001b[1;32m     34\u001b[0m     \u001b[0mdfso\u001b[0m\u001b[0;34m.\u001b[0m\u001b[0mappend\u001b[0m\u001b[0;34m(\u001b[0m\u001b[0mdfgg\u001b[0m\u001b[0;34m.\u001b[0m\u001b[0mloc\u001b[0m\u001b[0;34m[\u001b[0m\u001b[0mi\u001b[0m\u001b[0;34m]\u001b[0m\u001b[0;34m.\u001b[0m\u001b[0msmsout\u001b[0m\u001b[0;34m)\u001b[0m\u001b[0;34m\u001b[0m\u001b[0;34m\u001b[0m\u001b[0m\n",
      "\u001b[0;32m~/.local/lib/python3.8/site-packages/pandas/core/frame.py\u001b[0m in \u001b[0;36m__setitem__\u001b[0;34m(self, key, value)\u001b[0m\n\u001b[1;32m   3161\u001b[0m         \u001b[0;32melse\u001b[0m\u001b[0;34m:\u001b[0m\u001b[0;34m\u001b[0m\u001b[0;34m\u001b[0m\u001b[0m\n\u001b[1;32m   3162\u001b[0m             \u001b[0;31m# set column\u001b[0m\u001b[0;34m\u001b[0m\u001b[0;34m\u001b[0m\u001b[0;34m\u001b[0m\u001b[0m\n\u001b[0;32m-> 3163\u001b[0;31m             \u001b[0mself\u001b[0m\u001b[0;34m.\u001b[0m\u001b[0m_set_item\u001b[0m\u001b[0;34m(\u001b[0m\u001b[0mkey\u001b[0m\u001b[0;34m,\u001b[0m \u001b[0mvalue\u001b[0m\u001b[0;34m)\u001b[0m\u001b[0;34m\u001b[0m\u001b[0;34m\u001b[0m\u001b[0m\n\u001b[0m\u001b[1;32m   3164\u001b[0m \u001b[0;34m\u001b[0m\u001b[0m\n\u001b[1;32m   3165\u001b[0m     \u001b[0;32mdef\u001b[0m \u001b[0m_setitem_slice\u001b[0m\u001b[0;34m(\u001b[0m\u001b[0mself\u001b[0m\u001b[0;34m,\u001b[0m \u001b[0mkey\u001b[0m\u001b[0;34m:\u001b[0m \u001b[0mslice\u001b[0m\u001b[0;34m,\u001b[0m \u001b[0mvalue\u001b[0m\u001b[0;34m)\u001b[0m\u001b[0;34m:\u001b[0m\u001b[0;34m\u001b[0m\u001b[0;34m\u001b[0m\u001b[0m\n",
      "\u001b[0;32m~/.local/lib/python3.8/site-packages/pandas/core/frame.py\u001b[0m in \u001b[0;36m_set_item\u001b[0;34m(self, key, value)\u001b[0m\n\u001b[1;32m   3240\u001b[0m         \"\"\"\n\u001b[1;32m   3241\u001b[0m         \u001b[0mself\u001b[0m\u001b[0;34m.\u001b[0m\u001b[0m_ensure_valid_index\u001b[0m\u001b[0;34m(\u001b[0m\u001b[0mvalue\u001b[0m\u001b[0;34m)\u001b[0m\u001b[0;34m\u001b[0m\u001b[0;34m\u001b[0m\u001b[0m\n\u001b[0;32m-> 3242\u001b[0;31m         \u001b[0mvalue\u001b[0m \u001b[0;34m=\u001b[0m \u001b[0mself\u001b[0m\u001b[0;34m.\u001b[0m\u001b[0m_sanitize_column\u001b[0m\u001b[0;34m(\u001b[0m\u001b[0mkey\u001b[0m\u001b[0;34m,\u001b[0m \u001b[0mvalue\u001b[0m\u001b[0;34m)\u001b[0m\u001b[0;34m\u001b[0m\u001b[0;34m\u001b[0m\u001b[0m\n\u001b[0m\u001b[1;32m   3243\u001b[0m         \u001b[0mNDFrame\u001b[0m\u001b[0;34m.\u001b[0m\u001b[0m_set_item\u001b[0m\u001b[0;34m(\u001b[0m\u001b[0mself\u001b[0m\u001b[0;34m,\u001b[0m \u001b[0mkey\u001b[0m\u001b[0;34m,\u001b[0m \u001b[0mvalue\u001b[0m\u001b[0;34m)\u001b[0m\u001b[0;34m\u001b[0m\u001b[0;34m\u001b[0m\u001b[0m\n\u001b[1;32m   3244\u001b[0m \u001b[0;34m\u001b[0m\u001b[0m\n",
      "\u001b[0;32m~/.local/lib/python3.8/site-packages/pandas/core/frame.py\u001b[0m in \u001b[0;36m_sanitize_column\u001b[0;34m(self, key, value, broadcast)\u001b[0m\n\u001b[1;32m   3897\u001b[0m \u001b[0;34m\u001b[0m\u001b[0m\n\u001b[1;32m   3898\u001b[0m             \u001b[0;31m# turn me into an ndarray\u001b[0m\u001b[0;34m\u001b[0m\u001b[0;34m\u001b[0m\u001b[0;34m\u001b[0m\u001b[0m\n\u001b[0;32m-> 3899\u001b[0;31m             \u001b[0mvalue\u001b[0m \u001b[0;34m=\u001b[0m \u001b[0msanitize_index\u001b[0m\u001b[0;34m(\u001b[0m\u001b[0mvalue\u001b[0m\u001b[0;34m,\u001b[0m \u001b[0mself\u001b[0m\u001b[0;34m.\u001b[0m\u001b[0mindex\u001b[0m\u001b[0;34m)\u001b[0m\u001b[0;34m\u001b[0m\u001b[0;34m\u001b[0m\u001b[0m\n\u001b[0m\u001b[1;32m   3900\u001b[0m             \u001b[0;32mif\u001b[0m \u001b[0;32mnot\u001b[0m \u001b[0misinstance\u001b[0m\u001b[0;34m(\u001b[0m\u001b[0mvalue\u001b[0m\u001b[0;34m,\u001b[0m \u001b[0;34m(\u001b[0m\u001b[0mnp\u001b[0m\u001b[0;34m.\u001b[0m\u001b[0mndarray\u001b[0m\u001b[0;34m,\u001b[0m \u001b[0mIndex\u001b[0m\u001b[0;34m)\u001b[0m\u001b[0;34m)\u001b[0m\u001b[0;34m:\u001b[0m\u001b[0;34m\u001b[0m\u001b[0;34m\u001b[0m\u001b[0m\n\u001b[1;32m   3901\u001b[0m                 \u001b[0;32mif\u001b[0m \u001b[0misinstance\u001b[0m\u001b[0;34m(\u001b[0m\u001b[0mvalue\u001b[0m\u001b[0;34m,\u001b[0m \u001b[0mlist\u001b[0m\u001b[0;34m)\u001b[0m \u001b[0;32mand\u001b[0m \u001b[0mlen\u001b[0m\u001b[0;34m(\u001b[0m\u001b[0mvalue\u001b[0m\u001b[0;34m)\u001b[0m \u001b[0;34m>\u001b[0m \u001b[0;36m0\u001b[0m\u001b[0;34m:\u001b[0m\u001b[0;34m\u001b[0m\u001b[0;34m\u001b[0m\u001b[0m\n",
      "\u001b[0;32m~/.local/lib/python3.8/site-packages/pandas/core/internals/construction.py\u001b[0m in \u001b[0;36msanitize_index\u001b[0;34m(data, index)\u001b[0m\n\u001b[1;32m    749\u001b[0m     \"\"\"\n\u001b[1;32m    750\u001b[0m     \u001b[0;32mif\u001b[0m \u001b[0mlen\u001b[0m\u001b[0;34m(\u001b[0m\u001b[0mdata\u001b[0m\u001b[0;34m)\u001b[0m \u001b[0;34m!=\u001b[0m \u001b[0mlen\u001b[0m\u001b[0;34m(\u001b[0m\u001b[0mindex\u001b[0m\u001b[0;34m)\u001b[0m\u001b[0;34m:\u001b[0m\u001b[0;34m\u001b[0m\u001b[0;34m\u001b[0m\u001b[0m\n\u001b[0;32m--> 751\u001b[0;31m         raise ValueError(\n\u001b[0m\u001b[1;32m    752\u001b[0m             \u001b[0;34m\"Length of values \"\u001b[0m\u001b[0;34m\u001b[0m\u001b[0;34m\u001b[0m\u001b[0m\n\u001b[1;32m    753\u001b[0m             \u001b[0;34mf\"({len(data)}) \"\u001b[0m\u001b[0;34m\u001b[0m\u001b[0;34m\u001b[0m\u001b[0m\n",
      "\u001b[0;31mValueError\u001b[0m: Length of values (6241) does not match length of index (6259)"
     ]
    }
   ],
   "source": [
    "dfsi = [] #data from df without indexing\n",
    "dfsi2 = pd.DataFrame({}) #new df to save\n",
    "dfso = []\n",
    "dfso2 = pd.DataFrame({})\n",
    "dfci = []\n",
    "dfci2 = pd.DataFrame({})\n",
    "dfco = []\n",
    "dfco2 = pd.DataFrame({})\n",
    "dfin = []\n",
    "dfin2 = pd.DataFrame({})\n",
    "\n",
    "dfsi.append(dfgg.loc[0].cellid)\n",
    "dfso.append(dfgg.loc[0].cellid)\n",
    "dfci.append(dfgg.loc[0].cellid)\n",
    "dfco.append(dfgg.loc[0].cellid)\n",
    "dfin.append(dfgg.loc[0].cellid)\n",
    "\n",
    "dfsi2[\"cellid\"]=dfsi[0].values\n",
    "dfso2[\"cellid\"]=dfsi[0].values\n",
    "dfci2[\"cellid\"]=dfsi[0].values\n",
    "dfco2[\"cellid\"]=dfsi[0].values\n",
    "dfin2[\"cellid\"]=dfsi[0].values\n",
    "\n",
    "for i in range(10, dfgr.hour.max()+1):\n",
    "    print(dfgg.loc[i].cellid.count())\n",
    "\n",
    "for i in range(0, dfgr.hour.max()+1): #dfgr.hour.max()+1\n",
    "    #row[0] - hour, row[1]: df cols\n",
    "    print(i)\n",
    "    \n",
    "    dfsi.append(dfgg.loc[i].smsin)\n",
    "    dfsi2[\"smsin\"+str(i)]=dfsi[i+1].values\n",
    "\n",
    "    dfso.append(dfgg.loc[i].smsout)\n",
    "    dfso2[\"smsout\"+str(i)]=dfso[i+1].values\n",
    "\n",
    "    dfci.append(dfgg.loc[i].callin)\n",
    "    dfci2[\"callin\"+str(i)]=dfci[i+1].values\n",
    "\n",
    "    dfco.append(dfgg.loc[i].callout)\n",
    "    dfco2[\"callout\"+str(i)]=dfco[i+1].values\n",
    "\n",
    "    dfin.append(dfgg.loc[i].internet)\n",
    "    dfin2[\"internet\"+str(i)]=dfin[i+1].values\n"
   ]
  },
  {
   "cell_type": "code",
   "execution_count": null,
   "id": "8a3a9c34",
   "metadata": {},
   "outputs": [],
   "source": [
    "dfsi2.to_csv(\"./classif/fullgrid/classifgridmon_smsin.csv\")\n",
    "dfsi2.head()"
   ]
  },
  {
   "cell_type": "code",
   "execution_count": null,
   "id": "100a7dc8",
   "metadata": {},
   "outputs": [],
   "source": [
    "dfso2.to_csv(\"./classif/fullgrid/classifgridmon_smsout.csv\")\n",
    "dfso2.head()"
   ]
  },
  {
   "cell_type": "code",
   "execution_count": null,
   "id": "2d01ac89",
   "metadata": {},
   "outputs": [],
   "source": [
    "dfci2.to_csv(\"./classif/fullgrid/classifgridmon_callin.csv\")\n",
    "dfci2.head()"
   ]
  },
  {
   "cell_type": "code",
   "execution_count": null,
   "id": "1375e1ad",
   "metadata": {},
   "outputs": [],
   "source": [
    "dfco2.to_csv(\"./classif/fullgrid/classifgridmon_callout.csv\")\n",
    "dfco2.head()"
   ]
  },
  {
   "cell_type": "code",
   "execution_count": null,
   "id": "d28483b9",
   "metadata": {},
   "outputs": [],
   "source": [
    "dfin2.to_csv(\"./classif/fullgrid/classifgridmon_internet.csv\")\n",
    "dfin2.head()"
   ]
  }
 ],
 "metadata": {
  "kernelspec": {
   "display_name": "Python 3",
   "language": "python",
   "name": "python3"
  },
  "language_info": {
   "codemirror_mode": {
    "name": "ipython",
    "version": 3
   },
   "file_extension": ".py",
   "mimetype": "text/x-python",
   "name": "python",
   "nbconvert_exporter": "python",
   "pygments_lexer": "ipython3",
   "version": "3.8.5"
  }
 },
 "nbformat": 4,
 "nbformat_minor": 5
}
