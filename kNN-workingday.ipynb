{
 "cells": [
  {
   "cell_type": "code",
   "execution_count": 1,
   "id": "93236572",
   "metadata": {},
   "outputs": [],
   "source": [
    "import pandas as pd\n",
    "from sklearn.neighbors import KNeighborsClassifier\n",
    "from sklearn.model_selection import train_test_split\n",
    "from sklearn import metrics\n",
    "from sklearn.model_selection import cross_val_score"
   ]
  },
  {
   "cell_type": "code",
   "execution_count": 2,
   "id": "82b3e50a",
   "metadata": {},
   "outputs": [
    {
     "data": {
      "text/html": [
       "<div>\n",
       "<style scoped>\n",
       "    .dataframe tbody tr th:only-of-type {\n",
       "        vertical-align: middle;\n",
       "    }\n",
       "\n",
       "    .dataframe tbody tr th {\n",
       "        vertical-align: top;\n",
       "    }\n",
       "\n",
       "    .dataframe thead th {\n",
       "        text-align: right;\n",
       "    }\n",
       "</style>\n",
       "<table border=\"1\" class=\"dataframe\">\n",
       "  <thead>\n",
       "    <tr style=\"text-align: right;\">\n",
       "      <th></th>\n",
       "      <th>hour</th>\n",
       "      <th>cellid</th>\n",
       "      <th>smsin</th>\n",
       "      <th>smsout</th>\n",
       "      <th>callin</th>\n",
       "      <th>callout</th>\n",
       "      <th>internet</th>\n",
       "      <th>h/w</th>\n",
       "    </tr>\n",
       "  </thead>\n",
       "  <tbody>\n",
       "    <tr>\n",
       "      <th>0</th>\n",
       "      <td>96</td>\n",
       "      <td>4273</td>\n",
       "      <td>0.005584</td>\n",
       "      <td>0.003278</td>\n",
       "      <td>0.001879</td>\n",
       "      <td>0.001964</td>\n",
       "      <td>0.033589</td>\n",
       "      <td>1</td>\n",
       "    </tr>\n",
       "    <tr>\n",
       "      <th>1</th>\n",
       "      <td>96</td>\n",
       "      <td>4274</td>\n",
       "      <td>0.002218</td>\n",
       "      <td>0.001507</td>\n",
       "      <td>0.002059</td>\n",
       "      <td>0.001082</td>\n",
       "      <td>0.022734</td>\n",
       "      <td>0</td>\n",
       "    </tr>\n",
       "    <tr>\n",
       "      <th>2</th>\n",
       "      <td>96</td>\n",
       "      <td>4275</td>\n",
       "      <td>0.002363</td>\n",
       "      <td>0.001791</td>\n",
       "      <td>0.002338</td>\n",
       "      <td>0.001364</td>\n",
       "      <td>0.026903</td>\n",
       "      <td>0</td>\n",
       "    </tr>\n",
       "    <tr>\n",
       "      <th>3</th>\n",
       "      <td>96</td>\n",
       "      <td>4276</td>\n",
       "      <td>0.003219</td>\n",
       "      <td>0.001615</td>\n",
       "      <td>0.002551</td>\n",
       "      <td>0.003932</td>\n",
       "      <td>0.027934</td>\n",
       "      <td>1</td>\n",
       "    </tr>\n",
       "    <tr>\n",
       "      <th>4</th>\n",
       "      <td>96</td>\n",
       "      <td>4277</td>\n",
       "      <td>0.004383</td>\n",
       "      <td>0.001788</td>\n",
       "      <td>0.003189</td>\n",
       "      <td>0.005044</td>\n",
       "      <td>0.029658</td>\n",
       "      <td>1</td>\n",
       "    </tr>\n",
       "  </tbody>\n",
       "</table>\n",
       "</div>"
      ],
      "text/plain": [
       "   hour  cellid     smsin    smsout    callin   callout  internet  h/w\n",
       "0    96    4273  0.005584  0.003278  0.001879  0.001964  0.033589    1\n",
       "1    96    4274  0.002218  0.001507  0.002059  0.001082  0.022734    0\n",
       "2    96    4275  0.002363  0.001791  0.002338  0.001364  0.026903    0\n",
       "3    96    4276  0.003219  0.001615  0.002551  0.003932  0.027934    1\n",
       "4    96    4277  0.004383  0.001788  0.003189  0.005044  0.029658    1"
      ]
     },
     "execution_count": 2,
     "metadata": {},
     "output_type": "execute_result"
    }
   ],
   "source": [
    "data = pd.read_csv(\"./classif/classif10by10wd_sl.csv\")\n",
    "data.head()\n",
    "#10x10 grid, monday(4/11)"
   ]
  },
  {
   "cell_type": "code",
   "execution_count": 3,
   "id": "40079371",
   "metadata": {},
   "outputs": [],
   "source": [
    "y = data.iloc[:,7] #h/w\n",
    "x = data.iloc[:,2:7] #sms, calls, internet"
   ]
  },
  {
   "cell_type": "code",
   "execution_count": 4,
   "id": "687f2f87",
   "metadata": {},
   "outputs": [
    {
     "data": {
      "text/plain": [
       "0       1\n",
       "1       0\n",
       "2       0\n",
       "3       1\n",
       "4       1\n",
       "       ..\n",
       "2495    0\n",
       "2496    1\n",
       "2497    1\n",
       "2498    1\n",
       "2499    1\n",
       "Name: h/w, Length: 2500, dtype: int64"
      ]
     },
     "execution_count": 4,
     "metadata": {},
     "output_type": "execute_result"
    }
   ],
   "source": [
    "y"
   ]
  },
  {
   "cell_type": "code",
   "execution_count": 5,
   "id": "1aefc985",
   "metadata": {
    "scrolled": false
   },
   "outputs": [
    {
     "data": {
      "text/html": [
       "<div>\n",
       "<style scoped>\n",
       "    .dataframe tbody tr th:only-of-type {\n",
       "        vertical-align: middle;\n",
       "    }\n",
       "\n",
       "    .dataframe tbody tr th {\n",
       "        vertical-align: top;\n",
       "    }\n",
       "\n",
       "    .dataframe thead th {\n",
       "        text-align: right;\n",
       "    }\n",
       "</style>\n",
       "<table border=\"1\" class=\"dataframe\">\n",
       "  <thead>\n",
       "    <tr style=\"text-align: right;\">\n",
       "      <th></th>\n",
       "      <th>smsin</th>\n",
       "      <th>smsout</th>\n",
       "      <th>callin</th>\n",
       "      <th>callout</th>\n",
       "      <th>internet</th>\n",
       "    </tr>\n",
       "  </thead>\n",
       "  <tbody>\n",
       "    <tr>\n",
       "      <th>0</th>\n",
       "      <td>0.005584</td>\n",
       "      <td>0.003278</td>\n",
       "      <td>0.001879</td>\n",
       "      <td>0.001964</td>\n",
       "      <td>0.033589</td>\n",
       "    </tr>\n",
       "    <tr>\n",
       "      <th>1</th>\n",
       "      <td>0.002218</td>\n",
       "      <td>0.001507</td>\n",
       "      <td>0.002059</td>\n",
       "      <td>0.001082</td>\n",
       "      <td>0.022734</td>\n",
       "    </tr>\n",
       "    <tr>\n",
       "      <th>2</th>\n",
       "      <td>0.002363</td>\n",
       "      <td>0.001791</td>\n",
       "      <td>0.002338</td>\n",
       "      <td>0.001364</td>\n",
       "      <td>0.026903</td>\n",
       "    </tr>\n",
       "    <tr>\n",
       "      <th>3</th>\n",
       "      <td>0.003219</td>\n",
       "      <td>0.001615</td>\n",
       "      <td>0.002551</td>\n",
       "      <td>0.003932</td>\n",
       "      <td>0.027934</td>\n",
       "    </tr>\n",
       "    <tr>\n",
       "      <th>4</th>\n",
       "      <td>0.004383</td>\n",
       "      <td>0.001788</td>\n",
       "      <td>0.003189</td>\n",
       "      <td>0.005044</td>\n",
       "      <td>0.029658</td>\n",
       "    </tr>\n",
       "    <tr>\n",
       "      <th>...</th>\n",
       "      <td>...</td>\n",
       "      <td>...</td>\n",
       "      <td>...</td>\n",
       "      <td>...</td>\n",
       "      <td>...</td>\n",
       "    </tr>\n",
       "    <tr>\n",
       "      <th>2495</th>\n",
       "      <td>0.000691</td>\n",
       "      <td>0.001300</td>\n",
       "      <td>0.001757</td>\n",
       "      <td>0.002150</td>\n",
       "      <td>0.024502</td>\n",
       "    </tr>\n",
       "    <tr>\n",
       "      <th>2496</th>\n",
       "      <td>0.001241</td>\n",
       "      <td>0.001627</td>\n",
       "      <td>0.001657</td>\n",
       "      <td>0.002502</td>\n",
       "      <td>0.023365</td>\n",
       "    </tr>\n",
       "    <tr>\n",
       "      <th>2497</th>\n",
       "      <td>0.002434</td>\n",
       "      <td>0.002186</td>\n",
       "      <td>0.001457</td>\n",
       "      <td>0.002214</td>\n",
       "      <td>0.021888</td>\n",
       "    </tr>\n",
       "    <tr>\n",
       "      <th>2498</th>\n",
       "      <td>0.001971</td>\n",
       "      <td>0.001862</td>\n",
       "      <td>0.001251</td>\n",
       "      <td>0.002025</td>\n",
       "      <td>0.019031</td>\n",
       "    </tr>\n",
       "    <tr>\n",
       "      <th>2499</th>\n",
       "      <td>0.000185</td>\n",
       "      <td>0.000588</td>\n",
       "      <td>0.000524</td>\n",
       "      <td>0.000412</td>\n",
       "      <td>0.005053</td>\n",
       "    </tr>\n",
       "  </tbody>\n",
       "</table>\n",
       "<p>2500 rows × 5 columns</p>\n",
       "</div>"
      ],
      "text/plain": [
       "         smsin    smsout    callin   callout  internet\n",
       "0     0.005584  0.003278  0.001879  0.001964  0.033589\n",
       "1     0.002218  0.001507  0.002059  0.001082  0.022734\n",
       "2     0.002363  0.001791  0.002338  0.001364  0.026903\n",
       "3     0.003219  0.001615  0.002551  0.003932  0.027934\n",
       "4     0.004383  0.001788  0.003189  0.005044  0.029658\n",
       "...        ...       ...       ...       ...       ...\n",
       "2495  0.000691  0.001300  0.001757  0.002150  0.024502\n",
       "2496  0.001241  0.001627  0.001657  0.002502  0.023365\n",
       "2497  0.002434  0.002186  0.001457  0.002214  0.021888\n",
       "2498  0.001971  0.001862  0.001251  0.002025  0.019031\n",
       "2499  0.000185  0.000588  0.000524  0.000412  0.005053\n",
       "\n",
       "[2500 rows x 5 columns]"
      ]
     },
     "execution_count": 5,
     "metadata": {},
     "output_type": "execute_result"
    }
   ],
   "source": [
    "x"
   ]
  },
  {
   "cell_type": "code",
   "execution_count": 6,
   "id": "1393c2d8",
   "metadata": {},
   "outputs": [
    {
     "data": {
      "text/plain": [
       "KNeighborsClassifier(n_neighbors=3)"
      ]
     },
     "execution_count": 6,
     "metadata": {},
     "output_type": "execute_result"
    }
   ],
   "source": [
    "neigh = KNeighborsClassifier(n_neighbors=3)\n",
    "neigh.fit(x,y)"
   ]
  },
  {
   "cell_type": "code",
   "execution_count": 7,
   "id": "78277018",
   "metadata": {
    "scrolled": true
   },
   "outputs": [
    {
     "data": {
      "text/plain": [
       "array([1, 0, 1, ..., 1, 1, 1])"
      ]
     },
     "execution_count": 7,
     "metadata": {},
     "output_type": "execute_result"
    }
   ],
   "source": [
    "neigh.predict(x)"
   ]
  },
  {
   "cell_type": "code",
   "execution_count": 8,
   "id": "cf0fabb5",
   "metadata": {},
   "outputs": [
    {
     "data": {
      "text/plain": [
       "0       1\n",
       "1       0\n",
       "2       0\n",
       "3       1\n",
       "4       1\n",
       "       ..\n",
       "2495    0\n",
       "2496    1\n",
       "2497    1\n",
       "2498    1\n",
       "2499    1\n",
       "Name: h/w, Length: 2500, dtype: int64"
      ]
     },
     "execution_count": 8,
     "metadata": {},
     "output_type": "execute_result"
    }
   ],
   "source": [
    "y"
   ]
  },
  {
   "cell_type": "code",
   "execution_count": 9,
   "id": "204a3ab7",
   "metadata": {},
   "outputs": [
    {
     "data": {
      "text/plain": [
       "0.8052"
      ]
     },
     "execution_count": 9,
     "metadata": {},
     "output_type": "execute_result"
    }
   ],
   "source": [
    "neigh.score(x,y)"
   ]
  },
  {
   "cell_type": "code",
   "execution_count": 10,
   "id": "e415c19a",
   "metadata": {},
   "outputs": [],
   "source": [
    "###################################################################################################################"
   ]
  },
  {
   "cell_type": "code",
   "execution_count": 11,
   "id": "9ebcbf8f",
   "metadata": {},
   "outputs": [],
   "source": [
    "\n",
    "X_train, X_test, y_train, y_test = train_test_split(x, y, test_size=0.3, random_state=39) #30% test\n",
    "#Results are very dependant on the split (acc varies greatly - 30-66%)"
   ]
  },
  {
   "cell_type": "code",
   "execution_count": 52,
   "id": "8e3d5dd8",
   "metadata": {},
   "outputs": [],
   "source": [
    "knn = KNeighborsClassifier(n_neighbors=7)\n",
    "\n",
    "#Train the model using the training sets\n",
    "knn.fit(X_train, y_train)\n",
    "\n",
    "#Predict the response for test dataset\n",
    "y_pred = knn.predict(X_test)"
   ]
  },
  {
   "cell_type": "code",
   "execution_count": 53,
   "id": "2c76e681",
   "metadata": {},
   "outputs": [
    {
     "name": "stdout",
     "output_type": "stream",
     "text": [
      "Accuracy: 0.6426666666666667\n"
     ]
    }
   ],
   "source": [
    "# Model Accuracy, how often is the classifier correct?\n",
    "print(\"Accuracy:\",metrics.accuracy_score(y_test, y_pred))"
   ]
  },
  {
   "cell_type": "code",
   "execution_count": 54,
   "id": "98e67bae",
   "metadata": {},
   "outputs": [],
   "source": [
    "scores = cross_val_score(knn, x, y, cv=10)"
   ]
  },
  {
   "cell_type": "code",
   "execution_count": 55,
   "id": "a8a412d6",
   "metadata": {},
   "outputs": [
    {
     "name": "stdout",
     "output_type": "stream",
     "text": [
      "0.66 accuracy with a standard deviation of 0.02\n"
     ]
    }
   ],
   "source": [
    "print(\"%0.2f accuracy with a standard deviation of %0.2f\" % (scores.mean(), scores.std()))"
   ]
  },
  {
   "cell_type": "code",
   "execution_count": null,
   "id": "f3961f8a",
   "metadata": {},
   "outputs": [],
   "source": []
  }
 ],
 "metadata": {
  "kernelspec": {
   "display_name": "Python 3",
   "language": "python",
   "name": "python3"
  },
  "language_info": {
   "codemirror_mode": {
    "name": "ipython",
    "version": 3
   },
   "file_extension": ".py",
   "mimetype": "text/x-python",
   "name": "python",
   "nbconvert_exporter": "python",
   "pygments_lexer": "ipython3",
   "version": "3.8.5"
  }
 },
 "nbformat": 4,
 "nbformat_minor": 5
}
