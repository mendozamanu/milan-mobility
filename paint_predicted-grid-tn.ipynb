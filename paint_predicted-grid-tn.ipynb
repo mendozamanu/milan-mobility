{
 "cells": [
  {
   "cell_type": "code",
   "execution_count": 1,
   "id": "d2755cd9",
   "metadata": {},
   "outputs": [],
   "source": [
    "import geojson\n",
    "import geopandas as gpd\n",
    "import random\n",
    "\n",
    "import pandas as pd\n",
    "import seaborn as sns\n",
    "import numpy as np\n",
    "import matplotlib.pyplot as plt\n",
    "import matplotlib as mpl\n",
    "import matplotlib.colors as colors"
   ]
  },
  {
   "cell_type": "code",
   "execution_count": 10,
   "id": "39137149",
   "metadata": {},
   "outputs": [
    {
     "name": "stdout",
     "output_type": "stream",
     "text": [
      "6575\n"
     ]
    }
   ],
   "source": [
    "data = pd.read_csv('./csv/pred_fullgrid_trento.csv')\n",
    "#true = pd.read_csv('./classif/classif20by20_sl.csv')\n",
    "#gdf = gpd.read_file('./geojsons/milano-grid.geojson')\n",
    "\n",
    "with open(\"./geojsons/trentino-grid.geojson\") as json_file:\n",
    "    json_data = geojson.load(json_file)\n",
    "\n",
    "print(len(json_data.features))"
   ]
  },
  {
   "cell_type": "code",
   "execution_count": 3,
   "id": "22e2c687",
   "metadata": {},
   "outputs": [],
   "source": [
    "data.cellid = data['cellid'].values.astype(int)"
   ]
  },
  {
   "cell_type": "code",
   "execution_count": 4,
   "id": "3fae1ed6",
   "metadata": {},
   "outputs": [],
   "source": [
    "data=data.sort_values(by='cellid')"
   ]
  },
  {
   "cell_type": "code",
   "execution_count": 5,
   "id": "2cb55822",
   "metadata": {},
   "outputs": [
    {
     "data": {
      "text/html": [
       "<div>\n",
       "<style scoped>\n",
       "    .dataframe tbody tr th:only-of-type {\n",
       "        vertical-align: middle;\n",
       "    }\n",
       "\n",
       "    .dataframe tbody tr th {\n",
       "        vertical-align: top;\n",
       "    }\n",
       "\n",
       "    .dataframe thead th {\n",
       "        text-align: right;\n",
       "    }\n",
       "</style>\n",
       "<table border=\"1\" class=\"dataframe\">\n",
       "  <thead>\n",
       "    <tr style=\"text-align: right;\">\n",
       "      <th></th>\n",
       "      <th>Unnamed: 0</th>\n",
       "      <th>predicted</th>\n",
       "      <th>cellid</th>\n",
       "    </tr>\n",
       "  </thead>\n",
       "  <tbody>\n",
       "    <tr>\n",
       "      <th>0</th>\n",
       "      <td>0</td>\n",
       "      <td>1</td>\n",
       "      <td>38</td>\n",
       "    </tr>\n",
       "    <tr>\n",
       "      <th>4695</th>\n",
       "      <td>4695</td>\n",
       "      <td>1</td>\n",
       "      <td>39</td>\n",
       "    </tr>\n",
       "    <tr>\n",
       "      <th>4176</th>\n",
       "      <td>4176</td>\n",
       "      <td>1</td>\n",
       "      <td>40</td>\n",
       "    </tr>\n",
       "    <tr>\n",
       "      <th>4175</th>\n",
       "      <td>4175</td>\n",
       "      <td>2</td>\n",
       "      <td>154</td>\n",
       "    </tr>\n",
       "    <tr>\n",
       "      <th>4174</th>\n",
       "      <td>4174</td>\n",
       "      <td>1</td>\n",
       "      <td>155</td>\n",
       "    </tr>\n",
       "    <tr>\n",
       "      <th>...</th>\n",
       "      <td>...</td>\n",
       "      <td>...</td>\n",
       "      <td>...</td>\n",
       "    </tr>\n",
       "    <tr>\n",
       "      <th>2082</th>\n",
       "      <td>2082</td>\n",
       "      <td>1</td>\n",
       "      <td>11336</td>\n",
       "    </tr>\n",
       "    <tr>\n",
       "      <th>2081</th>\n",
       "      <td>2081</td>\n",
       "      <td>1</td>\n",
       "      <td>11337</td>\n",
       "    </tr>\n",
       "    <tr>\n",
       "      <th>2080</th>\n",
       "      <td>2080</td>\n",
       "      <td>1</td>\n",
       "      <td>11452</td>\n",
       "    </tr>\n",
       "    <tr>\n",
       "      <th>2079</th>\n",
       "      <td>2079</td>\n",
       "      <td>1</td>\n",
       "      <td>11453</td>\n",
       "    </tr>\n",
       "    <tr>\n",
       "      <th>2078</th>\n",
       "      <td>2078</td>\n",
       "      <td>1</td>\n",
       "      <td>11454</td>\n",
       "    </tr>\n",
       "  </tbody>\n",
       "</table>\n",
       "<p>6259 rows × 3 columns</p>\n",
       "</div>"
      ],
      "text/plain": [
       "      Unnamed: 0  predicted  cellid\n",
       "0              0          1      38\n",
       "4695        4695          1      39\n",
       "4176        4176          1      40\n",
       "4175        4175          2     154\n",
       "4174        4174          1     155\n",
       "...          ...        ...     ...\n",
       "2082        2082          1   11336\n",
       "2081        2081          1   11337\n",
       "2080        2080          1   11452\n",
       "2079        2079          1   11453\n",
       "2078        2078          1   11454\n",
       "\n",
       "[6259 rows x 3 columns]"
      ]
     },
     "execution_count": 5,
     "metadata": {},
     "output_type": "execute_result"
    }
   ],
   "source": [
    "data"
   ]
  },
  {
   "cell_type": "code",
   "execution_count": 6,
   "id": "107751e2",
   "metadata": {},
   "outputs": [],
   "source": [
    "#data.iloc[2].cellid"
   ]
  },
  {
   "cell_type": "code",
   "execution_count": 7,
   "id": "60086471",
   "metadata": {},
   "outputs": [],
   "source": [
    "for i in range(0, len(data)):\n",
    "    if(data.iloc[i].predicted == 0): #work - amarillo\n",
    "        json_data.features[i].properties = {\n",
    "                #\"stroke\": colors.to_hex([ 0.9,0.05, 0.0, 0.5 ], keep_alpha = True),\n",
    "                \"fill\": colors.to_hex([ 0.9,0.9, 0.0, 0.45 ], keep_alpha = True),\n",
    "                \"fill-opacity\": 0.4,\n",
    "                \"stroke-width\": 1.5,\n",
    "                \"stroke-opacity\": 0.75,\n",
    "                \"cell-type\": \"work\",\n",
    "                \"cellId\": int(data.iloc[i].cellid)\n",
    "        }\n",
    "    elif(data.iloc[i].predicted == 1): #home - rojo\n",
    "        json_data.features[i].properties = {\n",
    "                #\"stroke\": colors.to_hex([ 0.9,0.05, 0.0, 0.5 ], keep_alpha = True),\n",
    "                \"fill\": colors.to_hex([ 0.95,0.05, 0.0, 0.95 ], keep_alpha = True),\n",
    "                \"fill-opacity\": 0.4,\n",
    "                \"stroke-width\": 1.5,\n",
    "                \"stroke-opacity\": 0.75,\n",
    "                \"cell-type\": \"home\",\n",
    "                \"cellId\": int(data.iloc[i].cellid)\n",
    "        }\n",
    "    else: #predicted 2 - rural: verde\n",
    "        json_data.features[i].properties = {\n",
    "                #\"stroke\": colors.to_hex([ 0.05, 0.95, 0.0, 0.5 ], keep_alpha = True),\n",
    "                \"fill\": colors.to_hex([ 0.05,0.95, 0.0, 0.95 ], keep_alpha = True),\n",
    "                \"fill-opacity\": 0.4,\n",
    "                \"stroke-width\": 1.5,\n",
    "                \"stroke-opacity\": 0.75,\n",
    "                \"cell-type\": \"rural\",\n",
    "                \"cellId\": int(data.iloc[i].cellid)\n",
    "        }"
   ]
  },
  {
   "cell_type": "code",
   "execution_count": 8,
   "id": "0c509bb8",
   "metadata": {},
   "outputs": [],
   "source": [
    "with open(\"./geojsons/predict_fullgr_tn.geojson\", \"w\") as json_file:\n",
    "    geojson.dump(json_data, json_file)"
   ]
  }
 ],
 "metadata": {
  "kernelspec": {
   "display_name": "Python 3",
   "language": "python",
   "name": "python3"
  },
  "language_info": {
   "codemirror_mode": {
    "name": "ipython",
    "version": 3
   },
   "file_extension": ".py",
   "mimetype": "text/x-python",
   "name": "python",
   "nbconvert_exporter": "python",
   "pygments_lexer": "ipython3",
   "version": "3.8.5"
  }
 },
 "nbformat": 4,
 "nbformat_minor": 5
}
