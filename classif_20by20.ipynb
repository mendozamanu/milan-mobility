{
 "cells": [
  {
   "cell_type": "code",
   "execution_count": 12,
   "id": "deluxe-natural",
   "metadata": {},
   "outputs": [],
   "source": [
    "import geojson\n",
    "import geopandas as gpd\n",
    "import random\n",
    "\n",
    "import pandas as pd\n",
    "import seaborn as sns\n",
    "import numpy as np\n",
    "import matplotlib.pyplot as plt\n",
    "import matplotlib as mpl\n",
    "import matplotlib.colors as colors"
   ]
  },
  {
   "cell_type": "code",
   "execution_count": 2,
   "id": "defensive-collective",
   "metadata": {},
   "outputs": [],
   "source": [
    "#Not needed at the moment\n",
    "#dfs = pd.DataFrame({})\n",
    "\n",
    "#for i in range(1,10):\n",
    "#    df = pd.read_csv('./csv/sms-call-internet-mi-2013-11-0{}.csv'.format(i), parse_dates=['time'])\n",
    "#    dfs = dfs.append(df)\n",
    "#df = pd.read_csv('./csv/sms-call-internet-mi-2013-11-10.csv', parse_dates=['time'])\n",
    "#dfs = dfs.append(df)\n",
    "#dfs = dfs.fillna(0)\n"
   ]
  },
  {
   "cell_type": "code",
   "execution_count": 3,
   "id": "dedicated-worth",
   "metadata": {},
   "outputs": [],
   "source": [
    "#dfgr = dfs[['cellid', 'time', 'smsin','smsout', 'callin','callout', 'internet']].groupby(['cellid'], as_index=True).sum()\n",
    "#dfgr['hour'] = dfgr.time.dt.hour+dfgr.time.dt.minute/60+24*(dfgr.time.dt.day-1)\n",
    "#dfgr = dfgr.set_index(['cell']).sort_index()\n",
    "#dfgr.head()"
   ]
  },
  {
   "cell_type": "code",
   "execution_count": null,
   "id": "aging-mauritius",
   "metadata": {},
   "outputs": [],
   "source": []
  },
  {
   "cell_type": "code",
   "execution_count": 20,
   "id": "nutritional-vault",
   "metadata": {},
   "outputs": [
    {
     "name": "stdout",
     "output_type": "stream",
     "text": [
      "6575\n"
     ]
    }
   ],
   "source": [
    "cs_class = pd.DataFrame([], columns=[\"cellid\", \"lat\", \"lon\", \"smsin\", \"smsout\",\"callin\",\"callout\",\"internet\", \"home\", \"high_dens\",\"mid_dens\",\"low_dens\",\"work\", \"transport\", \"commercial\", \"commercial_low\", \"commercial_high\", \"offices\", \"touristic\", \"rural\"])\n",
    "#gdf = gpd.read_file('./geojsons/milano-grid.geojson')\n",
    "\n",
    "with open(\"./geojsons/trentino-grid.geojson\") as json_file:\n",
    "    json_data = geojson.load(json_file)\n",
    "print(len(json_data.features))"
   ]
  },
  {
   "cell_type": "code",
   "execution_count": 5,
   "id": "computational-underwear",
   "metadata": {
    "scrolled": true
   },
   "outputs": [],
   "source": [
    "#Create a subset of the grids, and manually assign the labels according to the visual map"
   ]
  },
  {
   "cell_type": "code",
   "execution_count": 6,
   "id": "reflected-enough",
   "metadata": {
    "scrolled": true
   },
   "outputs": [
    {
     "name": "stdout",
     "output_type": "stream",
     "text": [
      "[1006, 1015, 1026, 1035, 1043, 1053, 1068, 1076, 1088, 1098, 1111, 1119, 1127, 1140, 1146, 1157, 1170, 1174, 1186, 1193, 1211, 1216, 1223, 1232, 1247, 1258, 1261, 1280, 1289, 1298, 1305, 1317, 1323, 1337, 1351, 1357, 1368, 1379, 1386, 1396, 1407, 1415, 1425, 1431, 1451, 1460, 1470, 1479, 1482, 1495, 1507, 1519, 1526, 1539, 1543, 1554, 1562, 1579, 1584, 1601, 1603, 1613, 1622, 1635, 1643, 1658, 1669, 1679, 1681, 1697, 1710, 1712, 1725, 1739, 1745, 1755, 1770, 1779, 1787, 1800, 1810, 1815, 1825, 1837, 1850, 1859, 1869, 1879, 1888, 1893, 1902, 1920, 1929, 1938, 1949, 1954, 1965, 1972, 1984, 2000, 2007, 2020, 2023, 2040, 2045, 2055, 2065, 2073, 2088, 2095, 2106, 2114, 2121, 2139, 2143, 2157, 2165, 2171, 2190, 2191, 2207, 2221, 2225, 2240, 2243, 2256, 2265, 2275, 2291, 2299, 2305, 2317, 2328, 2332, 2346, 2355, 2370, 2379, 2384, 2397, 2407, 2416, 2429, 2437, 2449, 2452, 2470, 2481, 2485, 2495, 2508, 2517, 2523, 2534, 2545, 2559, 2561, 2576, 2585, 2595, 2605, 2619, 2629, 2640, 2647, 2654, 2667, 2676, 2683, 2699, 2706, 2721, 2722, 2734, 2743, 2758, 2765, 2778, 2782, 2799, 2806, 2820, 2821, 2836, 2845, 2858, 2863, 2879, 2882, 2894, 2910, 2911, 2924, 2937, 2948, 2952, 2971, 2981, 2988, 3000, 3010, 3019, 3023, 3039, 3044, 3054, 3069, 3080, 3091, 3101, 3101, 3112, 3128, 3134, 3141, 3159, 3168, 3171, 3188, 3199, 3208, 3221, 3225, 3241, 3241, 3261, 3266, 3280, 3291, 3301, 3309, 3314, 3330, 3332, 3342, 3359, 3364, 3375, 3391, 3398, 3407, 3421, 3429, 3432, 3448, 3457, 3462, 3472, 3481, 3497, 3511, 3520, 3524, 3537, 3549, 3558, 3565, 3576, 3591, 3594, 3607, 3620, 3627, 3637, 3651, 3661, 3666, 3681, 3686, 3692, 3706, 3715, 3725, 3735, 3743, 3758, 3771, 3777, 3791, 3795, 3805, 3817, 3824, 3840, 3844, 3860, 3871, 3873, 3884, 3891, 3910, 3918, 3929, 3932, 3951, 3961, 3961, 3974, 3989, 4000, 4006, 4019, 4031, 4035, 4049, 4061, 4069, 4076, 4086, 4099, 4101, 4115, 4121, 4133, 4147, 4156, 4161, 4171, 4185, 4192, 4202, 4220, 4227, 4237, 4247, 4258, 4267, 4274, 4290, 4295, 4304, 4311, 4331, 4332, 4349, 4356, 4369, 4372, 4390, 4394, 4407, 4415, 4424, 4436, 4447, 4458, 4471, 4473, 4482, 4497, 4502, 4517, 4528, 4534, 4543, 4560, 4571, 4580, 4582, 4599, 4605, 4619, 4624, 4635, 4645, 4652, 4661, 4673, 4683, 4700, 4703, 4712, 4728, 4733, 4746, 4752, 4762, 4777, 4787, 4791, 4805, 4813, 4823, 4835, 4844, 4855, 4866, 4877, 4883, 4892, 4906, 4920, 4926, 4940, 4941, 4956, 4970, 4975, 4982, 4996]\n"
     ]
    }
   ],
   "source": [
    "l=[]\n",
    "random.seed(13479561) #To make it reproducible\n",
    "for i in range(1000,5000,10):\n",
    "    #print (random.randint(i,i+100))\n",
    "    l.append(random.randint(i,i+10)+1)\n",
    "print(l)"
   ]
  },
  {
   "cell_type": "code",
   "execution_count": 7,
   "id": "metallic-floating",
   "metadata": {
    "scrolled": true
   },
   "outputs": [],
   "source": [
    "for i in l:\n",
    "    try:\n",
    "        tmp=pd.DataFrame([[json_data.features[i-1].properties[\"cellId\"], np.mean(json_data.features[i-1].geometry.coordinates[0], axis=0)[1], np.mean(json_data.features[i-1].geometry.coordinates[0], axis=0)[0]]], columns=['cellid', 'lat', 'lon'])\n",
    "        cs_class=cs_class.append(tmp)\n",
    "        #print(np.mean(json_data.features[i].geometry.coordinates[0], axis=0))\n",
    "        #print(json_data.features[i].properties[\"cellId\"])\n",
    "        json_data.features[i-1].properties = {\n",
    "            \"fill\": colors.to_hex([ 0.0, 0.80, 0.1, 0.5 ], keep_alpha = True),\n",
    "            \"fill-opacity\": 0.3,\n",
    "            \"stroke-width\": 1.75,\n",
    "            \"stroke-opacity\": 0.75,\n",
    "            \"cellId\": i\n",
    "        }\n",
    "    except:\n",
    "        continue #skip the missing value and continue :3"
   ]
  },
  {
   "cell_type": "code",
   "execution_count": 8,
   "id": "large-principal",
   "metadata": {},
   "outputs": [],
   "source": [
    "with open(\"./geojsons/trento20by20.geojson\", \"w\") as json_file:\n",
    "    geojson.dump(json_data, json_file)"
   ]
  },
  {
   "cell_type": "code",
   "execution_count": 9,
   "id": "median-history",
   "metadata": {},
   "outputs": [
    {
     "data": {
      "text/html": [
       "<div>\n",
       "<style scoped>\n",
       "    .dataframe tbody tr th:only-of-type {\n",
       "        vertical-align: middle;\n",
       "    }\n",
       "\n",
       "    .dataframe tbody tr th {\n",
       "        vertical-align: top;\n",
       "    }\n",
       "\n",
       "    .dataframe thead th {\n",
       "        text-align: right;\n",
       "    }\n",
       "</style>\n",
       "<table border=\"1\" class=\"dataframe\">\n",
       "  <thead>\n",
       "    <tr style=\"text-align: right;\">\n",
       "      <th></th>\n",
       "      <th>lat</th>\n",
       "      <th>lon</th>\n",
       "      <th>smsin</th>\n",
       "      <th>smsout</th>\n",
       "      <th>callin</th>\n",
       "      <th>callout</th>\n",
       "      <th>internet</th>\n",
       "      <th>home</th>\n",
       "      <th>high_dens</th>\n",
       "      <th>mid_dens</th>\n",
       "      <th>low_dens</th>\n",
       "      <th>work</th>\n",
       "      <th>transport</th>\n",
       "      <th>commercial</th>\n",
       "      <th>commercial_low</th>\n",
       "      <th>commercial_high</th>\n",
       "      <th>offices</th>\n",
       "      <th>touristic</th>\n",
       "      <th>rural</th>\n",
       "    </tr>\n",
       "    <tr>\n",
       "      <th>cellid</th>\n",
       "      <th></th>\n",
       "      <th></th>\n",
       "      <th></th>\n",
       "      <th></th>\n",
       "      <th></th>\n",
       "      <th></th>\n",
       "      <th></th>\n",
       "      <th></th>\n",
       "      <th></th>\n",
       "      <th></th>\n",
       "      <th></th>\n",
       "      <th></th>\n",
       "      <th></th>\n",
       "      <th></th>\n",
       "      <th></th>\n",
       "      <th></th>\n",
       "      <th></th>\n",
       "      <th></th>\n",
       "      <th></th>\n",
       "    </tr>\n",
       "  </thead>\n",
       "  <tbody>\n",
       "    <tr>\n",
       "      <th>3101</th>\n",
       "      <td>46.134114</td>\n",
       "      <td>11.103713</td>\n",
       "      <td>0</td>\n",
       "      <td>0</td>\n",
       "      <td>0</td>\n",
       "      <td>0</td>\n",
       "      <td>0</td>\n",
       "      <td>0</td>\n",
       "      <td>0</td>\n",
       "      <td>0</td>\n",
       "      <td>0</td>\n",
       "      <td>0</td>\n",
       "      <td>0</td>\n",
       "      <td>0</td>\n",
       "      <td>0</td>\n",
       "      <td>0</td>\n",
       "      <td>0</td>\n",
       "      <td>0</td>\n",
       "      <td>0</td>\n",
       "    </tr>\n",
       "    <tr>\n",
       "      <th>3168</th>\n",
       "      <td>45.926900</td>\n",
       "      <td>10.554158</td>\n",
       "      <td>0</td>\n",
       "      <td>0</td>\n",
       "      <td>0</td>\n",
       "      <td>0</td>\n",
       "      <td>0</td>\n",
       "      <td>0</td>\n",
       "      <td>0</td>\n",
       "      <td>0</td>\n",
       "      <td>0</td>\n",
       "      <td>0</td>\n",
       "      <td>0</td>\n",
       "      <td>0</td>\n",
       "      <td>0</td>\n",
       "      <td>0</td>\n",
       "      <td>0</td>\n",
       "      <td>0</td>\n",
       "      <td>0</td>\n",
       "    </tr>\n",
       "    <tr>\n",
       "      <th>3177</th>\n",
       "      <td>45.925263</td>\n",
       "      <td>10.670188</td>\n",
       "      <td>0</td>\n",
       "      <td>0</td>\n",
       "      <td>0</td>\n",
       "      <td>0</td>\n",
       "      <td>0</td>\n",
       "      <td>0</td>\n",
       "      <td>0</td>\n",
       "      <td>0</td>\n",
       "      <td>0</td>\n",
       "      <td>0</td>\n",
       "      <td>0</td>\n",
       "      <td>0</td>\n",
       "      <td>0</td>\n",
       "      <td>0</td>\n",
       "      <td>0</td>\n",
       "      <td>0</td>\n",
       "      <td>0</td>\n",
       "    </tr>\n",
       "    <tr>\n",
       "      <th>3188</th>\n",
       "      <td>45.923102</td>\n",
       "      <td>10.811989</td>\n",
       "      <td>0</td>\n",
       "      <td>0</td>\n",
       "      <td>0</td>\n",
       "      <td>0</td>\n",
       "      <td>0</td>\n",
       "      <td>0</td>\n",
       "      <td>0</td>\n",
       "      <td>0</td>\n",
       "      <td>0</td>\n",
       "      <td>0</td>\n",
       "      <td>0</td>\n",
       "      <td>0</td>\n",
       "      <td>0</td>\n",
       "      <td>0</td>\n",
       "      <td>0</td>\n",
       "      <td>0</td>\n",
       "      <td>0</td>\n",
       "    </tr>\n",
       "    <tr>\n",
       "      <th>3197</th>\n",
       "      <td>45.921203</td>\n",
       "      <td>10.927995</td>\n",
       "      <td>0</td>\n",
       "      <td>0</td>\n",
       "      <td>0</td>\n",
       "      <td>0</td>\n",
       "      <td>0</td>\n",
       "      <td>0</td>\n",
       "      <td>0</td>\n",
       "      <td>0</td>\n",
       "      <td>0</td>\n",
       "      <td>0</td>\n",
       "      <td>0</td>\n",
       "      <td>0</td>\n",
       "      <td>0</td>\n",
       "      <td>0</td>\n",
       "      <td>0</td>\n",
       "      <td>0</td>\n",
       "      <td>0</td>\n",
       "    </tr>\n",
       "  </tbody>\n",
       "</table>\n",
       "</div>"
      ],
      "text/plain": [
       "              lat        lon  smsin  smsout  callin  callout  internet  home  \\\n",
       "cellid                                                                         \n",
       "3101    46.134114  11.103713      0       0       0        0         0     0   \n",
       "3168    45.926900  10.554158      0       0       0        0         0     0   \n",
       "3177    45.925263  10.670188      0       0       0        0         0     0   \n",
       "3188    45.923102  10.811989      0       0       0        0         0     0   \n",
       "3197    45.921203  10.927995      0       0       0        0         0     0   \n",
       "\n",
       "        high_dens  mid_dens  low_dens  work  transport  commercial  \\\n",
       "cellid                                                               \n",
       "3101            0         0         0     0          0           0   \n",
       "3168            0         0         0     0          0           0   \n",
       "3177            0         0         0     0          0           0   \n",
       "3188            0         0         0     0          0           0   \n",
       "3197            0         0         0     0          0           0   \n",
       "\n",
       "        commercial_low  commercial_high  offices  touristic  rural  \n",
       "cellid                                                              \n",
       "3101                 0                0        0          0      0  \n",
       "3168                 0                0        0          0      0  \n",
       "3177                 0                0        0          0      0  \n",
       "3188                 0                0        0          0      0  \n",
       "3197                 0                0        0          0      0  "
      ]
     },
     "execution_count": 9,
     "metadata": {},
     "output_type": "execute_result"
    }
   ],
   "source": [
    "cs_class=cs_class.fillna(0)\n",
    "cs_class = cs_class.set_index(['cellid']).sort_index()\n",
    "\n",
    "cs_class.head()"
   ]
  },
  {
   "cell_type": "code",
   "execution_count": 10,
   "id": "9d287c03",
   "metadata": {},
   "outputs": [
    {
     "data": {
      "text/plain": [
       "lat                400\n",
       "lon                400\n",
       "smsin              400\n",
       "smsout             400\n",
       "callin             400\n",
       "callout            400\n",
       "internet           400\n",
       "home               400\n",
       "high_dens          400\n",
       "mid_dens           400\n",
       "low_dens           400\n",
       "work               400\n",
       "transport          400\n",
       "commercial         400\n",
       "commercial_low     400\n",
       "commercial_high    400\n",
       "offices            400\n",
       "touristic          400\n",
       "rural              400\n",
       "dtype: int64"
      ]
     },
     "execution_count": 10,
     "metadata": {},
     "output_type": "execute_result"
    }
   ],
   "source": [
    "cs_class.count()"
   ]
  },
  {
   "cell_type": "code",
   "execution_count": 11,
   "id": "unlikely-globe",
   "metadata": {},
   "outputs": [],
   "source": [
    "#cs_class.to_csv(\"./csv/classif20by20.csv\")"
   ]
  },
  {
   "cell_type": "code",
   "execution_count": null,
   "id": "rental-cycling",
   "metadata": {},
   "outputs": [],
   "source": []
  }
 ],
 "metadata": {
  "kernelspec": {
   "display_name": "Python 3",
   "language": "python",
   "name": "python3"
  },
  "language_info": {
   "codemirror_mode": {
    "name": "ipython",
    "version": 3
   },
   "file_extension": ".py",
   "mimetype": "text/x-python",
   "name": "python",
   "nbconvert_exporter": "python",
   "pygments_lexer": "ipython3",
   "version": "3.8.5"
  }
 },
 "nbformat": 4,
 "nbformat_minor": 5
}
