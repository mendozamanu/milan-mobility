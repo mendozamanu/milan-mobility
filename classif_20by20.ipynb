{
 "cells": [
  {
   "cell_type": "code",
   "execution_count": 1,
   "id": "deluxe-natural",
   "metadata": {},
   "outputs": [],
   "source": [
    "import geojson\n",
    "import geopandas as gpd\n",
    "import random\n",
    "\n",
    "import pandas as pd\n",
    "import seaborn as sns\n",
    "import numpy as np\n",
    "import matplotlib.pyplot as plt\n",
    "import matplotlib as mpl\n",
    "import matplotlib.colors as colors"
   ]
  },
  {
   "cell_type": "code",
   "execution_count": 2,
   "id": "defensive-collective",
   "metadata": {},
   "outputs": [],
   "source": [
    "#Not needed at the moment\n",
    "#dfs = pd.DataFrame({})\n",
    "\n",
    "#for i in range(1,10):\n",
    "#    df = pd.read_csv('./csv/sms-call-internet-mi-2013-11-0{}.csv'.format(i), parse_dates=['time'])\n",
    "#    dfs = dfs.append(df)\n",
    "#df = pd.read_csv('./csv/sms-call-internet-mi-2013-11-10.csv', parse_dates=['time'])\n",
    "#dfs = dfs.append(df)\n",
    "#dfs = dfs.fillna(0)\n"
   ]
  },
  {
   "cell_type": "code",
   "execution_count": 3,
   "id": "dedicated-worth",
   "metadata": {},
   "outputs": [],
   "source": [
    "#dfgr = dfs[['cellid', 'time', 'smsin','smsout', 'callin','callout', 'internet']].groupby(['cellid'], as_index=True).sum()\n",
    "#dfgr['hour'] = dfgr.time.dt.hour+dfgr.time.dt.minute/60+24*(dfgr.time.dt.day-1)\n",
    "#dfgr = dfgr.set_index(['cell']).sort_index()\n",
    "#dfgr.head()"
   ]
  },
  {
   "cell_type": "code",
   "execution_count": 4,
   "id": "nutritional-vault",
   "metadata": {},
   "outputs": [
    {
     "name": "stdout",
     "output_type": "stream",
     "text": [
      "10000\n"
     ]
    }
   ],
   "source": [
    "cs_class = pd.DataFrame([], columns=[\"cellid\", \"lat\", \"lon\", \"smsin\", \"smsout\",\"callin\",\"callout\",\"internet\", \"home\", \"high_dens\",\"mid_dens\",\"low_dens\",\"work\", \"transport\", \"commercial\", \"commercial_low\", \"commercial_high\", \"offices\", \"touristic\", \"rural\"])\n",
    "#gdf = gpd.read_file('./geojsons/milano-grid.geojson')\n",
    "\n",
    "with open(\"./geojsons/milano-grid.geojson\") as json_file:\n",
    "    json_data = geojson.load(json_file)\n",
    "print(len(json_data.features))"
   ]
  },
  {
   "cell_type": "code",
   "execution_count": 5,
   "id": "computational-underwear",
   "metadata": {
    "scrolled": true
   },
   "outputs": [],
   "source": [
    "#Create a subset of the grids, and manually assign the labels according to the visual map"
   ]
  },
  {
   "cell_type": "code",
   "execution_count": 6,
   "id": "3306781d",
   "metadata": {},
   "outputs": [],
   "source": [
    "for j in range(0,10000):\n",
    "    json_data.features[j].properties = {\n",
    "        \"fill\": colors.to_hex([ 0.99,0.99, 0.99, 0.15 ], keep_alpha = True),\n",
    "        \"stroke\": colors.to_hex([ 0.99,0.99, 0.99, 0.55 ], keep_alpha = True),\n",
    "        \"fill-opacity\": 0.1,\n",
    "        \"stroke-width\": 1,\n",
    "        \"stroke-opacity\": 0.52,\n",
    "        \"cellId\": j+1\n",
    "    }"
   ]
  },
  {
   "cell_type": "code",
   "execution_count": 7,
   "id": "reflected-enough",
   "metadata": {
    "scrolled": true
   },
   "outputs": [],
   "source": [
    "l=[]\n",
    "for i in range(4263,6173,100):\n",
    "    for j in range(i,i+20):\n",
    "        l.append(j)\n",
    "#print(l)"
   ]
  },
  {
   "cell_type": "code",
   "execution_count": 8,
   "id": "metallic-floating",
   "metadata": {
    "scrolled": true
   },
   "outputs": [],
   "source": [
    "for i in l:\n",
    "    try:\n",
    "        tmp=pd.DataFrame([[json_data.features[i-1].properties[\"cellId\"], np.mean(json_data.features[i-1].geometry.coordinates[0], axis=0)[1], np.mean(json_data.features[i-1].geometry.coordinates[0], axis=0)[0]]], columns=['cellid', 'lat', 'lon'])\n",
    "        cs_class=cs_class.append(tmp)\n",
    "        #print(np.mean(json_data.features[i].geometry.coordinates[0], axis=0))\n",
    "        #print(json_data.features[i].properties[\"cellId\"])\n",
    "        json_data.features[i-1].properties = {\n",
    "        \"fill\": colors.to_hex([ 0.90,0.00, 0.0, 0.3 ], keep_alpha = True),\n",
    "        \"stroke\": colors.to_hex([ 0.99,0.99, 0.99, 0.4 ], keep_alpha = True),\n",
    "        \"fill-opacity\": 0.3,\n",
    "        \"stroke-width\": 1,\n",
    "        \"stroke-opacity\": 0.4,\n",
    "        \"cellId\": i\n",
    "    }\n",
    "    except:\n",
    "        continue #skip the missing value and continue :3"
   ]
  },
  {
   "cell_type": "code",
   "execution_count": 9,
   "id": "large-principal",
   "metadata": {},
   "outputs": [],
   "source": [
    "with open(\"./geojsons/test20by20.geojson\", \"w\") as json_file:\n",
    "    geojson.dump(json_data, json_file)"
   ]
  },
  {
   "cell_type": "code",
   "execution_count": 10,
   "id": "median-history",
   "metadata": {},
   "outputs": [
    {
     "data": {
      "text/html": [
       "<div>\n",
       "<style scoped>\n",
       "    .dataframe tbody tr th:only-of-type {\n",
       "        vertical-align: middle;\n",
       "    }\n",
       "\n",
       "    .dataframe tbody tr th {\n",
       "        vertical-align: top;\n",
       "    }\n",
       "\n",
       "    .dataframe thead th {\n",
       "        text-align: right;\n",
       "    }\n",
       "</style>\n",
       "<table border=\"1\" class=\"dataframe\">\n",
       "  <thead>\n",
       "    <tr style=\"text-align: right;\">\n",
       "      <th></th>\n",
       "      <th>lat</th>\n",
       "      <th>lon</th>\n",
       "      <th>smsin</th>\n",
       "      <th>smsout</th>\n",
       "      <th>callin</th>\n",
       "      <th>callout</th>\n",
       "      <th>internet</th>\n",
       "      <th>home</th>\n",
       "      <th>high_dens</th>\n",
       "      <th>mid_dens</th>\n",
       "      <th>low_dens</th>\n",
       "      <th>work</th>\n",
       "      <th>transport</th>\n",
       "      <th>commercial</th>\n",
       "      <th>commercial_low</th>\n",
       "      <th>commercial_high</th>\n",
       "      <th>offices</th>\n",
       "      <th>touristic</th>\n",
       "      <th>rural</th>\n",
       "    </tr>\n",
       "    <tr>\n",
       "      <th>cellid</th>\n",
       "      <th></th>\n",
       "      <th></th>\n",
       "      <th></th>\n",
       "      <th></th>\n",
       "      <th></th>\n",
       "      <th></th>\n",
       "      <th></th>\n",
       "      <th></th>\n",
       "      <th></th>\n",
       "      <th></th>\n",
       "      <th></th>\n",
       "      <th></th>\n",
       "      <th></th>\n",
       "      <th></th>\n",
       "      <th></th>\n",
       "      <th></th>\n",
       "      <th></th>\n",
       "      <th></th>\n",
       "      <th></th>\n",
       "    </tr>\n",
       "  </thead>\n",
       "  <tbody>\n",
       "    <tr>\n",
       "      <th>4263</th>\n",
       "      <td>45.446625</td>\n",
       "      <td>9.199027</td>\n",
       "      <td>0</td>\n",
       "      <td>0</td>\n",
       "      <td>0</td>\n",
       "      <td>0</td>\n",
       "      <td>0</td>\n",
       "      <td>0</td>\n",
       "      <td>0</td>\n",
       "      <td>0</td>\n",
       "      <td>0</td>\n",
       "      <td>0</td>\n",
       "      <td>0</td>\n",
       "      <td>0</td>\n",
       "      <td>0</td>\n",
       "      <td>0</td>\n",
       "      <td>0</td>\n",
       "      <td>0</td>\n",
       "      <td>0</td>\n",
       "    </tr>\n",
       "    <tr>\n",
       "      <th>4264</th>\n",
       "      <td>45.446620</td>\n",
       "      <td>9.202032</td>\n",
       "      <td>0</td>\n",
       "      <td>0</td>\n",
       "      <td>0</td>\n",
       "      <td>0</td>\n",
       "      <td>0</td>\n",
       "      <td>0</td>\n",
       "      <td>0</td>\n",
       "      <td>0</td>\n",
       "      <td>0</td>\n",
       "      <td>0</td>\n",
       "      <td>0</td>\n",
       "      <td>0</td>\n",
       "      <td>0</td>\n",
       "      <td>0</td>\n",
       "      <td>0</td>\n",
       "      <td>0</td>\n",
       "      <td>0</td>\n",
       "    </tr>\n",
       "    <tr>\n",
       "      <th>4265</th>\n",
       "      <td>45.446614</td>\n",
       "      <td>9.205037</td>\n",
       "      <td>0</td>\n",
       "      <td>0</td>\n",
       "      <td>0</td>\n",
       "      <td>0</td>\n",
       "      <td>0</td>\n",
       "      <td>0</td>\n",
       "      <td>0</td>\n",
       "      <td>0</td>\n",
       "      <td>0</td>\n",
       "      <td>0</td>\n",
       "      <td>0</td>\n",
       "      <td>0</td>\n",
       "      <td>0</td>\n",
       "      <td>0</td>\n",
       "      <td>0</td>\n",
       "      <td>0</td>\n",
       "      <td>0</td>\n",
       "    </tr>\n",
       "    <tr>\n",
       "      <th>4266</th>\n",
       "      <td>45.446609</td>\n",
       "      <td>9.208042</td>\n",
       "      <td>0</td>\n",
       "      <td>0</td>\n",
       "      <td>0</td>\n",
       "      <td>0</td>\n",
       "      <td>0</td>\n",
       "      <td>0</td>\n",
       "      <td>0</td>\n",
       "      <td>0</td>\n",
       "      <td>0</td>\n",
       "      <td>0</td>\n",
       "      <td>0</td>\n",
       "      <td>0</td>\n",
       "      <td>0</td>\n",
       "      <td>0</td>\n",
       "      <td>0</td>\n",
       "      <td>0</td>\n",
       "      <td>0</td>\n",
       "    </tr>\n",
       "    <tr>\n",
       "      <th>4267</th>\n",
       "      <td>45.446604</td>\n",
       "      <td>9.211047</td>\n",
       "      <td>0</td>\n",
       "      <td>0</td>\n",
       "      <td>0</td>\n",
       "      <td>0</td>\n",
       "      <td>0</td>\n",
       "      <td>0</td>\n",
       "      <td>0</td>\n",
       "      <td>0</td>\n",
       "      <td>0</td>\n",
       "      <td>0</td>\n",
       "      <td>0</td>\n",
       "      <td>0</td>\n",
       "      <td>0</td>\n",
       "      <td>0</td>\n",
       "      <td>0</td>\n",
       "      <td>0</td>\n",
       "      <td>0</td>\n",
       "    </tr>\n",
       "  </tbody>\n",
       "</table>\n",
       "</div>"
      ],
      "text/plain": [
       "              lat       lon  smsin  smsout  callin  callout  internet  home  \\\n",
       "cellid                                                                        \n",
       "4263    45.446625  9.199027      0       0       0        0         0     0   \n",
       "4264    45.446620  9.202032      0       0       0        0         0     0   \n",
       "4265    45.446614  9.205037      0       0       0        0         0     0   \n",
       "4266    45.446609  9.208042      0       0       0        0         0     0   \n",
       "4267    45.446604  9.211047      0       0       0        0         0     0   \n",
       "\n",
       "        high_dens  mid_dens  low_dens  work  transport  commercial  \\\n",
       "cellid                                                               \n",
       "4263            0         0         0     0          0           0   \n",
       "4264            0         0         0     0          0           0   \n",
       "4265            0         0         0     0          0           0   \n",
       "4266            0         0         0     0          0           0   \n",
       "4267            0         0         0     0          0           0   \n",
       "\n",
       "        commercial_low  commercial_high  offices  touristic  rural  \n",
       "cellid                                                              \n",
       "4263                 0                0        0          0      0  \n",
       "4264                 0                0        0          0      0  \n",
       "4265                 0                0        0          0      0  \n",
       "4266                 0                0        0          0      0  \n",
       "4267                 0                0        0          0      0  "
      ]
     },
     "execution_count": 10,
     "metadata": {},
     "output_type": "execute_result"
    }
   ],
   "source": [
    "cs_class=cs_class.fillna(0)\n",
    "cs_class = cs_class.set_index(['cellid']).sort_index()\n",
    "\n",
    "cs_class.head()"
   ]
  },
  {
   "cell_type": "code",
   "execution_count": 11,
   "id": "9d287c03",
   "metadata": {},
   "outputs": [
    {
     "data": {
      "text/plain": [
       "lat                400\n",
       "lon                400\n",
       "smsin              400\n",
       "smsout             400\n",
       "callin             400\n",
       "callout            400\n",
       "internet           400\n",
       "home               400\n",
       "high_dens          400\n",
       "mid_dens           400\n",
       "low_dens           400\n",
       "work               400\n",
       "transport          400\n",
       "commercial         400\n",
       "commercial_low     400\n",
       "commercial_high    400\n",
       "offices            400\n",
       "touristic          400\n",
       "rural              400\n",
       "dtype: int64"
      ]
     },
     "execution_count": 11,
     "metadata": {},
     "output_type": "execute_result"
    }
   ],
   "source": [
    "cs_class.count()"
   ]
  },
  {
   "cell_type": "code",
   "execution_count": 12,
   "id": "unlikely-globe",
   "metadata": {},
   "outputs": [],
   "source": [
    "#cs_class.to_csv(\"./csv/classif20by20.csv\")"
   ]
  },
  {
   "cell_type": "code",
   "execution_count": null,
   "id": "rental-cycling",
   "metadata": {},
   "outputs": [],
   "source": []
  }
 ],
 "metadata": {
  "kernelspec": {
   "display_name": "Python 3 (ipykernel)",
   "language": "python",
   "name": "python3"
  },
  "language_info": {
   "codemirror_mode": {
    "name": "ipython",
    "version": 3
   },
   "file_extension": ".py",
   "mimetype": "text/x-python",
   "name": "python",
   "nbconvert_exporter": "python",
   "pygments_lexer": "ipython3",
   "version": "3.9.9"
  }
 },
 "nbformat": 4,
 "nbformat_minor": 5
}
