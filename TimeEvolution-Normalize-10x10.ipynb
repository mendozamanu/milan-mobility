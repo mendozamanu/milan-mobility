{
 "cells": [
  {
   "cell_type": "code",
   "execution_count": 1,
   "id": "opened-blood",
   "metadata": {},
   "outputs": [],
   "source": [
    "                             ###OLD FILE###\n",
    "import geojson\n",
    "\n",
    "import pandas as pd\n",
    "import seaborn as sns\n",
    "import numpy as np\n",
    "import matplotlib.pyplot as plt\n",
    "import matplotlib as mpl\n",
    "from sklearn.preprocessing import MinMaxScaler"
   ]
  },
  {
   "cell_type": "code",
   "execution_count": 2,
   "id": "august-solution",
   "metadata": {},
   "outputs": [],
   "source": [
    "\n",
    "hours_of_interest = [96,97,98,99,100,101,102,103,104,105,106,107,108,109,110,111,112,113,114,115,116,117,118,119,120]\n",
    "normalized = [0,1,2,3,4,5,6,7,8,9,10,11,12,13,14,15,16,17,18,19,20,21,22,23,24]\n",
    "\n",
    "dfs = pd.DataFrame({})\n",
    "\n",
    "for i in range(1,10):\n",
    "    df = pd.read_csv('./csv/sms-call-internet-mi-2013-11-0{}.csv'.format(i), parse_dates=['time'])\n",
    "    dfs = dfs.append(df)\n",
    "df = pd.read_csv('./csv/sms-call-internet-mi-2013-11-10.csv', parse_dates=['time'])\n",
    "dfs = dfs.append(df)\n",
    "dfs = dfs.fillna(0)\n",
    "del df"
   ]
  },
  {
   "cell_type": "code",
   "execution_count": 3,
   "id": "opponent-central",
   "metadata": {},
   "outputs": [
    {
     "name": "stdout",
     "output_type": "stream",
     "text": [
      "         hour  cellid     smsin    smsout    callin   callout    internet\n",
      "0           0       1  2.084285  1.104749  0.591930  0.429290   57.799009\n",
      "1           0       2  2.091501  1.087979  0.602031  0.438173   57.914858\n",
      "2           0       3  2.099183  1.070129  0.612784  0.447628   58.038173\n",
      "3           0       4  2.063383  1.153322  0.562672  0.403561   57.463453\n",
      "4           0       5  1.870766  1.043851  0.510983  0.373990   52.171423\n",
      "...       ...     ...       ...       ...       ...       ...         ...\n",
      "2399989   239    9996  6.054090  6.946597  1.640647  4.461988  277.006021\n",
      "2399990   239    9997  7.169133  6.872796  1.482668  5.482080  280.252966\n",
      "2399991   239    9998  6.950347  6.901188  1.509687  5.291210  280.206203\n",
      "2399992   239    9999  4.068024  4.816966  1.490447  2.965692  214.932905\n",
      "2399993   239   10000  3.580726  2.847060  1.250935  2.658222  181.829832\n",
      "\n",
      "[2399994 rows x 7 columns]\n"
     ]
    }
   ],
   "source": [
    "#Group by hours and aggregate values according to each cell/hour\n",
    "dfgr = dfs[['cellid', 'time', 'smsin','smsout', 'callin','callout', 'internet']].groupby(['time', 'cellid'], as_index=False).sum()\n",
    "dfgr['hour'] = dfgr.time.dt.hour+24*(dfgr.time.dt.day-1)\n",
    "dfgg = dfgr[['hour', 'cellid', 'time', 'smsin','smsout', 'callin','callout', 'internet']].groupby(['hour', 'cellid'], as_index=False).sum()\n",
    "#dfgg = dfgg.set_index(['hour']).sort_index()\n",
    "\n",
    "del dfs\n",
    "print(dfgg)\n",
    "\n",
    "#Group by hours and aggregate values according to the hour\n",
    "#dfgr = dfs[['cellid', 'time', 'smsin','smsout', 'callin','callout', 'internet']].groupby(['time', 'cellid'], as_index=False).sum()\n",
    "#dfgr['hour'] = dfgr.time.dt.hour+24*(dfgr.time.dt.day-1)\n",
    "#dfgg = dfgr[['hour', 'time', 'smsin','smsout', 'callin','callout', 'internet']].groupby(['hour'], as_index=False).sum()\n",
    "#dfgg = dfgg.set_index(['hour']).sort_index()\n",
    "#print(dfgg)"
   ]
  },
  {
   "cell_type": "code",
   "execution_count": 4,
   "id": "0a4dd691",
   "metadata": {},
   "outputs": [],
   "source": [
    "l=[] #choosen cells on 10x10 grid\n",
    "for i in range(4273,5273,100):\n",
    "    for j in range(i,i+10):\n",
    "        l.append(j)"
   ]
  },
  {
   "cell_type": "code",
   "execution_count": 5,
   "id": "quiet-circulation",
   "metadata": {
    "scrolled": true
   },
   "outputs": [],
   "source": [
    "df10 = pd.DataFrame({})\n",
    "\n",
    "for el in dfgg.iterrows():\n",
    "    if(l.count(int(el[1].cellid))==1):\n",
    "        tmp = pd.DataFrame([[int(el[1].hour), int(el[1].cellid), el[1].smsin, el[1].smsout, el[1].callin, el[1].callout, el[1].internet]], columns=['hour', 'cellid', 'smsin','smsout', 'callin','callout', 'internet'])\n",
    "        df10=df10.append(tmp)\n",
    "\n"
   ]
  },
  {
   "cell_type": "code",
   "execution_count": 6,
   "id": "251dfdbb",
   "metadata": {},
   "outputs": [
    {
     "name": "stdout",
     "output_type": "stream",
     "text": [
      "      cellid       smsin     smsout     callin    callout    internet\n",
      "hour                                                                 \n",
      "0       4273    5.274033   4.612629   1.175696   3.987281  376.656698\n",
      "0       4274    5.309327   4.815926   2.169242   2.349438  235.482651\n",
      "0       4275   13.736824  16.592372   4.075791   6.197356  302.465292\n",
      "0       4276   94.540247  75.061959  18.622495  26.872258  576.316362\n",
      "0       4277  128.004822  92.299175  24.826640  35.176368  674.116411\n",
      "...      ...         ...        ...        ...        ...         ...\n",
      "239     5178    7.079475   5.160725   4.407656   1.727244  335.069609\n",
      "239     5179    8.316477   5.048183   4.181287   2.045839  350.433594\n",
      "239     5180    9.565491   6.083170   3.077989   3.371633  359.659132\n",
      "239     5181    8.292050   4.566094   2.691010   2.742752  321.769054\n",
      "239     5182    3.034287   1.182458   1.139238   0.945481  115.215237\n",
      "\n",
      "[24000 rows x 6 columns]\n"
     ]
    }
   ],
   "source": [
    "df10 = df10.set_index(['hour']).sort_index()\n",
    "print(df10)"
   ]
  },
  {
   "cell_type": "code",
   "execution_count": 7,
   "id": "644aeebd",
   "metadata": {},
   "outputs": [],
   "source": [
    "cells = df10.cellid\n",
    "scaler=MinMaxScaler()\n",
    "scaled = pd.DataFrame(scaler.fit_transform(df10), columns=df10.columns, index=df10.index)"
   ]
  },
  {
   "cell_type": "code",
   "execution_count": 8,
   "id": "2ad2e6d8",
   "metadata": {},
   "outputs": [
    {
     "name": "stdout",
     "output_type": "stream",
     "text": [
      "      cellid     smsin    smsout    callin   callout  internet\n",
      "hour                                                          \n",
      "0       4273  0.001985  0.002018  0.001058  0.003146  0.032379\n",
      "0       4274  0.001999  0.002107  0.001953  0.001854  0.020054\n",
      "0       4275  0.005171  0.007260  0.003669  0.004889  0.025902\n",
      "0       4276  0.035589  0.032842  0.016766  0.021200  0.049810\n",
      "0       4277  0.048186  0.040384  0.022351  0.027752  0.058348\n",
      "...      ...       ...       ...       ...       ...       ...\n",
      "239     5178  0.002665  0.002258  0.003968  0.001363  0.028748\n",
      "239     5179  0.003131  0.002209  0.003764  0.001614  0.030090\n",
      "239     5180  0.003601  0.002662  0.002771  0.002660  0.030895\n",
      "239     5181  0.003121  0.001998  0.002423  0.002164  0.027587\n",
      "239     5182  0.001142  0.000517  0.001026  0.000746  0.009554\n",
      "\n",
      "[24000 rows x 6 columns]\n"
     ]
    }
   ],
   "source": [
    "dfgg=scaled\n",
    "dfgg['cellid']=cells\n",
    "print(dfgg)"
   ]
  },
  {
   "cell_type": "code",
   "execution_count": 9,
   "id": "d02e18a0",
   "metadata": {},
   "outputs": [],
   "source": [
    "dfgg.to_csv(\"./csv/normalized10x10.csv\")\n",
    "dfgr = dfgg"
   ]
  },
  {
   "cell_type": "code",
   "execution_count": 10,
   "id": "95cd269b",
   "metadata": {},
   "outputs": [],
   "source": [
    "#dfgr.describe()\n",
    "#########################################################\n",
    "#From 01-11 to 10-11 (01,02,03 are weekend/festive days)#\n",
    "#########################################################"
   ]
  },
  {
   "cell_type": "code",
   "execution_count": 11,
   "id": "46d718f1",
   "metadata": {},
   "outputs": [
    {
     "data": {
      "image/png": "[encoded data removed]",
      "text/plain": [
       "<Figure size 900x600 with 1 Axes>"
      ]
     },
     "metadata": {
      "needs_background": "light"
     },
     "output_type": "display_data"
    }
   ],
   "source": [
    "#Office area - industrial zone\n",
    "ydatai1 = dfgg['internet']\n",
    "xdatai1 = dfgg['internet'].index\n",
    "###########################################################\n",
    "f = plt.figure(dpi=150)\n",
    "plt.plot(xdatai1, ydatai1, color='black', linewidth=1, linestyle='-')\n",
    "plt.title(\"Internet\")\n",
    "plt.xlabel(\"Time [hour]\")\n",
    "plt.ylabel(\"Traffic generated\")\n",
    "plt.xticks([0, 24, 48, 72, 96, 120, 144, 168, 192, 216, 240])\n",
    "#plt.legend()\n",
    "sns.despine()\n",
    "#plt.savefig('./wday-time/int-work-full.png')\n",
    "plt.show()"
   ]
  },
  {
   "cell_type": "code",
   "execution_count": 12,
   "id": "stuffed-worship",
   "metadata": {},
   "outputs": [
    {
     "data": {
      "image/png": "[encoded data removed]",
      "text/plain": [
       "<Figure size 900x600 with 1 Axes>"
      ]
     },
     "metadata": {
      "needs_background": "light"
     },
     "output_type": "display_data"
    }
   ],
   "source": [
    "#Office area - industrial zone\n",
    "ydatai1 = dfgg['smsin']\n",
    "xdatai1 = dfgg['smsin'].index\n",
    "ydatai2 = dfgg['smsout']\n",
    "xdatai2 = dfgg['smsout'].index\n",
    "###########################################################\n",
    "f = plt.figure(dpi=150)\n",
    "plt.plot(xdatai1, ydatai1, color='red', linewidth=1, linestyle='-', label='sms-in')\n",
    "plt.plot(xdatai2, ydatai2, color='black', linewidth=1, linestyle='-', label='sms-out')\n",
    "plt.title(\"SMS\")\n",
    "plt.xlabel(\"Time [hour]\")\n",
    "plt.ylabel(\"Traffic generated\")\n",
    "plt.xticks([0, 24, 48, 72, 96, 120, 144, 168, 192, 216, 240])\n",
    "plt.legend()\n",
    "sns.despine()\n",
    "#plt.savefig('./wday-time/int-work-full.png')\n",
    "plt.show()"
   ]
  },
  {
   "cell_type": "code",
   "execution_count": 13,
   "id": "390a417c",
   "metadata": {},
   "outputs": [
    {
     "data": {
      "image/png": "[encoded data removed]",
      "text/plain": [
       "<Figure size 900x600 with 1 Axes>"
      ]
     },
     "metadata": {
      "needs_background": "light"
     },
     "output_type": "display_data"
    }
   ],
   "source": [
    "#Office area - industrial zone\n",
    "ydatai1 = dfgg['callin']\n",
    "xdatai1 = dfgg['callin'].index\n",
    "ydatai2 = dfgg['callout']\n",
    "xdatai2 = dfgg['callout'].index\n",
    "###########################################################\n",
    "f = plt.figure(dpi=150)\n",
    "plt.plot(xdatai1, ydatai1, color='black', linewidth=1, linestyle='-', label='call-in')\n",
    "plt.plot(xdatai2, ydatai2, color='red', linewidth=1, linestyle='-', label='call-out')\n",
    "plt.title(\"Calls\")\n",
    "plt.xlabel(\"Time [hour]\")\n",
    "plt.ylabel(\"Traffic generated\")\n",
    "plt.xticks([0, 24, 48, 72, 96, 120, 144, 168, 192, 216, 240])\n",
    "plt.legend()\n",
    "sns.despine()\n",
    "#plt.savefig('./wday-time/int-work-full.png')\n",
    "plt.show()"
   ]
  },
  {
   "cell_type": "code",
   "execution_count": 12,
   "id": "designing-cincinnati",
   "metadata": {},
   "outputs": [
    {
     "name": "stdout",
     "output_type": "stream",
     "text": [
      "CELL 3586 - office area\n"
     ]
    }
   ],
   "source": [
    "print(\"CELL 3420 - office area\")"
   ]
  },
  {
   "cell_type": "code",
   "execution_count": 14,
   "id": "rough-championship",
   "metadata": {
    "scrolled": false
   },
   "outputs": [
    {
     "data": {
      "image/png": "[encoded data removed]",
      "text/plain": [
       "<Figure size 900x600 with 1 Axes>"
      ]
     },
     "metadata": {
      "needs_background": "light"
     },
     "output_type": "display_data"
    }
   ],
   "source": [
    "#Office area - industrial zone\n",
    "ydatai1 = dfgr[dfgr.cellid==3420]['internet']\n",
    "xdatai1 = dfgr[dfgr.cellid==3420]['internet'].index\n",
    "###########################################################\n",
    "f = plt.figure(dpi=150)\n",
    "plt.plot(xdatai1, ydatai1, color='black', linewidth=1, linestyle='-', label='Office area - data')\n",
    "plt.title(\"Internet Connections - Working area\")\n",
    "plt.xlabel(\"Time [hour]\")\n",
    "plt.ylabel(\"Internet Connections [#]\")\n",
    "plt.xticks([0, 24, 48, 72, 96, 120, 144, 168, 192, 216, 240])\n",
    "plt.legend()\n",
    "sns.despine()\n",
    "#plt.savefig('./wday-time/int-work-full.png')\n",
    "plt.close('all')\n",
    "###########################################################\n",
    "f = plt.figure(dpi=150)\n",
    "plt.plot(xdatai1, ydatai1, color='black', linewidth=1, linestyle='-', label='Office area - data')\n",
    "plt.title(\"Internet Connections - Milan\")\n",
    "plt.xlabel(\"Time [hour]\")\n",
    "plt.ylabel(\"Internet Connections [#]\")\n",
    "plt.xlim([96,96+24]) #working day - weekday\n",
    "plt.xticks(hours_of_interest, normalized)\n",
    "#plt.ylim([0,4000])\n",
    "plt.legend()\n",
    "sns.despine() #removes right and top spines from the plot\n",
    "#plt.savefig('./wday-time/int-work.png')\n",
    "plt.show()"
   ]
  },
  {
   "cell_type": "code",
   "execution_count": null,
   "id": "prime-billy",
   "metadata": {},
   "outputs": [],
   "source": [
    "\n",
    "ydatasi1 = dfgr[dfgr.cellid==3420]['smsin']\n",
    "xdatasi1 = dfgr[dfgr.cellid==3420]['smsin'].index\n",
    "###########################################################\n",
    "f = plt.figure(dpi=150)\n",
    "plt.plot(xdatasi1, ydatasi1, color='black', linewidth=1, linestyle='-', label='Office area - data')\n",
    "plt.title(\"Incoming SMS - working area\")\n",
    "plt.xlabel(\"Time [hour]\")\n",
    "plt.ylabel(\"Incoming SMS [#]\")\n",
    "plt.xticks([0, 24, 48, 72, 96, 120, 144, 168, 192, 216, 240])\n",
    "plt.legend()\n",
    "sns.despine()\n",
    "#plt.savefig('./wday-time/smsin-work-full.png')\n",
    "plt.close('all')\n",
    "###########################################################\n",
    "f = plt.figure(dpi=150)\n",
    "plt.plot(xdatasi1, ydatasi1, color='black', linewidth=1, linestyle='-', label='Office area - data')\n",
    "plt.title(\"Incoming SMS - working area\")\n",
    "plt.xlabel(\"Time [hour]\")\n",
    "plt.ylabel(\"Incoming SMS [#]\")\n",
    "plt.xlim([96,96+24])\n",
    "plt.xticks(hours_of_interest, normalized)\n",
    "#plt.ylim([0,4000])\n",
    "plt.legend()\n",
    "sns.despine()\n",
    "#plt.savefig('./wday-time/smsin-work.png')\n",
    "plt.show()"
   ]
  },
  {
   "cell_type": "code",
   "execution_count": null,
   "id": "strategic-cross",
   "metadata": {},
   "outputs": [],
   "source": [
    "\n",
    "ydataso1 = dfgr[dfgr.cellid==3586]['smsout']\n",
    "xdataso1 = dfgr[dfgr.cellid==3586]['smsout'].index\n",
    "###########################################################\n",
    "f = plt.figure(dpi=150)\n",
    "plt.plot(xdataso1, ydataso1, color='black', linewidth=1, linestyle='-', label='Office area - data')\n",
    "plt.title(\"Outgoing SMS - working area\")\n",
    "plt.xlabel(\"Time [hour]\")\n",
    "plt.ylabel(\"Outgoing SMS [#]\")\n",
    "plt.xticks([0, 24, 48, 72, 96, 120, 144, 168, 192, 216, 240])\n",
    "plt.legend()\n",
    "sns.despine()\n",
    "#plt.savefig('./wday-time/smsout-work-full.png')\n",
    "plt.close('all')\n",
    "###########################################################\n",
    "f = plt.figure(dpi=150)\n",
    "plt.plot(xdataso1, ydataso1, color='black', linewidth=1, linestyle='-', label='Office area - data')\n",
    "plt.title(\"Outgoing SMS - working area\")\n",
    "plt.xlabel(\"Time [hour]\")\n",
    "plt.ylabel(\"Outgoing SMS [#]\")\n",
    "plt.xlim([96,96+24])\n",
    "plt.xticks(hours_of_interest, normalized)\n",
    "#plt.ylim([0,4000])\n",
    "plt.legend()\n",
    "sns.despine()\n",
    "#plt.savefig('./wday-time/smsout-work.png')\n",
    "plt.show()"
   ]
  },
  {
   "cell_type": "code",
   "execution_count": null,
   "id": "assigned-phone",
   "metadata": {},
   "outputs": [],
   "source": [
    "\n",
    "ydataci1 = dfgr[dfgr.cellid==3586]['callin']\n",
    "xdataci1 = dfgr[dfgr.cellid==3586]['callin'].index\n",
    "###########################################################\n",
    "f = plt.figure(dpi=150)\n",
    "plt.plot(xdataci1, ydataci1, color='black', linewidth=1, linestyle='-', label='Office area - data')\n",
    "plt.title(\"Incoming calls - working area\")\n",
    "plt.xlabel(\"Time [hour]\")\n",
    "plt.ylabel(\"Incoming calls [#]\")\n",
    "plt.xticks([0, 24, 48, 72, 96, 120, 144, 168, 192, 216, 240])\n",
    "plt.legend()\n",
    "sns.despine()\n",
    "#plt.savefig('./wday-time/callin-work-full.png')\n",
    "plt.close('all')\n",
    "###########################################################\n",
    "f = plt.figure(dpi=150)\n",
    "plt.plot(xdataci1, ydataci1, color='black', linewidth=1, linestyle='-', label='Office area - data')\n",
    "plt.title(\"Incoming calls - working area\")\n",
    "plt.xlabel(\"Time [hour]\")\n",
    "plt.ylabel(\"Incoming calls [#]\")\n",
    "plt.xlim([96,96+24])\n",
    "plt.xticks(hours_of_interest, normalized)\n",
    "#plt.xlim([0,168])\n",
    "#plt.ylim([0,4000])\n",
    "plt.legend()\n",
    "sns.despine()\n",
    "#plt.savefig('./wday-time/callin-work.png')\n",
    "plt.show()"
   ]
  },
  {
   "cell_type": "code",
   "execution_count": null,
   "id": "otherwise-pitch",
   "metadata": {},
   "outputs": [],
   "source": [
    "\n",
    "ydataco1 = dfgr[dfgr.cellid==3586]['callout']\n",
    "xdataco1 = dfgr[dfgr.cellid==3586]['callout'].index\n",
    "###########################################################\n",
    "f = plt.figure(dpi=150)\n",
    "plt.plot(xdataco1, ydataco1, color='black', linewidth=1, linestyle='-', label='Office area - data')\n",
    "plt.title(\"Outgoing calls - working area\")\n",
    "plt.xlabel(\"Time [hour]\")\n",
    "plt.ylabel(\"Outgoing calls [#]\")\n",
    "plt.xticks([0, 24, 48, 72, 96, 120, 144, 168, 192, 216, 240])\n",
    "plt.legend()\n",
    "sns.despine()\n",
    "#plt.savefig('./wday-time/callout-work-full.png')\n",
    "plt.close('all')\n",
    "###########################################################\n",
    "f = plt.figure(dpi=150)\n",
    "plt.plot(xdataco1, ydataco1, color='black', linewidth=1, linestyle='-', label='Office area - data')\n",
    "plt.title(\"Outgoing calls - working area\")\n",
    "plt.xlabel(\"Time [hour]\")\n",
    "plt.ylabel(\"Outgoing calls [#]\")\n",
    "plt.xlim([96,96+24])\n",
    "plt.xticks(hours_of_interest, normalized)\n",
    "#plt.ylim([0,4000])\n",
    "plt.legend()\n",
    "sns.despine()\n",
    "#plt.savefig('./wday-time/callout-work.png')\n",
    "plt.show()"
   ]
  },
  {
   "cell_type": "code",
   "execution_count": null,
   "id": "bigger-lambda",
   "metadata": {},
   "outputs": [],
   "source": [
    "print(\"CELL 4283 - transport area - highway\")"
   ]
  },
  {
   "cell_type": "code",
   "execution_count": null,
   "id": "former-petersburg",
   "metadata": {},
   "outputs": [],
   "source": [
    "#Transport area (highway) data\n",
    "ydatai2 = dfgr[dfgr.cellid==4283]['internet']\n",
    "xdatai2 = dfgr[dfgr.cellid==4283]['internet'].index\n",
    "###########################################################\n",
    "f = plt.figure(dpi=150)\n",
    "plt.plot(xdatai2, ydatai2, color='black', linewidth=1, linestyle='-', label='Highway - data')\n",
    "plt.title(\"Internet Connections - Transport area\")\n",
    "plt.xlabel(\"Time [hour]\")\n",
    "plt.ylabel(\"Internet Connections [#]\")\n",
    "plt.xticks([0, 24, 48, 72, 96, 120, 144, 168, 192, 216, 240])\n",
    "plt.legend()\n",
    "sns.despine()\n",
    "#plt.savefig('./wday-time/int-trans-full.png')\n",
    "plt.close('all')\n",
    "###########################################################\n",
    "f = plt.figure(dpi=150)\n",
    "plt.plot(xdatai2, ydatai2, color='black', linewidth=1, linestyle='-', label='Highway - data')\n",
    "plt.title(\"Internet Connections - Transport area\")\n",
    "plt.xlabel(\"Time [hour]\")\n",
    "plt.ylabel(\"Internet Connections [#]\")\n",
    "plt.xlim([96,96+24])\n",
    "plt.xticks(hours_of_interest, normalized)\n",
    "#plt.ylim([0,4000])\n",
    "plt.legend()\n",
    "sns.despine()\n",
    "#plt.savefig('./wday-time/int-trans.png')\n",
    "plt.show()"
   ]
  },
  {
   "cell_type": "code",
   "execution_count": null,
   "id": "creative-spokesman",
   "metadata": {},
   "outputs": [],
   "source": [
    "\n",
    "ydatasi2 = dfgr[dfgr.cellid==4283]['smsin']\n",
    "xdatasi2 = dfgr[dfgr.cellid==4283]['smsin'].index\n",
    "###########################################################\n",
    "f = plt.figure(dpi=150)\n",
    "plt.plot(xdatasi2, ydatasi2, color='black', linewidth=1, linestyle='-', label='Highway - data')\n",
    "plt.title(\"Incoming SMS - transport area\")\n",
    "plt.xlabel(\"Time [hour]\")\n",
    "plt.ylabel(\"Incoming SMS [#]\")\n",
    "plt.xticks([0, 24, 48, 72, 96, 120, 144, 168, 192, 216, 240])\n",
    "plt.legend()\n",
    "sns.despine()\n",
    "#plt.savefig('./wday-time/smsin-trans-full.png')\n",
    "plt.close('all')\n",
    "###########################################################\n",
    "f = plt.figure(dpi=150)\n",
    "plt.plot(xdatasi2, ydatasi2, color='black', linewidth=1, linestyle='-', label='Highway - data')\n",
    "plt.title(\"Incoming SMS - transport area\")\n",
    "plt.xlabel(\"Time [hour]\")\n",
    "plt.ylabel(\"Incoming SMS [#]\")\n",
    "plt.xlim([96,96+24])\n",
    "plt.xticks(hours_of_interest, normalized)\n",
    "#plt.ylim([0,4000])\n",
    "plt.legend()\n",
    "sns.despine()\n",
    "#plt.savefig('./wday-time/smsin-trans.png')\n",
    "plt.show()"
   ]
  },
  {
   "cell_type": "code",
   "execution_count": null,
   "id": "historic-cancellation",
   "metadata": {},
   "outputs": [],
   "source": [
    "\n",
    "ydataso2 = dfgr[dfgr.cellid==4283]['smsout']\n",
    "xdataso2 = dfgr[dfgr.cellid==4283]['smsout'].index\n",
    "###########################################################\n",
    "f = plt.figure(dpi=150)\n",
    "plt.plot(xdataso2, ydataso2, color='black', linewidth=1, linestyle='-', label='Highway - data')\n",
    "plt.title(\"Outgoing SMS - transport area\")\n",
    "plt.xlabel(\"Time [hour]\")\n",
    "plt.ylabel(\"Outgoing SMS [#]\")\n",
    "plt.xticks([0, 24, 48, 72, 96, 120, 144, 168, 192, 216, 240])\n",
    "plt.legend()\n",
    "sns.despine()\n",
    "#plt.savefig('./wday-time/smsout-trans-full.png')\n",
    "plt.close('all')\n",
    "###########################################################\n",
    "f = plt.figure(dpi=150)\n",
    "plt.plot(xdataso2, ydataso2, color='black', linewidth=1, linestyle='-', label='Highway - data')\n",
    "plt.title(\"Outgoing SMS - transport area\")\n",
    "plt.xlabel(\"Time [hour]\")\n",
    "plt.ylabel(\"Outgoing SMS [#]\")\n",
    "plt.xlim([96,96+24])\n",
    "plt.xticks(hours_of_interest, normalized)\n",
    "#plt.ylim([0,4000])\n",
    "plt.legend()\n",
    "sns.despine()\n",
    "#plt.savefig('./wday-time/smsout-trans.png')\n",
    "plt.show()"
   ]
  },
  {
   "cell_type": "code",
   "execution_count": null,
   "id": "wrapped-prize",
   "metadata": {
    "scrolled": false
   },
   "outputs": [],
   "source": [
    "\n",
    "ydataci2 = dfgr[dfgr.cellid==4283]['callin']\n",
    "xdataci2 = dfgr[dfgr.cellid==4283]['callin'].index\n",
    "###########################################################\n",
    "f = plt.figure(dpi=150)\n",
    "plt.plot(xdataci2, ydataci2, color='black', linewidth=1, linestyle='-', label='Highway - data')\n",
    "plt.title(\"Incoming calls - transport area\")\n",
    "plt.xlabel(\"Time [hour]\")\n",
    "plt.ylabel(\"Incoming calls [#]\")\n",
    "plt.xticks([0, 24, 48, 72, 96, 120, 144, 168, 192, 216, 240])\n",
    "plt.legend()\n",
    "sns.despine()\n",
    "#plt.savefig('./wday-time/callin-trans-full.png')\n",
    "plt.close('all')\n",
    "###########################################################\n",
    "f = plt.figure(dpi=150)\n",
    "plt.plot(xdataci2, ydataci2, color='black', linewidth=1, linestyle='-', label='Highway - data')\n",
    "plt.title(\"Incoming calls - transport area\")\n",
    "plt.xlabel(\"Time [hour]\")\n",
    "plt.ylabel(\"Incoming calls [#]\")\n",
    "plt.xlim([96,96+24])\n",
    "plt.xticks(hours_of_interest, normalized)\n",
    "#plt.ylim([0,4000])\n",
    "plt.legend()\n",
    "sns.despine()\n",
    "#plt.savefig('./wday-time/callin-trans.png')\n",
    "plt.show()"
   ]
  },
  {
   "cell_type": "code",
   "execution_count": null,
   "id": "capital-librarian",
   "metadata": {},
   "outputs": [],
   "source": [
    "\n",
    "ydataco2 = dfgr[dfgr.cellid==4283]['callout']\n",
    "xdataco2 = dfgr[dfgr.cellid==4283]['callout'].index\n",
    "###########################################################\n",
    "f = plt.figure(dpi=150)\n",
    "plt.plot(xdataco2, ydataco2, color='black', linewidth=1, linestyle='-', label='Highway - data')\n",
    "plt.title(\"Outgoing calls - transport area\")\n",
    "plt.xlabel(\"Time [hour]\")\n",
    "plt.ylabel(\"Outgoing calls [#]\")\n",
    "plt.xticks([0, 24, 48, 72, 96, 120, 144, 168, 192, 216, 240])\n",
    "plt.legend()\n",
    "sns.despine()\n",
    "#plt.savefig('./wday-time/callout-trans-full.png')\n",
    "plt.close('all')\n",
    "###########################################################\n",
    "f = plt.figure(dpi=150)\n",
    "plt.plot(xdataco2, ydataco2, color='black', linewidth=1, linestyle='-', label='Highway - data')\n",
    "plt.title(\"Outgoing calls - transport area\")\n",
    "plt.xlabel(\"Time [hour]\")\n",
    "plt.ylabel(\"Outgoing calls [#]\")\n",
    "plt.xlim([96,96+24])\n",
    "plt.xticks(hours_of_interest, normalized)\n",
    "#plt.ylim([0,4000])\n",
    "plt.legend()\n",
    "sns.despine()\n",
    "#plt.savefig('./wday-time/callout-trans.png')\n",
    "plt.show()"
   ]
  },
  {
   "cell_type": "code",
   "execution_count": null,
   "id": "herbal-superior",
   "metadata": {},
   "outputs": [],
   "source": [
    "print(\"CELL 5343 - home area - Via Rembrandt\")"
   ]
  },
  {
   "cell_type": "code",
   "execution_count": null,
   "id": "harmful-williams",
   "metadata": {},
   "outputs": [],
   "source": [
    "#Home area (near Via Rembrandt) data\n",
    "ydatai3 = dfgr[dfgr.cellid==5343]['internet']\n",
    "xdatai3 = dfgr[dfgr.cellid==5343]['internet'].index\n",
    "###########################################################\n",
    "f = plt.figure(dpi=150)\n",
    "plt.plot(xdatai3, ydatai3, color='black', linewidth=1, linestyle='-', label='Via Rembrandt - data')\n",
    "plt.title(\"Internet Connections - Home area\")\n",
    "plt.xlabel(\"Time [hour]\")\n",
    "plt.ylabel(\"Internet Connections [#]\")\n",
    "plt.xticks([0, 24, 48, 72, 96, 120, 144, 168, 192, 216, 240])\n",
    "plt.legend()\n",
    "sns.despine()\n",
    "#plt.savefig('./wday-time/int-home-full.png')\n",
    "plt.close('all')\n",
    "##########################################################\n",
    "f = plt.figure(dpi=150)\n",
    "plt.plot(xdatai3, ydatai3, color='black', linewidth=1, linestyle='-', label='Via Rembrandt - data')\n",
    "plt.title(\"Internet Connections - Home area\")\n",
    "plt.xlabel(\"Time [hour]\")\n",
    "plt.ylabel(\"Internet Connections [#]\")\n",
    "plt.xlim([96,96+24])\n",
    "plt.xticks(hours_of_interest, normalized)\n",
    "#plt.ylim([0,4000])\n",
    "plt.legend()\n",
    "sns.despine()\n",
    "#plt.savefig('./wday-time/int-home.png')\n",
    "plt.show()"
   ]
  },
  {
   "cell_type": "code",
   "execution_count": null,
   "id": "royal-brown",
   "metadata": {},
   "outputs": [],
   "source": [
    "\n",
    "ydatasi3 = dfgr[dfgr.cellid==5343]['smsin']\n",
    "xdatasi3 = dfgr[dfgr.cellid==5343]['smsin'].index\n",
    "###########################################################\n",
    "f = plt.figure(dpi=150)\n",
    "plt.plot(xdatasi3, ydatasi3, color='black', linewidth=1, linestyle='-', label='Via Rembrandt - data')\n",
    "plt.title(\"Incoming SMS - Home area\")\n",
    "plt.xlabel(\"Time [hour]\")\n",
    "plt.ylabel(\"Incoming SMS [#]\")\n",
    "plt.xticks([0, 24, 48, 72, 96, 120, 144, 168, 192, 216, 240])\n",
    "plt.legend()\n",
    "sns.despine()\n",
    "#plt.savefig('./wday-time/smsin-home-full.png')\n",
    "plt.close('all')\n",
    "###########################################################\n",
    "f = plt.figure(dpi=150)\n",
    "plt.plot(xdatasi3, ydatasi3, color='black', linewidth=1, linestyle='-', label='Via Rembrandt - data')\n",
    "plt.title(\"Incoming SMS - Home area\")\n",
    "plt.xlabel(\"Time [hour]\")\n",
    "plt.ylabel(\"Incoming SMS [#]\")\n",
    "plt.xlim([96,96+24])\n",
    "plt.xticks(hours_of_interest, normalized)\n",
    "#plt.ylim([0,4000])\n",
    "plt.legend()\n",
    "sns.despine()\n",
    "#plt.savefig('./wday-time/smsin-home.png')\n",
    "plt.show()"
   ]
  },
  {
   "cell_type": "code",
   "execution_count": null,
   "id": "mighty-electronics",
   "metadata": {},
   "outputs": [],
   "source": [
    "\n",
    "ydataso3 = dfgr[dfgr.cellid==5343]['smsout']\n",
    "xdataso3 = dfgr[dfgr.cellid==5343]['smsout'].index\n",
    "###########################################################\n",
    "f = plt.figure(dpi=150)\n",
    "plt.plot(xdataso3, ydataso3, color='black', linewidth=1, linestyle='-', label='Via Rembrandt - data')\n",
    "plt.title(\"Outgoing SMS - Home area\")\n",
    "plt.xlabel(\"Time [hour]\")\n",
    "plt.ylabel(\"Outgoing SMS [#]\")\n",
    "plt.xticks([0, 24, 48, 72, 96, 120, 144, 168, 192, 216, 240])\n",
    "plt.legend()\n",
    "sns.despine()\n",
    "#plt.savefig('./wday-time/smsout-home-full.png')\n",
    "plt.close('all')\n",
    "###########################################################\n",
    "f = plt.figure(dpi=150)\n",
    "plt.plot(xdataso3, ydataso3, color='black', linewidth=1, linestyle='-', label='Via Rembrandt - data')\n",
    "plt.title(\"Outgoing SMS - Home area\")\n",
    "plt.xlabel(\"Time [hour]\")\n",
    "plt.ylabel(\"Outgoing SMS [#]\")\n",
    "plt.xlim([96,96+24])\n",
    "plt.xticks(hours_of_interest, normalized)\n",
    "#plt.ylim([0,4000])\n",
    "plt.legend()\n",
    "sns.despine()\n",
    "#plt.savefig('./wday-time/smsout-home.png')\n",
    "plt.show()"
   ]
  },
  {
   "cell_type": "code",
   "execution_count": null,
   "id": "complicated-queens",
   "metadata": {},
   "outputs": [],
   "source": [
    "\n",
    "ydataci3 = dfgr[dfgr.cellid==5343]['callin']\n",
    "xdataci3 = dfgr[dfgr.cellid==5343]['callin'].index\n",
    "###########################################################\n",
    "f = plt.figure(dpi=150)\n",
    "plt.plot(xdataci3, ydataci3, color='black', linewidth=1, linestyle='-', label='Via Rembrandt - data')\n",
    "plt.title(\"Incoming calls - Home area\")\n",
    "plt.xlabel(\"Time [hour]\")\n",
    "plt.ylabel(\"Incoming calls [#]\")\n",
    "plt.xticks([0, 24, 48, 72, 96, 120, 144, 168, 192, 216, 240])\n",
    "plt.legend()\n",
    "sns.despine()\n",
    "#plt.savefig('./wday-time/callin-home-full.png')\n",
    "plt.close('all')\n",
    "###########################################################\n",
    "f = plt.figure(dpi=150)\n",
    "plt.plot(xdataci3, ydataci3, color='black', linewidth=1, linestyle='-', label='Via Rembrandt - data')\n",
    "plt.title(\"Incoming calls - Home area\")\n",
    "plt.xlabel(\"Time [hour]\")\n",
    "plt.ylabel(\"Incoming calls [#]\")\n",
    "plt.xlim([96,96+24])\n",
    "plt.xticks(hours_of_interest, normalized)\n",
    "#plt.ylim([0,4000])\n",
    "plt.legend()\n",
    "sns.despine()\n",
    "#plt.savefig('./wday-time/callin-home.png')\n",
    "plt.show()"
   ]
  },
  {
   "cell_type": "code",
   "execution_count": null,
   "id": "confused-liverpool",
   "metadata": {},
   "outputs": [],
   "source": [
    "\n",
    "ydataco3 = dfgr[dfgr.cellid==5343]['callout']\n",
    "xdataco3 = dfgr[dfgr.cellid==5343]['callout'].index\n",
    "###########################################################\n",
    "f = plt.figure(dpi=150)\n",
    "plt.plot(xdataco3, ydataco3, color='black', linewidth=1, linestyle='-', label='Via Rembrandt - data')\n",
    "plt.title(\"Outgoing calls - home area\")\n",
    "plt.xlabel(\"Time [hour]\")\n",
    "plt.ylabel(\"Outgoing calls [#]\")\n",
    "plt.xticks([0, 24, 48, 72, 96, 120, 144, 168, 192, 216, 240])\n",
    "plt.legend()\n",
    "sns.despine()\n",
    "#plt.savefig('./wday-time/callout-home-full.png')\n",
    "plt.close('all')\n",
    "###########################################################\n",
    "f = plt.figure(dpi=150)\n",
    "plt.plot(xdataco3, ydataco3, color='black', linewidth=1, linestyle='-', label='Via Rembrandt - data')\n",
    "plt.title(\"Outgoing calls - Home area\")\n",
    "plt.xlabel(\"Time [hour]\")\n",
    "plt.ylabel(\"Outgoing calls [#]\")\n",
    "plt.xlim([96,96+24])\n",
    "plt.xticks(hours_of_interest, normalized)\n",
    "#plt.ylim([0,4000])\n",
    "plt.legend()\n",
    "sns.despine()\n",
    "#plt.savefig('./wday-time/callout-home.png')\n",
    "plt.show()"
   ]
  },
  {
   "cell_type": "code",
   "execution_count": null,
   "id": "rocky-ontario",
   "metadata": {
    "scrolled": false
   },
   "outputs": [],
   "source": [
    "f = plt.figure(dpi=150)\n",
    "plt.plot(xdatai1, ydatai1, color='red', linewidth=1, linestyle='-', label='Office - data')\n",
    "plt.plot(xdatai2, ydatai2, color='green', linewidth=1, linestyle='-', label='Transport - data')\n",
    "plt.plot(xdatai3, ydatai3, color='blue', linewidth=1, linestyle='-', label='Home - data')\n",
    "plt.title(\"Internet traffic\")\n",
    "plt.xlabel(\"Time [hour]\")\n",
    "plt.ylabel(\"Internet connections [#]\")\n",
    "plt.xlim([96,96+24])\n",
    "plt.xticks(hours_of_interest, normalized)\n",
    "plt.legend()\n",
    "sns.despine()\n",
    "plt.savefig('./wday-time/internet-comparative2.png')\n",
    "plt.show()"
   ]
  },
  {
   "cell_type": "code",
   "execution_count": null,
   "id": "circular-ministry",
   "metadata": {},
   "outputs": [],
   "source": [
    "f = plt.figure(dpi=150)\n",
    "plt.plot(xdatasi1, ydatasi1, color='red', linewidth=1, linestyle='-', label='Office - data')\n",
    "plt.plot(xdatasi2, ydatasi2, color='green', linewidth=1, linestyle='-', label='Transport - data')\n",
    "plt.plot(xdatasi3, ydatasi3, color='blue', linewidth=1, linestyle='-', label='Home - data')\n",
    "plt.title(\"Incoming SMS\")\n",
    "plt.xlabel(\"Time [hour]\")\n",
    "plt.ylabel(\"Incoming SMS [#]\")\n",
    "plt.xlim([96,96+24])\n",
    "plt.xticks(hours_of_interest, normalized)\n",
    "plt.legend()\n",
    "sns.despine()\n",
    "plt.savefig('./wday-time/smsin-comparative2.png')\n",
    "plt.show()"
   ]
  },
  {
   "cell_type": "code",
   "execution_count": null,
   "id": "working-robert",
   "metadata": {},
   "outputs": [],
   "source": [
    "f = plt.figure(dpi=150)\n",
    "plt.plot(xdataso1, ydataso1, color='red', linewidth=1, linestyle='-', label='Office - data')\n",
    "plt.plot(xdataso2, ydataso2, color='green', linewidth=1, linestyle='-', label='Transport - data')\n",
    "plt.plot(xdataso3, ydataso3, color='blue', linewidth=1, linestyle='-', label='Home - data')\n",
    "plt.title(\"Outgoing SMS\")\n",
    "plt.xlabel(\"Time [hour]\")\n",
    "plt.ylabel(\"Outgoing SMS [#]\")\n",
    "plt.xlim([96,96+24])\n",
    "plt.xticks(hours_of_interest, normalized)\n",
    "plt.legend()\n",
    "sns.despine()\n",
    "plt.savefig('./wday-time/smsout-comparative2.png')\n",
    "plt.show()"
   ]
  },
  {
   "cell_type": "code",
   "execution_count": null,
   "id": "indirect-russian",
   "metadata": {},
   "outputs": [],
   "source": [
    "f = plt.figure(dpi=150)\n",
    "plt.plot(xdataci1, ydataci1, color='red', linewidth=1, linestyle='-', label='Office - data')\n",
    "plt.plot(xdataci2, ydataci2, color='green', linewidth=1, linestyle='-', label='Transport - data')\n",
    "plt.plot(xdataci3, ydataci3, color='blue', linewidth=1, linestyle='-', label='Home - data')\n",
    "plt.title(\"Incoming calls\")\n",
    "plt.xlabel(\"Time [hour]\")\n",
    "plt.ylabel(\"Incoming calls [#]\")\n",
    "plt.xlim([96,96+24])\n",
    "plt.xticks(hours_of_interest, normalized)\n",
    "plt.legend()\n",
    "sns.despine()\n",
    "plt.savefig('./wday-time/callin-comparative2.png')\n",
    "plt.show()"
   ]
  },
  {
   "cell_type": "code",
   "execution_count": null,
   "id": "fuzzy-consciousness",
   "metadata": {},
   "outputs": [],
   "source": [
    "f = plt.figure(dpi=150)\n",
    "plt.plot(xdataco1, ydataco1, color='red', linewidth=1, linestyle='-', label='Office - data')\n",
    "plt.plot(xdataco2, ydataco2, color='green', linewidth=1, linestyle='-', label='Transport - data')\n",
    "plt.plot(xdataco3, ydataco3, color='blue', linewidth=1, linestyle='-', label='Home - data')\n",
    "plt.title(\"Outgoing calls\")\n",
    "plt.xlabel(\"Time [hour]\")\n",
    "plt.ylabel(\"Outgoing calls [#]\")\n",
    "plt.xlim([96,96+24])\n",
    "plt.xticks(hours_of_interest, normalized)\n",
    "plt.legend()\n",
    "sns.despine()\n",
    "plt.savefig('./wday-time/callout-comparative2.png')\n",
    "plt.show()"
   ]
  }
 ],
 "metadata": {
  "kernelspec": {
   "display_name": "Python 3",
   "language": "python",
   "name": "python3"
  },
  "language_info": {
   "codemirror_mode": {
    "name": "ipython",
    "version": 3
   },
   "file_extension": ".py",
   "mimetype": "text/x-python",
   "name": "python",
   "nbconvert_exporter": "python",
   "pygments_lexer": "ipython3",
   "version": "3.8.5"
  }
 },
 "nbformat": 4,
 "nbformat_minor": 5
}
